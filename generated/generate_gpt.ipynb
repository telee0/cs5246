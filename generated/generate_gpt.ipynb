{
  "nbformat": 4,
  "nbformat_minor": 0,
  "metadata": {
    "colab": {
      "provenance": []
    },
    "kernelspec": {
      "name": "python3",
      "display_name": "Python 3"
    },
    "language_info": {
      "name": "python"
    }
  },
  "cells": [
    {
      "cell_type": "code",
      "execution_count": 10,
      "metadata": {
        "id": "zfqAbzWHTEhb"
      },
      "outputs": [],
      "source": [
        "from openai import OpenAI\n",
        "import os\n",
        "from tqdm import tqdm\n",
        "import json\n",
        "\n",
        "client = OpenAI(api_key=\"\")"
      ]
    },
    {
      "cell_type": "code",
      "source": [
        "json_template = '{\"title\": ..., \"content\":...}'"
      ],
      "metadata": {
        "id": "0dxsvX5RUQ_V"
      },
      "execution_count": 3,
      "outputs": []
    },
    {
      "cell_type": "code",
      "source": [
        "results = []\n",
        "for x in range(417):\n",
        "    prompt = f\"Generate some article about politics in around 384-768 words. output in json format: {json_template}\"\n",
        "    MODEL = \"gpt-3.5-turbo\"\n",
        "    response = client.chat.completions.create(\n",
        "        model=MODEL,\n",
        "        response_format={\"type\": \"json_object\"},\n",
        "        messages=[\n",
        "            {\"role\": \"user\", \"content\": prompt},\n",
        "        ],\n",
        "        temperature=0.9,\n",
        "    )\n",
        "    result = response.choices[0].message.content\n",
        "    result = json.loads(result)\n",
        "    text = f\"{result['title']}\\n{result['content']}\"\n",
        "    filename = f\"gpt_{x}.txt\"\n",
        "    with open(filename, 'w') as file:\n",
        "        file.write(text)\n"
      ],
      "metadata": {
        "id": "nKxbDgkTTGPE"
      },
      "execution_count": 11,
      "outputs": []
    },
    {
      "cell_type": "code",
      "source": [
        "text"
      ],
      "metadata": {
        "colab": {
          "base_uri": "https://localhost:8080/",
          "height": 250
        },
        "id": "q87isEO1VBeT",
        "outputId": "11c45816-6d88-4dfd-99d2-dd10776fdd34"
      },
      "execution_count": 12,
      "outputs": [
        {
          "output_type": "execute_result",
          "data": {
            "text/plain": [
              "\"The Current State of Politics in America\\nPolitics in America have become increasingly polarized in recent years, with the two major parties drifting further apart on key issues. The divide between liberals and conservatives has deepened, leading to a lack of bipartisanship and gridlock in Congress. This has made it difficult for lawmakers to pass important legislation and address pressing issues facing the country. The rise of social media has also played a role in exacerbating political polarization, with echo chambers forming online that reinforce partisan beliefs and create hostility towards those with different viewpoints. In addition, the 24-hour news cycle and sheer volume of information available to the public has made it challenging to discern fact from fiction, leading to a breakdown in trust in the media and government institutions. As a result, many Americans feel disillusioned with the political process and are turning away from traditional political parties. This has created an opening for populist candidates who promise to upend the status quo and bring about real change. The 2016 election of Donald Trump, a political outsider with no prior government experience, is a prime example of this trend. His victory shocked the political establishment and revealed the deep-seated frustrations of many voters with the current state of affairs. On the other side of the aisle, the Democratic Party has also experienced a shift towards more progressive policies and candidates, with figures like Bernie Sanders and Alexandria Ocasio-Cortez gaining popularity among younger voters. The upcoming midterm elections will be a crucial test of the current political climate in America, with many key races being closely watched by observers both at home and abroad. The outcome of these elections will determine the balance of power in Congress and could have far-reaching consequences for the future of the country. Despite the challenges facing the political system, there is still hope for a more constructive and inclusive approach to governance. By engaging with those who hold different views and seeking common ground on important issues, lawmakers can work together to find solutions to the problems facing the nation. It will require a renewed commitment to civility, compromise, and a willingness to put the country's interests above partisan politics. Only by coming together and putting aside personal agendas can we hope to move forward and build a better future for all Americans.\""
            ],
            "application/vnd.google.colaboratory.intrinsic+json": {
              "type": "string"
            }
          },
          "metadata": {},
          "execution_count": 12
        }
      ]
    },
    {
      "cell_type": "code",
      "source": [],
      "metadata": {
        "id": "A7QhAfSVVFvq"
      },
      "execution_count": null,
      "outputs": []
    }
  ]
}