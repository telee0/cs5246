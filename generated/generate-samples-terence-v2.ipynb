{
 "cells": [
  {
   "cell_type": "markdown",
   "id": "157bca2e-96e0-485a-b970-1e0ed0d81eee",
   "metadata": {},
   "source": [
    "### Install related packages\n",
    "- Visit https://pytorch.org/ to install Pytorch libraries and CUDA 12.1 depending on your OS.\n",
    "- Install the transformers library\n",
    "- Ensure to have at least 16GB of GPU RAM"
   ]
  },
  {
   "cell_type": "code",
   "execution_count": 1,
   "id": "a5c75406-a2d2-4d80-a8f3-422b280c5d79",
   "metadata": {
    "tags": []
   },
   "outputs": [],
   "source": [
    "# !pip install transformers"
   ]
  },
  {
   "cell_type": "markdown",
   "id": "9dbd4f36-0d40-46f9-b967-03a4a0beaaad",
   "metadata": {},
   "source": [
    "### Select the model to generate samples"
   ]
  },
  {
   "cell_type": "code",
   "execution_count": 1,
   "id": "db076612-382f-4013-ae14-12cdde1f89b5",
   "metadata": {
    "tags": []
   },
   "outputs": [],
   "source": [
    "# model_name = \"HuggingFaceH4/zephyr-7b-beta\"\n",
    "# model_name = \"mistralai/Mistral-7B-v0.1\"\n",
    "# model_name = \"microsoft/phi-2\"\n",
    "model_name = \"mistralai/Mistral-7B-Instruct-v0.1\""
   ]
  },
  {
   "cell_type": "code",
   "execution_count": 2,
   "id": "798d2918-a09a-4d0e-b9c9-65aecf8113f7",
   "metadata": {
    "tags": []
   },
   "outputs": [
    {
     "name": "stderr",
     "output_type": "stream",
     "text": [
      "C:\\Users\\Terence\\miniconda3\\envs\\cs5246\\lib\\site-packages\\tqdm\\auto.py:21: TqdmWarning: IProgress not found. Please update jupyter and ipywidgets. See https://ipywidgets.readthedocs.io/en/stable/user_install.html\n",
      "  from .autonotebook import tqdm as notebook_tqdm\n",
      "Loading checkpoint shards: 100%|█████████████████████████████████████████████████████████| 2/2 [00:12<00:00,  6.23s/it]\n"
     ]
    }
   ],
   "source": [
    "import torch\n",
    "from transformers import AutoModelForCausalLM, AutoTokenizer\n",
    "device = \"cuda\"\n",
    "\n",
    "model = AutoModelForCausalLM.from_pretrained(model_name, torch_dtype=torch.bfloat16)\n",
    "model.to(device)\n",
    "\n",
    "tokenizer = AutoTokenizer.from_pretrained(model_name)"
   ]
  },
  {
   "cell_type": "code",
   "execution_count": 3,
   "id": "947a3979-ee82-47dc-9ca3-d96ba8d2544b",
   "metadata": {
    "tags": []
   },
   "outputs": [],
   "source": [
    "# Model generation parameters, tweak around max_length and temperature for more creative outputs\n",
    "# https://huggingface.co/docs/transformers/en/main_classes/text_generation#transformers.GenerationConfig\n",
    "generation_parameters = {\n",
    "    \"max_length\": 1024,\n",
    "    \"temperature\": 0.9,\n",
    "    \"top_k\": 5,\n",
    "    \"top_p\": 0.95,\n",
    "    \"repetition_penalty\": 1.2,\n",
    "    \"num_return_sequences\": 1,\n",
    "    \"do_sample\": True,\n",
    "    # \"eos_token_id\": tokenizer.eos_token_id\n",
    "}"
   ]
  },
  {
   "cell_type": "code",
   "execution_count": 4,
   "id": "c06ade3d-81a2-46a6-a0ff-1f3eafd6e4ee",
   "metadata": {
    "tags": []
   },
   "outputs": [],
   "source": [
    "no_words = 512 # no of words to generate\n",
    "topics = ['politics']  # , 'riots']\n",
    "topics = ' or '.join(topics)\n",
    "prompt = f'''\n",
    "Generate some article about {topics} in around {no_words} words.\n",
    "'''\n",
    "model_inputs = tokenizer([prompt], return_tensors=\"pt\").to(device)"
   ]
  },
  {
   "cell_type": "markdown",
   "id": "119df568-fbab-4ff4-bfdd-8138ff72d350",
   "metadata": {},
   "source": [
    "### Generate samples using prompt specifying keywords\n",
    "\n",
    "With suffix `x`, we generate text with the following prompt.\n",
    "\n",
    "prompt = \"Generate some news articles about politics using keywords {keywords} in around {words} words.\""
   ]
  },
  {
   "cell_type": "code",
   "execution_count": 45,
   "id": "44a6da88-8695-4cdd-979e-9e7cd940676c",
   "metadata": {},
   "outputs": [
    {
     "name": "stdout",
     "output_type": "stream",
     "text": [
      "      name  length  count_sentences  count_tokens  \\\n",
      "0  001.txt    2601               19           511   \n",
      "1  002.txt    2326               19           425   \n",
      "2  003.txt    3109               26           604   \n",
      "3  004.txt    1471               13           277   \n",
      "4  005.txt    2860               24           579   \n",
      "\n",
      "                                            keywords  \n",
      "0  pay:maternity:months:said:would:plans:six:new:...  \n",
      "1  information:said:freedom:mr:new:thomas:commiss...  \n",
      "2  women:six:hewitt:sexism:jobs:men:months:work:c...  \n",
      "3  blackpool:party:manchester:labour:conference:m...  \n",
      "4  would:mr:brown:balls:said:election:chancellor:...  \n"
     ]
    },
    {
     "name": "stderr",
     "output_type": "stream",
     "text": [
      "Setting `pad_token_id` to `eos_token_id`:2 for open-end generation.\n",
      "Setting `pad_token_id` to `eos_token_id`:2 for open-end generation.\n"
     ]
    },
    {
     "name": "stdout",
     "output_type": "stream",
     "text": [
      "[166] prompt: Generate some news articles about politics using keywords blunkett and mr and home and said and love and bbc and job and quinn and secretary and visa in around 425 words.\n",
      "[167] prompt: Generate some news articles about politics using keywords said and government and housing and homes and environmental and report and england and sustainable and communities and john in around 450 words.\n"
     ]
    },
    {
     "name": "stderr",
     "output_type": "stream",
     "text": [
      "Setting `pad_token_id` to `eos_token_id`:2 for open-end generation.\n"
     ]
    },
    {
     "name": "stdout",
     "output_type": "stream",
     "text": [
      "[168] prompt: Generate some news articles about politics using keywords murder and guilty and sentences and committee and murderers and mps and sentence and said and plea and home in around 715 words.\n"
     ]
    },
    {
     "name": "stderr",
     "output_type": "stream",
     "text": [
      "Setting `pad_token_id` to `eos_token_id`:2 for open-end generation.\n",
      "Setting `pad_token_id` to `eos_token_id`:2 for open-end generation.\n"
     ]
    },
    {
     "name": "stdout",
     "output_type": "stream",
     "text": [
      "[169] prompt: Generate some news articles about politics using keywords hunting and dogs and mr and offence and away and said and bradshaw and would and define and new in around 480 words.\n",
      "[170] prompt: Generate some news articles about politics using keywords patients and said and powys and hospital and health and hereford and welsh and board and waiting and months in around 478 words.\n"
     ]
    },
    {
     "name": "stderr",
     "output_type": "stream",
     "text": [
      "Setting `pad_token_id` to `eos_token_id`:2 for open-end generation.\n"
     ]
    },
    {
     "name": "stdout",
     "output_type": "stream",
     "text": [
      "[171] prompt: Generate some news articles about politics using keywords sports and would and said and children and schools and tories and two and hours and week and clubs in around 252 words.\n"
     ]
    },
    {
     "name": "stderr",
     "output_type": "stream",
     "text": [
      "Setting `pad_token_id` to `eos_token_id`:2 for open-end generation.\n"
     ]
    },
    {
     "name": "stdout",
     "output_type": "stream",
     "text": [
      "[172] prompt: Generate some news articles about politics using keywords schools and bell and mr and said and citizenship and must and faith and british and society and muslim in around 432 words.\n"
     ]
    },
    {
     "name": "stderr",
     "output_type": "stream",
     "text": [
      "Setting `pad_token_id` to `eos_token_id`:2 for open-end generation.\n"
     ]
    },
    {
     "name": "stdout",
     "output_type": "stream",
     "text": [
      "[173] prompt: Generate some news articles about politics using keywords executive and slopping and napier and said and case and human and rights and standard and raised and ministers in around 425 words.\n"
     ]
    },
    {
     "name": "stderr",
     "output_type": "stream",
     "text": [
      "Setting `pad_token_id` to `eos_token_id`:2 for open-end generation.\n"
     ]
    },
    {
     "name": "stdout",
     "output_type": "stream",
     "text": [
      "[174] prompt: Generate some news articles about politics using keywords said and ferguson and ministers and would and minister and scottish and executive and decision and leave and patient in around 766 words.\n"
     ]
    },
    {
     "name": "stderr",
     "output_type": "stream",
     "text": [
      "Setting `pad_token_id` to `eos_token_id`:2 for open-end generation.\n"
     ]
    },
    {
     "name": "stdout",
     "output_type": "stream",
     "text": [
      "[175] prompt: Generate some news articles about politics using keywords labour and said and chancellor and conservative and party and brown and cuts and public and britain and economy in around 484 words.\n"
     ]
    },
    {
     "name": "stderr",
     "output_type": "stream",
     "text": [
      "Setting `pad_token_id` to `eos_token_id`:2 for open-end generation.\n"
     ]
    },
    {
     "name": "stdout",
     "output_type": "stream",
     "text": [
      "[176] prompt: Generate some news articles about politics using keywords sites and councils and travellers and said and traveller and new and powers and communities and mps and legal in around 587 words.\n"
     ]
    },
    {
     "name": "stderr",
     "output_type": "stream",
     "text": [
      "Setting `pad_token_id` to `eos_token_id`:2 for open-end generation.\n"
     ]
    },
    {
     "name": "stdout",
     "output_type": "stream",
     "text": [
      "[177] prompt: Generate some news articles about politics using keywords plaid and security and services and cymru and llwyd and arson and involved and glyndwr and mp and attacks in around 583 words.\n"
     ]
    },
    {
     "name": "stderr",
     "output_type": "stream",
     "text": [
      "Setting `pad_token_id` to `eos_token_id`:2 for open-end generation.\n",
      "Setting `pad_token_id` to `eos_token_id`:2 for open-end generation.\n"
     ]
    },
    {
     "name": "stdout",
     "output_type": "stream",
     "text": [
      "[178] prompt: Generate some news articles about politics using keywords rail and balfour and beatty and hatfield and trial and managers and line and accident and go and five in around 212 words.\n",
      "[179] prompt: Generate some news articles about politics using keywords ban and hunting and hunt and hunts and police and law and said and expected and countryside and alliance in around 580 words.\n"
     ]
    },
    {
     "name": "stderr",
     "output_type": "stream",
     "text": [
      "Setting `pad_token_id` to `eos_token_id`:2 for open-end generation.\n",
      "Setting `pad_token_id` to `eos_token_id`:2 for open-end generation.\n"
     ]
    },
    {
     "name": "stdout",
     "output_type": "stream",
     "text": [
      "[180] prompt: Generate some news articles about politics using keywords bill and said and falconer and would and lord and changes and critics and political and mps and could in around 567 words.\n",
      "[181] prompt: Generate some news articles about politics using keywords sport and said and school and hours and government and back and blair and schools and initiative and sports in around 446 words.\n"
     ]
    },
    {
     "name": "stderr",
     "output_type": "stream",
     "text": [
      "Setting `pad_token_id` to `eos_token_id`:2 for open-end generation.\n"
     ]
    },
    {
     "name": "stdout",
     "output_type": "stream",
     "text": [
      "[182] prompt: Generate some news articles about politics using keywords house and would and terror and home and clarke and suspects and arrest and mr and powers and plans in around 650 words.\n"
     ]
    },
    {
     "name": "stderr",
     "output_type": "stream",
     "text": [
      "Setting `pad_token_id` to `eos_token_id`:2 for open-end generation.\n"
     ]
    },
    {
     "name": "stdout",
     "output_type": "stream",
     "text": [
      "[183] prompt: Generate some news articles about politics using keywords minister and sir and nicholas and northern and ireland and former and ulster and scott and died and kensington in around 367 words.\n"
     ]
    },
    {
     "name": "stderr",
     "output_type": "stream",
     "text": [
      "Setting `pad_token_id` to `eos_token_id`:2 for open-end generation.\n"
     ]
    },
    {
     "name": "stdout",
     "output_type": "stream",
     "text": [
      "[184] prompt: Generate some news articles about politics using keywords said and advice and lord and goldsmith and blair and statement and mr and iraq and calls and war in around 693 words.\n"
     ]
    },
    {
     "name": "stderr",
     "output_type": "stream",
     "text": [
      "Setting `pad_token_id` to `eos_token_id`:2 for open-end generation.\n"
     ]
    },
    {
     "name": "stdout",
     "output_type": "stream",
     "text": [
      "[185] prompt: Generate some news articles about politics using keywords swansea and bnp and mosque and leaflet and said and police and community and wales and building and south in around 526 words.\n"
     ]
    },
    {
     "name": "stderr",
     "output_type": "stream",
     "text": [
      "Setting `pad_token_id` to `eos_token_id`:2 for open-end generation.\n"
     ]
    },
    {
     "name": "stdout",
     "output_type": "stream",
     "text": [
      "[186] prompt: Generate some news articles about politics using keywords mr and livingstone and said and apologise and blair and mayor and think and says and london and jewish in around 569 words.\n"
     ]
    },
    {
     "name": "stderr",
     "output_type": "stream",
     "text": [
      "Setting `pad_token_id` to `eos_token_id`:2 for open-end generation.\n"
     ]
    },
    {
     "name": "stdout",
     "output_type": "stream",
     "text": [
      "[187] prompt: Generate some news articles about politics using keywords casinos and gambling and said and casino and bill and new and government and jowell and number and move in around 440 words.\n"
     ]
    },
    {
     "name": "stderr",
     "output_type": "stream",
     "text": [
      "Setting `pad_token_id` to `eos_token_id`:2 for open-end generation.\n"
     ]
    },
    {
     "name": "stdout",
     "output_type": "stream",
     "text": [
      "[188] prompt: Generate some news articles about politics using keywords said and visit and security and papers and president and musharraf and spokesman and files and pakistani and found in around 231 words.\n"
     ]
    },
    {
     "name": "stderr",
     "output_type": "stream",
     "text": [
      "Setting `pad_token_id` to `eos_token_id`:2 for open-end generation.\n"
     ]
    },
    {
     "name": "stdout",
     "output_type": "stream",
     "text": [
      "[189] prompt: Generate some news articles about politics using keywords mr and bush and blair and said and us and president and change and world and global and would in around 613 words.\n"
     ]
    },
    {
     "name": "stderr",
     "output_type": "stream",
     "text": [
      "Setting `pad_token_id` to `eos_token_id`:2 for open-end generation.\n"
     ]
    },
    {
     "name": "stdout",
     "output_type": "stream",
     "text": [
      "[190] prompt: Generate some news articles about politics using keywords howard and snooker and mr and time and school and said and hall and llanelli and left and world in around 333 words.\n"
     ]
    },
    {
     "name": "stderr",
     "output_type": "stream",
     "text": [
      "Setting `pad_token_id` to `eos_token_id`:2 for open-end generation.\n"
     ]
    },
    {
     "name": "stdout",
     "output_type": "stream",
     "text": [
      "[191] prompt: Generate some news articles about politics using keywords short and un and said and us and ms and authority and tsunami and aid and coalition and india in around 255 words.\n"
     ]
    },
    {
     "name": "stderr",
     "output_type": "stream",
     "text": [
      "Setting `pad_token_id` to `eos_token_id`:2 for open-end generation.\n"
     ]
    },
    {
     "name": "stdout",
     "output_type": "stream",
     "text": [
      "[192] prompt: Generate some news articles about politics using keywords said and four and government and mr and detainees and guantanamo and us and uk and release and rights in around 653 words.\n"
     ]
    },
    {
     "name": "stderr",
     "output_type": "stream",
     "text": [
      "Setting `pad_token_id` to `eos_token_id`:2 for open-end generation.\n",
      "Setting `pad_token_id` to `eos_token_id`:2 for open-end generation.\n"
     ]
    },
    {
     "name": "stdout",
     "output_type": "stream",
     "text": [
      "[193] prompt: Generate some news articles about politics using keywords immigration and eu and asylum and britain and mr and uk and said and davis and veto and argued in around 623 words.\n",
      "[194] prompt: Generate some news articles about politics using keywords said and bush and cherie and blair and legal and rights and law and us and accused and supreme in around 302 words.\n"
     ]
    },
    {
     "name": "stderr",
     "output_type": "stream",
     "text": [
      "Setting `pad_token_id` to `eos_token_id`:2 for open-end generation.\n",
      "Setting `pad_token_id` to `eos_token_id`:2 for open-end generation.\n"
     ]
    },
    {
     "name": "stdout",
     "output_type": "stream",
     "text": [
      "[195] prompt: Generate some news articles about politics using keywords africa and said and blair and would and tsunami and disaster and mr and figures and deal and countries in around 400 words.\n"
     ]
    },
    {
     "name": "stderr",
     "output_type": "stream",
     "text": [
      "Setting `pad_token_id` to `eos_token_id`:2 for open-end generation.\n"
     ]
    },
    {
     "name": "stdout",
     "output_type": "stream",
     "text": [
      "[196] prompt: Generate some news articles about politics using keywords bbc and campbell and mr and labour and said and mandelson and campaigning and alastair and dirty and tricks in around 500 words.\n",
      "[197] prompt: Generate some news articles about politics using keywords blair and cut and mr and us and climate and change and emissions and sign and kyoto and said in around 356 words.\n"
     ]
    },
    {
     "name": "stderr",
     "output_type": "stream",
     "text": [
      "Setting `pad_token_id` to `eos_token_id`:2 for open-end generation.\n"
     ]
    },
    {
     "name": "stdout",
     "output_type": "stream",
     "text": [
      "[198] prompt: Generate some news articles about politics using keywords police and drinking and said and chief and people and however and hayman and plans and binge and constable in around 516 words.\n"
     ]
    },
    {
     "name": "stderr",
     "output_type": "stream",
     "text": [
      "Setting `pad_token_id` to `eos_token_id`:2 for open-end generation.\n"
     ]
    },
    {
     "name": "stdout",
     "output_type": "stream",
     "text": [
      "[199] prompt: Generate some news articles about politics using keywords games and children and said and industry and adults and game and parents and playing and warnings and violent in around 487 words.\n"
     ]
    },
    {
     "name": "stderr",
     "output_type": "stream",
     "text": [
      "Setting `pad_token_id` to `eos_token_id`:2 for open-end generation.\n",
      "Setting `pad_token_id` to `eos_token_id`:2 for open-end generation.\n"
     ]
    },
    {
     "name": "stdout",
     "output_type": "stream",
     "text": [
      "[200] prompt: Generate some news articles about politics using keywords campaign and mallon and mr and said and north and east and people and assembly and yes and boost in around 527 words.\n",
      "[201] prompt: Generate some news articles about politics using keywords bnp and said and immigration and tories and howard and told and want and mr and rejected and bbc in around 389 words.\n"
     ]
    },
    {
     "name": "stderr",
     "output_type": "stream",
     "text": [
      "Setting `pad_token_id` to `eos_token_id`:2 for open-end generation.\n"
     ]
    },
    {
     "name": "stdout",
     "output_type": "stream",
     "text": [
      "[202] prompt: Generate some news articles about politics using keywords would and drinking and said and police and go and tories and plans and earlier and allowing and problem in around 524 words.\n"
     ]
    },
    {
     "name": "stderr",
     "output_type": "stream",
     "text": [
      "Setting `pad_token_id` to `eos_token_id`:2 for open-end generation.\n"
     ]
    },
    {
     "name": "stdout",
     "output_type": "stream",
     "text": [
      "[203] prompt: Generate some news articles about politics using keywords said and defra and outbreak and leigh and foot and mouth and department and future and mr and crisis in around 430 words.\n"
     ]
    },
    {
     "name": "stderr",
     "output_type": "stream",
     "text": [
      "Setting `pad_token_id` to `eos_token_id`:2 for open-end generation.\n"
     ]
    },
    {
     "name": "stdout",
     "output_type": "stream",
     "text": [
      "[204] prompt: Generate some news articles about politics using keywords prison and reoffending and justice and service and work and agency and plans and scottish and criminal and system in around 488 words.\n"
     ]
    },
    {
     "name": "stderr",
     "output_type": "stream",
     "text": [
      "Setting `pad_token_id` to `eos_token_id`:2 for open-end generation.\n"
     ]
    },
    {
     "name": "stdout",
     "output_type": "stream",
     "text": [
      "[205] prompt: Generate some news articles about politics using keywords archbishop and detained and without and tutu and trial and uk and held and unacceptable and guantanamo and release in around 500 words.\n"
     ]
    },
    {
     "name": "stderr",
     "output_type": "stream",
     "text": [
      "Setting `pad_token_id` to `eos_token_id`:2 for open-end generation.\n"
     ]
    },
    {
     "name": "stdout",
     "output_type": "stream",
     "text": [
      "[206] prompt: Generate some news articles about politics using keywords mr and blunkett and said and blair and return and david and carpet and would and serve and future in around 269 words.\n"
     ]
    },
    {
     "name": "stderr",
     "output_type": "stream",
     "text": [
      "Setting `pad_token_id` to `eos_token_id`:2 for open-end generation.\n",
      "Setting `pad_token_id` to `eos_token_id`:2 for open-end generation.\n"
     ]
    },
    {
     "name": "stdout",
     "output_type": "stream",
     "text": [
      "[207] prompt: Generate some news articles about politics using keywords election and february and poll and said and labour and would and reports and blair and general and speculation in around 311 words.\n"
     ]
    },
    {
     "name": "stderr",
     "output_type": "stream",
     "text": [
      "Setting `pad_token_id` to `eos_token_id`:2 for open-end generation.\n"
     ]
    },
    {
     "name": "stdout",
     "output_type": "stream",
     "text": [
      "[208] prompt: Generate some news articles about politics using keywords said and gurkhas and relief and indonesia and government and offer and aceh and help and tsunami and offered in around 286 words.\n",
      "[209] prompt: Generate some news articles about politics using keywords palestinian and said and abbas and mr and attacks and israeli and added and israel and syria and foreign in around 433 words.\n"
     ]
    },
    {
     "name": "stderr",
     "output_type": "stream",
     "text": [
      "Setting `pad_token_id` to `eos_token_id`:2 for open-end generation.\n"
     ]
    },
    {
     "name": "stdout",
     "output_type": "stream",
     "text": [
      "[210] prompt: Generate some news articles about politics using keywords wales and civil and strike and said and servants and services and action and jobs and service and across in around 542 words.\n"
     ]
    },
    {
     "name": "stderr",
     "output_type": "stream",
     "text": [
      "Setting `pad_token_id` to `eos_token_id`:2 for open-end generation.\n"
     ]
    },
    {
     "name": "stdout",
     "output_type": "stream",
     "text": [
      "[211] prompt: Generate some news articles about politics using keywords lord and woolf and said and judge and inquiry and chancellor and public and whether and would and inquiries in around 555 words.\n"
     ]
    },
    {
     "name": "stderr",
     "output_type": "stream",
     "text": [
      "Setting `pad_token_id` to `eos_token_id`:2 for open-end generation.\n"
     ]
    },
    {
     "name": "stdout",
     "output_type": "stream",
     "text": [
      "[212] prompt: Generate some news articles about politics using keywords mr and howard and party and crosby and said and report and win and statement and added and elections in around 211 words.\n"
     ]
    },
    {
     "name": "stderr",
     "output_type": "stream",
     "text": [
      "Setting `pad_token_id` to `eos_token_id`:2 for open-end generation.\n"
     ]
    },
    {
     "name": "stdout",
     "output_type": "stream",
     "text": [
      "[213] prompt: Generate some news articles about politics using keywords students and lib and would and vote and university and fees and dems and election and labour and west in around 681 words.\n"
     ]
    },
    {
     "name": "stderr",
     "output_type": "stream",
     "text": [
      "Setting `pad_token_id` to `eos_token_id`:2 for open-end generation.\n"
     ]
    },
    {
     "name": "stdout",
     "output_type": "stream",
     "text": [
      "[214] prompt: Generate some news articles about politics using keywords custody and vulnerable and people and committee and death and problems and prison and said and lives and mps in around 558 words.\n"
     ]
    },
    {
     "name": "stderr",
     "output_type": "stream",
     "text": [
      "Setting `pad_token_id` to `eos_token_id`:2 for open-end generation.\n"
     ]
    },
    {
     "name": "stdout",
     "output_type": "stream",
     "text": [
      "[215] prompt: Generate some news articles about politics using keywords new and marry and rules and uk and said and office and marriage and home and marriages and last in around 774 words.\n"
     ]
    },
    {
     "name": "stderr",
     "output_type": "stream",
     "text": [
      "Setting `pad_token_id` to `eos_token_id`:2 for open-end generation.\n"
     ]
    },
    {
     "name": "stdout",
     "output_type": "stream",
     "text": [
      "[216] prompt: Generate some news articles about politics using keywords evidence and would and suspects and says and solana and mr and naive and court and foreign and human in around 408 words.\n"
     ]
    },
    {
     "name": "stderr",
     "output_type": "stream",
     "text": [
      "Setting `pad_token_id` to `eos_token_id`:2 for open-end generation.\n"
     ]
    },
    {
     "name": "stdout",
     "output_type": "stream",
     "text": [
      "[217] prompt: Generate some news articles about politics using keywords schools and mock and take and part and election and elections and hansard and society and pupils and said in around 299 words.\n"
     ]
    },
    {
     "name": "stderr",
     "output_type": "stream",
     "text": [
      "Setting `pad_token_id` to `eos_token_id`:2 for open-end generation.\n",
      "Setting `pad_token_id` to `eos_token_id`:2 for open-end generation.\n"
     ]
    },
    {
     "name": "stdout",
     "output_type": "stream",
     "text": [
      "[218] prompt: Generate some news articles about politics using keywords mr and blair and said and brown and minister and prime and told and book and claims and election in around 682 words.\n",
      "[219] prompt: Generate some news articles about politics using keywords jamieson and said and clubs and ms and executive and football and people and kind and minister and matches in around 551 words.\n"
     ]
    },
    {
     "name": "stderr",
     "output_type": "stream",
     "text": [
      "Setting `pad_token_id` to `eos_token_id`:2 for open-end generation.\n"
     ]
    },
    {
     "name": "stdout",
     "output_type": "stream",
     "text": [
      "[220] prompt: Generate some news articles about politics using keywords said and country and home and system and would and clarke and uk and mr and immigration and asylum in around 540 words.\n"
     ]
    },
    {
     "name": "stderr",
     "output_type": "stream",
     "text": [
      "Setting `pad_token_id` to `eos_token_id`:2 for open-end generation.\n",
      "Setting `pad_token_id` to `eos_token_id`:2 for open-end generation.\n"
     ]
    },
    {
     "name": "stdout",
     "output_type": "stream",
     "text": [
      "[221] prompt: Generate some news articles about politics using keywords said and home and lords and clarke and ruling and law and would and secretary and suspects and human in around 546 words.\n",
      "[222] prompt: Generate some news articles about politics using keywords constitution and question and poll and vote and eu and would and government and referendum and two and said in around 388 words.\n"
     ]
    },
    {
     "name": "stderr",
     "output_type": "stream",
     "text": [
      "Setting `pad_token_id` to `eos_token_id`:2 for open-end generation.\n"
     ]
    },
    {
     "name": "stdout",
     "output_type": "stream",
     "text": [
      "[223] prompt: Generate some news articles about politics using keywords said and blair and party and kennedy and trust and tax and mr and people and lib and tony in around 457 words.\n"
     ]
    },
    {
     "name": "stderr",
     "output_type": "stream",
     "text": [
      "Setting `pad_token_id` to `eos_token_id`:2 for open-end generation.\n"
     ]
    },
    {
     "name": "stdout",
     "output_type": "stream",
     "text": [
      "[224] prompt: Generate some news articles about politics using keywords said and law and lords and trial and laws and lord and rights and detainees and appeal and foreign in around 625 words.\n"
     ]
    },
    {
     "name": "stderr",
     "output_type": "stream",
     "text": [
      "Setting `pad_token_id` to `eos_token_id`:2 for open-end generation.\n"
     ]
    },
    {
     "name": "stdout",
     "output_type": "stream",
     "text": [
      "[225] prompt: Generate some news articles about politics using keywords mr and prime and minister and blair and chancellor and brown and told and mps and book and labour in around 474 words.\n"
     ]
    },
    {
     "name": "stderr",
     "output_type": "stream",
     "text": [
      "Setting `pad_token_id` to `eos_token_id`:2 for open-end generation.\n"
     ]
    },
    {
     "name": "stdout",
     "output_type": "stream",
     "text": [
      "[226] prompt: Generate some news articles about politics using keywords plans and government and would and said and britain and tories and cut and needed and taxes and forgotten in around 362 words.\n"
     ]
    },
    {
     "name": "stderr",
     "output_type": "stream",
     "text": [
      "Setting `pad_token_id` to `eos_token_id`:2 for open-end generation.\n",
      "Setting `pad_token_id` to `eos_token_id`:2 for open-end generation.\n"
     ]
    },
    {
     "name": "stdout",
     "output_type": "stream",
     "text": [
      "[227] prompt: Generate some news articles about politics using keywords cards and would and mr and clarke and bill and id and faces and rebellion and scheme and blunkett in around 605 words.\n",
      "[228] prompt: Generate some news articles about politics using keywords labour and said and poster and jewish and tory and party and pigs and mennear and time and people in around 357 words.\n"
     ]
    },
    {
     "name": "stderr",
     "output_type": "stream",
     "text": [
      "Setting `pad_token_id` to `eos_token_id`:2 for open-end generation.\n",
      "Setting `pad_token_id` to `eos_token_id`:2 for open-end generation.\n"
     ]
    },
    {
     "name": "stdout",
     "output_type": "stream",
     "text": [
      "[229] prompt: Generate some news articles about politics using keywords said and death and case and iraqi and uk and british and custody and human and rights and ruled in around 509 words.\n",
      "[230] prompt: Generate some news articles about politics using keywords said and law and police and householders and use and force and burglar and intruders and prosecuted and published in around 518 words.\n"
     ]
    },
    {
     "name": "stderr",
     "output_type": "stream",
     "text": [
      "Setting `pad_token_id` to `eos_token_id`:2 for open-end generation.\n"
     ]
    },
    {
     "name": "stdout",
     "output_type": "stream",
     "text": [
      "[231] prompt: Generate some news articles about politics using keywords said and guilty and sentences and woolf and lord and guidelines and would and reduction and crime and victims in around 474 words.\n"
     ]
    },
    {
     "name": "stderr",
     "output_type": "stream",
     "text": [
      "Setting `pad_token_id` to `eos_token_id`:2 for open-end generation.\n",
      "Setting `pad_token_id` to `eos_token_id`:2 for open-end generation.\n"
     ]
    },
    {
     "name": "stdout",
     "output_type": "stream",
     "text": [
      "[232] prompt: Generate some news articles about politics using keywords mayor and said and ken and livingstone and office and london and jewish and believe and probe and investigation in around 348 words.\n",
      "[233] prompt: Generate some news articles about politics using keywords information and public and said and dca and act and bodies and freedom and ready and month and committee in around 403 words.\n"
     ]
    },
    {
     "name": "stderr",
     "output_type": "stream",
     "text": [
      "Setting `pad_token_id` to `eos_token_id`:2 for open-end generation.\n"
     ]
    },
    {
     "name": "stdout",
     "output_type": "stream",
     "text": [
      "[234] prompt: Generate some news articles about politics using keywords police and would and said and blunkett and policing and people and mr and plans and local and also in around 653 words.\n"
     ]
    },
    {
     "name": "stderr",
     "output_type": "stream",
     "text": [
      "Setting `pad_token_id` to `eos_token_id`:2 for open-end generation.\n"
     ]
    },
    {
     "name": "stdout",
     "output_type": "stream",
     "text": [
      "[235] prompt: Generate some news articles about politics using keywords party and new and lib and election and chief and walkington and said and dems and senior and communications in around 217 words.\n"
     ]
    },
    {
     "name": "stderr",
     "output_type": "stream",
     "text": [
      "Setting `pad_token_id` to `eos_token_id`:2 for open-end generation.\n"
     ]
    },
    {
     "name": "stdout",
     "output_type": "stream",
     "text": [
      "[236] prompt: Generate some news articles about politics using keywords cunningham and labour and mr and jack and stand and cabinet and minister and said and agriculture and blair in around 212 words.\n"
     ]
    },
    {
     "name": "stderr",
     "output_type": "stream",
     "text": [
      "Setting `pad_token_id` to `eos_token_id`:2 for open-end generation.\n"
     ]
    },
    {
     "name": "stdout",
     "output_type": "stream",
     "text": [
      "[237] prompt: Generate some news articles about politics using keywords said and asylum and britain and immigration and policy and veritas and argued and year and successful and mr in around 199 words.\n"
     ]
    },
    {
     "name": "stderr",
     "output_type": "stream",
     "text": [
      "Setting `pad_token_id` to `eos_token_id`:2 for open-end generation.\n",
      "Setting `pad_token_id` to `eos_token_id`:2 for open-end generation.\n"
     ]
    },
    {
     "name": "stdout",
     "output_type": "stream",
     "text": [
      "[238] prompt: Generate some news articles about politics using keywords regiments and labour and said and scottish and group and election and scotland and move and seats and save in around 369 words.\n",
      "[239] prompt: Generate some news articles about politics using keywords said and csos and police and powers and officers and would and crime and home and federation and suspects in around 435 words.\n"
     ]
    },
    {
     "name": "stderr",
     "output_type": "stream",
     "text": [
      "Setting `pad_token_id` to `eos_token_id`:2 for open-end generation.\n"
     ]
    },
    {
     "name": "stdout",
     "output_type": "stream",
     "text": [
      "[240] prompt: Generate some news articles about politics using keywords betting and punters and sports and exchanges and sport and group and might and allow and inquiry and internet in around 450 words.\n"
     ]
    },
    {
     "name": "stderr",
     "output_type": "stream",
     "text": [
      "Setting `pad_token_id` to `eos_token_id`:2 for open-end generation.\n"
     ]
    },
    {
     "name": "stdout",
     "output_type": "stream",
     "text": [
      "[241] prompt: Generate some news articles about politics using keywords councils and tax and services and scotland and said and council and year and local and increase and years in around 662 words.\n"
     ]
    },
    {
     "name": "stderr",
     "output_type": "stream",
     "text": [
      "Setting `pad_token_id` to `eos_token_id`:2 for open-end generation.\n"
     ]
    },
    {
     "name": "stdout",
     "output_type": "stream",
     "text": [
      "[242] prompt: Generate some news articles about politics using keywords said and information and government and act and freedom and public and whitehall and shredding and tories and departments in around 446 words.\n"
     ]
    },
    {
     "name": "stderr",
     "output_type": "stream",
     "text": [
      "Setting `pad_token_id` to `eos_token_id`:2 for open-end generation.\n"
     ]
    },
    {
     "name": "stdout",
     "output_type": "stream",
     "text": [
      "[243] prompt: Generate some news articles about politics using keywords fish and fishing and mps and industry and committee and scotland and report and uk and members and processors in around 220 words.\n"
     ]
    },
    {
     "name": "stderr",
     "output_type": "stream",
     "text": [
      "Setting `pad_token_id` to `eos_token_id`:2 for open-end generation.\n",
      "Setting `pad_token_id` to `eos_token_id`:2 for open-end generation.\n"
     ]
    },
    {
     "name": "stdout",
     "output_type": "stream",
     "text": [
      "[244] prompt: Generate some news articles about politics using keywords research and kelly and said and education and views and ms and policy and scientists and concerns and professor in around 529 words.\n"
     ]
    },
    {
     "name": "stderr",
     "output_type": "stream",
     "text": [
      "Setting `pad_token_id` to `eos_token_id`:2 for open-end generation.\n"
     ]
    },
    {
     "name": "stdout",
     "output_type": "stream",
     "text": [
      "[245] prompt: Generate some news articles about politics using keywords regiments and army and regiment and scotland and super and scottish and said and decision and expected and board in around 542 words.\n",
      "[246] prompt: Generate some news articles about politics using keywords university and said and education and areas and report and higher and likely and england and people and students in around 659 words.\n"
     ]
    },
    {
     "name": "stderr",
     "output_type": "stream",
     "text": [
      "Setting `pad_token_id` to `eos_token_id`:2 for open-end generation.\n"
     ]
    },
    {
     "name": "stdout",
     "output_type": "stream",
     "text": [
      "[247] prompt: Generate some news articles about politics using keywords kennedy and people and say and britain and mr and temple and address and ethnic and also and terrorism in around 260 words.\n"
     ]
    },
    {
     "name": "stderr",
     "output_type": "stream",
     "text": [
      "Setting `pad_token_id` to `eos_token_id`:2 for open-end generation.\n",
      "Setting `pad_token_id` to `eos_token_id`:2 for open-end generation.\n"
     ]
    },
    {
     "name": "stdout",
     "output_type": "stream",
     "text": [
      "[248] prompt: Generate some news articles about politics using keywords blunkett and would and said and david and man and go and public and something and work and think in around 374 words.\n"
     ]
    },
    {
     "name": "stderr",
     "output_type": "stream",
     "text": [
      "Setting `pad_token_id` to `eos_token_id`:2 for open-end generation.\n"
     ]
    },
    {
     "name": "stdout",
     "output_type": "stream",
     "text": [
      "[249] prompt: Generate some news articles about politics using keywords election and debate and blair and said and mr and tv and answer and leader and says and tony in around 151 words.\n",
      "[250] prompt: Generate some news articles about politics using keywords issue and election and choice and get and mps and government and whether and public and make and pensioners in around 1289 words.\n"
     ]
    },
    {
     "name": "stderr",
     "output_type": "stream",
     "text": [
      "Setting `pad_token_id` to `eos_token_id`:2 for open-end generation.\n"
     ]
    },
    {
     "name": "stdout",
     "output_type": "stream",
     "text": [
      "[251] prompt: Generate some news articles about politics using keywords brown and minister and mr and prime and blair and aid and government and conference and newspapers and would in around 791 words.\n"
     ]
    },
    {
     "name": "stderr",
     "output_type": "stream",
     "text": [
      "Setting `pad_token_id` to `eos_token_id`:2 for open-end generation.\n",
      "Setting `pad_token_id` to `eos_token_id`:2 for open-end generation.\n"
     ]
    },
    {
     "name": "stdout",
     "output_type": "stream",
     "text": [
      "[252] prompt: Generate some news articles about politics using keywords mr and blair and brown and book and said and stand and minister and would and next and election in around 625 words.\n",
      "[253] prompt: Generate some news articles about politics using keywords mr and blair and said and brown and minister and prime and told and book and claims and election in around 698 words.\n"
     ]
    },
    {
     "name": "stderr",
     "output_type": "stream",
     "text": [
      "Setting `pad_token_id` to `eos_token_id`:2 for open-end generation.\n"
     ]
    },
    {
     "name": "stdout",
     "output_type": "stream",
     "text": [
      "[254] prompt: Generate some news articles about politics using keywords brown and men and election and mr and labour and blair and claims and two and westminster and chancellor in around 848 words.\n"
     ]
    },
    {
     "name": "stderr",
     "output_type": "stream",
     "text": [
      "Setting `pad_token_id` to `eos_token_id`:2 for open-end generation.\n",
      "Setting `pad_token_id` to `eos_token_id`:2 for open-end generation.\n"
     ]
    },
    {
     "name": "stdout",
     "output_type": "stream",
     "text": [
      "[255] prompt: Generate some news articles about politics using keywords mr and brown and blair and said and labour and gordon and reports and election and would and way in around 717 words.\n"
     ]
    },
    {
     "name": "stderr",
     "output_type": "stream",
     "text": [
      "Setting `pad_token_id` to `eos_token_id`:2 for open-end generation.\n"
     ]
    },
    {
     "name": "stdout",
     "output_type": "stream",
     "text": [
      "[256] prompt: Generate some news articles about politics using keywords mr and blair and labour and brown and said and way and election and government and would and party in around 701 words.\n"
     ]
    },
    {
     "name": "stderr",
     "output_type": "stream",
     "text": [
      "Setting `pad_token_id` to `eos_token_id`:2 for open-end generation.\n"
     ]
    },
    {
     "name": "stdout",
     "output_type": "stream",
     "text": [
      "[257] prompt: Generate some news articles about politics using keywords mr and brown and blair and labour and party and said and mps and election and prescott and told in around 679 words.\n",
      "[258] prompt: Generate some news articles about politics using keywords election and labour and two and prime and minister and brown and mr and party and mps and squabbling in around 647 words.\n"
     ]
    },
    {
     "name": "stderr",
     "output_type": "stream",
     "text": [
      "Setting `pad_token_id` to `eos_token_id`:2 for open-end generation.\n"
     ]
    },
    {
     "name": "stdout",
     "output_type": "stream",
     "text": [
      "[259] prompt: Generate some news articles about politics using keywords mr and former and mackenzie and panel and make and show and could and candidates and public and winner in around 818 words.\n"
     ]
    },
    {
     "name": "stderr",
     "output_type": "stream",
     "text": [
      "Setting `pad_token_id` to `eos_token_id`:2 for open-end generation.\n",
      "Setting `pad_token_id` to `eos_token_id`:2 for open-end generation.\n"
     ]
    },
    {
     "name": "stdout",
     "output_type": "stream",
     "text": [
      "[260] prompt: Generate some news articles about politics using keywords mr and brown and labour and prime and minister and told and blair and new and mps and prescott in around 619 words.\n",
      "[261] prompt: Generate some news articles about politics using keywords mr and labour and milburn and brown and election and prescott and campaign and poster and event and years in around 689 words.\n"
     ]
    },
    {
     "name": "stderr",
     "output_type": "stream",
     "text": [
      "Setting `pad_token_id` to `eos_token_id`:2 for open-end generation.\n"
     ]
    },
    {
     "name": "stdout",
     "output_type": "stream",
     "text": [
      "[262] prompt: Generate some news articles about politics using keywords mr and blair and chancellor and brown and prime and minister and said and tory and would and labour in around 554 words.\n"
     ]
    },
    {
     "name": "stderr",
     "output_type": "stream",
     "text": [
      "Setting `pad_token_id` to `eos_token_id`:2 for open-end generation.\n"
     ]
    },
    {
     "name": "stdout",
     "output_type": "stream",
     "text": [
      "[263] prompt: Generate some news articles about politics using keywords one and confess and prisoners and arms and stop and argument and last and even and better and word in around 963 words.\n"
     ]
    },
    {
     "name": "stderr",
     "output_type": "stream",
     "text": [
      "Setting `pad_token_id` to `eos_token_id`:2 for open-end generation.\n"
     ]
    },
    {
     "name": "stdout",
     "output_type": "stream",
     "text": [
      "[264] prompt: Generate some news articles about politics using keywords labour and election and new and speech and prime and minister and manifesto and chancellor and every and blair in around 681 words.\n"
     ]
    },
    {
     "name": "stderr",
     "output_type": "stream",
     "text": [
      "Setting `pad_token_id` to `eos_token_id`:2 for open-end generation.\n"
     ]
    },
    {
     "name": "stdout",
     "output_type": "stream",
     "text": [
      "[265] prompt: Generate some news articles about politics using keywords plans and would and government and said and britain and tories and cut and needed and taxes and forgotten in around 382 words.\n"
     ]
    },
    {
     "name": "stderr",
     "output_type": "stream",
     "text": [
      "Setting `pad_token_id` to `eos_token_id`:2 for open-end generation.\n"
     ]
    },
    {
     "name": "stdout",
     "output_type": "stream",
     "text": [
      "[266] prompt: Generate some news articles about politics using keywords bill and succession and would and crown and throne and said and government and peers and law and change in around 375 words.\n"
     ]
    },
    {
     "name": "stderr",
     "output_type": "stream",
     "text": [
      "Setting `pad_token_id` to `eos_token_id`:2 for open-end generation.\n"
     ]
    },
    {
     "name": "stdout",
     "output_type": "stream",
     "text": [
      "[267] prompt: Generate some news articles about politics using keywords ukip and election and tories and morris and believe and party and britain and eu and general and think in around 1017 words.\n"
     ]
    },
    {
     "name": "stderr",
     "output_type": "stream",
     "text": [
      "Setting `pad_token_id` to `eos_token_id`:2 for open-end generation.\n"
     ]
    },
    {
     "name": "stdout",
     "output_type": "stream",
     "text": [
      "[268] prompt: Generate some news articles about politics using keywords labour and said and milburn and people and mr and told and reforms and would and new and work in around 611 words.\n"
     ]
    },
    {
     "name": "stderr",
     "output_type": "stream",
     "text": [
      "Setting `pad_token_id` to `eos_token_id`:2 for open-end generation.\n"
     ]
    },
    {
     "name": "stdout",
     "output_type": "stream",
     "text": [
      "[269] prompt: Generate some news articles about politics using keywords little and survey and pupils and politics and questioned and knew and lib and dems and one and also in around 240 words.\n"
     ]
    },
    {
     "name": "stderr",
     "output_type": "stream",
     "text": [
      "Setting `pad_token_id` to `eos_token_id`:2 for open-end generation.\n"
     ]
    },
    {
     "name": "stdout",
     "output_type": "stream",
     "text": [
      "[270] prompt: Generate some news articles about politics using keywords tax and mr and howard and cuts and tory and robert and jackson and labour and election and finally in around 569 words.\n"
     ]
    },
    {
     "name": "stderr",
     "output_type": "stream",
     "text": [
      "Setting `pad_token_id` to `eos_token_id`:2 for open-end generation.\n"
     ]
    },
    {
     "name": "stdout",
     "output_type": "stream",
     "text": [
      "[271] prompt: Generate some news articles about politics using keywords mr and howard and government and would and taxes and cuts and leader and spending and services and borrowing in around 668 words.\n"
     ]
    },
    {
     "name": "stderr",
     "output_type": "stream",
     "text": [
      "Setting `pad_token_id` to `eos_token_id`:2 for open-end generation.\n",
      "Setting `pad_token_id` to `eos_token_id`:2 for open-end generation.\n"
     ]
    },
    {
     "name": "stdout",
     "output_type": "stream",
     "text": [
      "[272] prompt: Generate some news articles about politics using keywords party and election and kennedy and opposition and labour and lib and big and tax and liberal and democrats in around 617 words.\n",
      "[273] prompt: Generate some news articles about politics using keywords lord and chancellor and said and government and minister and job and bill and lords and person and lawyer in around 467 words.\n"
     ]
    },
    {
     "name": "stderr",
     "output_type": "stream",
     "text": [
      "Setting `pad_token_id` to `eos_token_id`:2 for open-end generation.\n"
     ]
    },
    {
     "name": "stdout",
     "output_type": "stream",
     "text": [
      "[274] prompt: Generate some news articles about politics using keywords brown and world and also and says and one and mr and politics and memory and gordon and eyes in around 466 words.\n"
     ]
    },
    {
     "name": "stderr",
     "output_type": "stream",
     "text": [
      "Setting `pad_token_id` to `eos_token_id`:2 for open-end generation.\n"
     ]
    },
    {
     "name": "stdout",
     "output_type": "stream",
     "text": [
      "[275] prompt: Generate some news articles about politics using keywords tax and tory and howard and cuts and would and tories and able and party and mr and election in around 478 words.\n"
     ]
    },
    {
     "name": "stderr",
     "output_type": "stream",
     "text": [
      "Setting `pad_token_id` to `eos_token_id`:2 for open-end generation.\n"
     ]
    },
    {
     "name": "stdout",
     "output_type": "stream",
     "text": [
      "[276] prompt: Generate some news articles about politics using keywords mr and labour and said and brown and blair and bannatyne and government and would and give and also in around 502 words.\n"
     ]
    },
    {
     "name": "stderr",
     "output_type": "stream",
     "text": [
      "Setting `pad_token_id` to `eos_token_id`:2 for open-end generation.\n"
     ]
    },
    {
     "name": "stdout",
     "output_type": "stream",
     "text": [
      "[277] prompt: Generate some news articles about politics using keywords labour and howard and tax and mr and blair and said and party and tory and taxes and plans in around 344 words.\n"
     ]
    },
    {
     "name": "stderr",
     "output_type": "stream",
     "text": [
      "Setting `pad_token_id` to `eos_token_id`:2 for open-end generation.\n"
     ]
    },
    {
     "name": "stdout",
     "output_type": "stream",
     "text": [
      "[278] prompt: Generate some news articles about politics using keywords new and labour and election and one and parties and billion and tories and headquarters and press and campaign in around 322 words.\n"
     ]
    },
    {
     "name": "stderr",
     "output_type": "stream",
     "text": [
      "Setting `pad_token_id` to `eos_token_id`:2 for open-end generation.\n"
     ]
    },
    {
     "name": "stdout",
     "output_type": "stream",
     "text": [
      "[279] prompt: Generate some news articles about politics using keywords rights and human and said and war and khan and amnesty and movement and ms and groups and language in around 576 words.\n"
     ]
    },
    {
     "name": "stderr",
     "output_type": "stream",
     "text": [
      "Setting `pad_token_id` to `eos_token_id`:2 for open-end generation.\n"
     ]
    },
    {
     "name": "stdout",
     "output_type": "stream",
     "text": [
      "[280] prompt: Generate some news articles about politics using keywords mr and blair and us and bush and said and prime and minister and president and military and europe in around 338 words.\n"
     ]
    },
    {
     "name": "stderr",
     "output_type": "stream",
     "text": [
      "Setting `pad_token_id` to `eos_token_id`:2 for open-end generation.\n"
     ]
    },
    {
     "name": "stdout",
     "output_type": "stream",
     "text": [
      "[281] prompt: Generate some news articles about politics using keywords party and ukip and mr and said and new and european and uk and election and confirm and knapman in around 563 words.\n"
     ]
    },
    {
     "name": "stderr",
     "output_type": "stream",
     "text": [
      "Setting `pad_token_id` to `eos_token_id`:2 for open-end generation.\n"
     ]
    },
    {
     "name": "stdout",
     "output_type": "stream",
     "text": [
      "[282] prompt: Generate some news articles about politics using keywords said and mr and would and blair and tory and spending and labour and party and cuts and plans in around 693 words.\n"
     ]
    },
    {
     "name": "stderr",
     "output_type": "stream",
     "text": [
      "Setting `pad_token_id` to `eos_token_id`:2 for open-end generation.\n",
      "Setting `pad_token_id` to `eos_token_id`:2 for open-end generation.\n"
     ]
    },
    {
     "name": "stdout",
     "output_type": "stream",
     "text": [
      "[283] prompt: Generate some news articles about politics using keywords election and kennedy and lib and mr and party and services and tax and taxes and labour and tories in around 564 words.\n"
     ]
    },
    {
     "name": "stderr",
     "output_type": "stream",
     "text": [
      "Setting `pad_token_id` to `eos_token_id`:2 for open-end generation.\n"
     ]
    },
    {
     "name": "stdout",
     "output_type": "stream",
     "text": [
      "[284] prompt: Generate some news articles about politics using keywords party and election and labour and tax and kennedy and conservatives and one and claims and general and said in around 791 words.\n",
      "[285] prompt: Generate some news articles about politics using keywords hague and mr and party and said and ambition and leader and told and would and front and conservative in around 345 words.\n"
     ]
    },
    {
     "name": "stderr",
     "output_type": "stream",
     "text": [
      "Setting `pad_token_id` to `eos_token_id`:2 for open-end generation.\n"
     ]
    },
    {
     "name": "stdout",
     "output_type": "stream",
     "text": [
      "[286] prompt: Generate some news articles about politics using keywords houston and said and mr and ukip and suspended and candidate and party and views and would and criminally in around 390 words.\n"
     ]
    },
    {
     "name": "stderr",
     "output_type": "stream",
     "text": [
      "Setting `pad_token_id` to `eos_token_id`:2 for open-end generation.\n"
     ]
    },
    {
     "name": "stdout",
     "output_type": "stream",
     "text": [
      "[287] prompt: Generate some news articles about politics using keywords lords and speaker and lord and boothroyd and said and house and chancellor and commons and manifesto and peers in around 328 words.\n"
     ]
    },
    {
     "name": "stderr",
     "output_type": "stream",
     "text": [
      "Setting `pad_token_id` to `eos_token_id`:2 for open-end generation.\n"
     ]
    },
    {
     "name": "stdout",
     "output_type": "stream",
     "text": [
      "[288] prompt: Generate some news articles about politics using keywords mr and ukip and said and party and hockney and houston and london and members and leader and new in around 341 words.\n"
     ]
    },
    {
     "name": "stderr",
     "output_type": "stream",
     "text": [
      "Setting `pad_token_id` to `eos_token_id`:2 for open-end generation.\n",
      "Setting `pad_token_id` to `eos_token_id`:2 for open-end generation.\n"
     ]
    },
    {
     "name": "stdout",
     "output_type": "stream",
     "text": [
      "[289] prompt: Generate some news articles about politics using keywords kinnock and lords and labour and house and former and leader and lord and education and later and baron in around 483 words.\n",
      "[290] prompt: Generate some news articles about politics using keywords forsyth and government and mr and people and threat and without and new and agree and one and terrorists in around 4983 words.\n"
     ]
    },
    {
     "name": "stderr",
     "output_type": "stream",
     "text": [
      "Setting `pad_token_id` to `eos_token_id`:2 for open-end generation.\n"
     ]
    },
    {
     "name": "stdout",
     "output_type": "stream",
     "text": [
      "[291] prompt: Generate some news articles about politics using keywords merger and unions and amicus and tgwu and union and two and could and million and members and would in around 222 words.\n"
     ]
    },
    {
     "name": "stderr",
     "output_type": "stream",
     "text": [
      "Setting `pad_token_id` to `eos_token_id`:2 for open-end generation.\n"
     ]
    },
    {
     "name": "stdout",
     "output_type": "stream",
     "text": [
      "[292] prompt: Generate some news articles about politics using keywords mr and ukip and said and eu and told and mep and party and germany and meps and documentary in around 811 words.\n"
     ]
    },
    {
     "name": "stderr",
     "output_type": "stream",
     "text": [
      "Setting `pad_token_id` to `eos_token_id`:2 for open-end generation.\n"
     ]
    },
    {
     "name": "stdout",
     "output_type": "stream",
     "text": [
      "[293] prompt: Generate some news articles about politics using keywords ukip and party and mr and parties and kilroy and one and people and said and veritas and robert in around 2694 words.\n"
     ]
    },
    {
     "name": "stderr",
     "output_type": "stream",
     "text": [
      "Setting `pad_token_id` to `eos_token_id`:2 for open-end generation.\n"
     ]
    },
    {
     "name": "stdout",
     "output_type": "stream",
     "text": [
      "[294] prompt: Generate some news articles about politics using keywords government and unions and choice and union and public and could and workers and said and civil and strike in around 348 words.\n"
     ]
    },
    {
     "name": "stderr",
     "output_type": "stream",
     "text": [
      "Setting `pad_token_id` to `eos_token_id`:2 for open-end generation.\n"
     ]
    },
    {
     "name": "stdout",
     "output_type": "stream",
     "text": [
      "[295] prompt: Generate some news articles about politics using keywords blair and mr and labour and prime and minister and lord and party and brown and chancellor and tony in around 386 words.\n"
     ]
    },
    {
     "name": "stderr",
     "output_type": "stream",
     "text": [
      "Setting `pad_token_id` to `eos_token_id`:2 for open-end generation.\n"
     ]
    },
    {
     "name": "stdout",
     "output_type": "stream",
     "text": [
      "[296] prompt: Generate some news articles about politics using keywords archer and lord and would and said and dr and fox and tory and conservative and party and sympathetically in around 387 words.\n"
     ]
    },
    {
     "name": "stderr",
     "output_type": "stream",
     "text": [
      "Setting `pad_token_id` to `eos_token_id`:2 for open-end generation.\n"
     ]
    },
    {
     "name": "stdout",
     "output_type": "stream",
     "text": [
      "[297] prompt: Generate some news articles about politics using keywords bbc and campbell and mr and labour and said and mandelson and campaigning and alastair and dirty and tricks in around 442 words.\n"
     ]
    },
    {
     "name": "stderr",
     "output_type": "stream",
     "text": [
      "Setting `pad_token_id` to `eos_token_id`:2 for open-end generation.\n"
     ]
    },
    {
     "name": "stdout",
     "output_type": "stream",
     "text": [
      "[298] prompt: Generate some news articles about politics using keywords parties and donations and says and political and cap and commission and public and elections and report and would in around 596 words.\n"
     ]
    },
    {
     "name": "stderr",
     "output_type": "stream",
     "text": [
      "Setting `pad_token_id` to `eos_token_id`:2 for open-end generation.\n"
     ]
    },
    {
     "name": "stdout",
     "output_type": "stream",
     "text": [
      "[299] prompt: Generate some news articles about politics using keywords id and cards and said and would and tories and introduce and bill and party and home and whether in around 357 words.\n"
     ]
    },
    {
     "name": "stderr",
     "output_type": "stream",
     "text": [
      "Setting `pad_token_id` to `eos_token_id`:2 for open-end generation.\n"
     ]
    },
    {
     "name": "stdout",
     "output_type": "stream",
     "text": [
      "[300] prompt: Generate some news articles about politics using keywords said and id and cards and would and howard and plans and mr and shadow and decision and police in around 590 words.\n"
     ]
    },
    {
     "name": "stderr",
     "output_type": "stream",
     "text": [
      "Setting `pad_token_id` to `eos_token_id`:2 for open-end generation.\n"
     ]
    },
    {
     "name": "stdout",
     "output_type": "stream",
     "text": [
      "[301] prompt: Generate some news articles about politics using keywords tax and said and would and lib and kennedy and taxes and dems and people and government and mr in around 554 words.\n"
     ]
    },
    {
     "name": "stderr",
     "output_type": "stream",
     "text": [
      "Setting `pad_token_id` to `eos_token_id`:2 for open-end generation.\n",
      "Setting `pad_token_id` to `eos_token_id`:2 for open-end generation.\n"
     ]
    },
    {
     "name": "stdout",
     "output_type": "stream",
     "text": [
      "[302] prompt: Generate some news articles about politics using keywords galloway and mr and said and labour and mp and green and king and bethnal and constituency and london in around 513 words.\n"
     ]
    },
    {
     "name": "stderr",
     "output_type": "stream",
     "text": [
      "Setting `pad_token_id` to `eos_token_id`:2 for open-end generation.\n"
     ]
    },
    {
     "name": "stdout",
     "output_type": "stream",
     "text": [
      "[303] prompt: Generate some news articles about politics using keywords mr and sir and edward and thorpe and government and coalition and colleagues and prime and minister and form in around 671 words.\n",
      "[304] prompt: Generate some news articles about politics using keywords ukip and labour and campaign and party and outspent and figures and spent and conservatives and buying and eu in around 160 words.\n"
     ]
    },
    {
     "name": "stderr",
     "output_type": "stream",
     "text": [
      "Setting `pad_token_id` to `eos_token_id`:2 for open-end generation.\n"
     ]
    },
    {
     "name": "stdout",
     "output_type": "stream",
     "text": [
      "[305] prompt: Generate some news articles about politics using keywords labour and mr and said and milburn and election and campaign and would and battle and blair and party in around 597 words.\n"
     ]
    },
    {
     "name": "stderr",
     "output_type": "stream",
     "text": [
      "Setting `pad_token_id` to `eos_token_id`:2 for open-end generation.\n",
      "Setting `pad_token_id` to `eos_token_id`:2 for open-end generation.\n"
     ]
    },
    {
     "name": "stdout",
     "output_type": "stream",
     "text": [
      "[306] prompt: Generate some news articles about politics using keywords campbell and election and labour and campaign and mr and told and would and street and alastair and return in around 466 words.\n",
      "[307] prompt: Generate some news articles about politics using keywords mr and jackson and labour and europe and blair and conservative and mp and said and minister and party in around 369 words.\n"
     ]
    },
    {
     "name": "stderr",
     "output_type": "stream",
     "text": [
      "Setting `pad_token_id` to `eos_token_id`:2 for open-end generation.\n",
      "Setting `pad_token_id` to `eos_token_id`:2 for open-end generation.\n"
     ]
    },
    {
     "name": "stdout",
     "output_type": "stream",
     "text": [
      "[308] prompt: Generate some news articles about politics using keywords meyer and party and tory and horse and sir and anthony and leadership and died and challenge and john in around 196 words.\n",
      "[309] prompt: Generate some news articles about politics using keywords mock and elections and young and people and uk and electoral and commission and said and politics and feel in around 226 words.\n"
     ]
    },
    {
     "name": "stderr",
     "output_type": "stream",
     "text": [
      "Setting `pad_token_id` to `eos_token_id`:2 for open-end generation.\n"
     ]
    },
    {
     "name": "stdout",
     "output_type": "stream",
     "text": [
      "[310] prompt: Generate some news articles about politics using keywords mps and commons and chamber and speaker and use and blackberries and martin and used and phone and pager in around 161 words.\n"
     ]
    },
    {
     "name": "stderr",
     "output_type": "stream",
     "text": [
      "Setting `pad_token_id` to `eos_token_id`:2 for open-end generation.\n",
      "Setting `pad_token_id` to `eos_token_id`:2 for open-end generation.\n"
     ]
    },
    {
     "name": "stdout",
     "output_type": "stream",
     "text": [
      "[311] prompt: Generate some news articles about politics using keywords government and workers and public and pension and choice and sector and unions and prescott and union and talks in around 429 words.\n",
      "[312] prompt: Generate some news articles about politics using keywords public and government and workers and pension and choice and sector and unions and prescott and union and said in around 422 words.\n"
     ]
    },
    {
     "name": "stderr",
     "output_type": "stream",
     "text": [
      "Setting `pad_token_id` to `eos_token_id`:2 for open-end generation.\n"
     ]
    },
    {
     "name": "stdout",
     "output_type": "stream",
     "text": [
      "[313] prompt: Generate some news articles about politics using keywords said and election and older and state and pension and people and pensions and parties and vote and lishman in around 439 words.\n"
     ]
    },
    {
     "name": "stderr",
     "output_type": "stream",
     "text": [
      "Setting `pad_token_id` to `eos_token_id`:2 for open-end generation.\n"
     ]
    },
    {
     "name": "stdout",
     "output_type": "stream",
     "text": [
      "[314] prompt: Generate some news articles about politics using keywords blair and said and people and trust and answer and news and mr and talking and say and things in around 344 words.\n"
     ]
    },
    {
     "name": "stderr",
     "output_type": "stream",
     "text": [
      "Setting `pad_token_id` to `eos_token_id`:2 for open-end generation.\n"
     ]
    },
    {
     "name": "stdout",
     "output_type": "stream",
     "text": [
      "[315] prompt: Generate some news articles about politics using keywords mr and smith and new and chief and work and csa and still and departure and pensions and committee in around 859 words.\n"
     ]
    },
    {
     "name": "stderr",
     "output_type": "stream",
     "text": [
      "Setting `pad_token_id` to `eos_token_id`:2 for open-end generation.\n"
     ]
    },
    {
     "name": "stdout",
     "output_type": "stream",
     "text": [
      "[316] prompt: Generate some news articles about politics using keywords mr and jewish and blair and howard and said and ever and attack and also and labour and would in around 487 words.\n"
     ]
    },
    {
     "name": "stderr",
     "output_type": "stream",
     "text": [
      "Setting `pad_token_id` to `eos_token_id`:2 for open-end generation.\n"
     ]
    },
    {
     "name": "stdout",
     "output_type": "stream",
     "text": [
      "[317] prompt: Generate some news articles about politics using keywords tax and would and council and say and pensioners and said and local and says and government and system in around 503 words.\n"
     ]
    },
    {
     "name": "stderr",
     "output_type": "stream",
     "text": [
      "Setting `pad_token_id` to `eos_token_id`:2 for open-end generation.\n"
     ]
    },
    {
     "name": "stdout",
     "output_type": "stream",
     "text": [
      "[318] prompt: Generate some news articles about politics using keywords ethnic and minority and labour and said and shortlists and minorities and spokesman and party and race and white in around 378 words.\n"
     ]
    },
    {
     "name": "stderr",
     "output_type": "stream",
     "text": [
      "Setting `pad_token_id` to `eos_token_id`:2 for open-end generation.\n"
     ]
    },
    {
     "name": "stdout",
     "output_type": "stream",
     "text": [
      "[319] prompt: Generate some news articles about politics using keywords lords and said and group and would and mps and second and chamber and members and government and plan in around 552 words.\n"
     ]
    },
    {
     "name": "stderr",
     "output_type": "stream",
     "text": [
      "Setting `pad_token_id` to `eos_token_id`:2 for open-end generation.\n"
     ]
    },
    {
     "name": "stdout",
     "output_type": "stream",
     "text": [
      "[320] prompt: Generate some news articles about politics using keywords also and register and former and year and secretary and paid and hague and work and shown and shows in around 640 words.\n"
     ]
    },
    {
     "name": "stderr",
     "output_type": "stream",
     "text": [
      "Setting `pad_token_id` to `eos_token_id`:2 for open-end generation.\n"
     ]
    },
    {
     "name": "stdout",
     "output_type": "stream",
     "text": [
      "[321] prompt: Generate some news articles about politics using keywords schools and mock and take and part and election and elections and hansard and society and pupils and said in around 279 words.\n"
     ]
    },
    {
     "name": "stderr",
     "output_type": "stream",
     "text": [
      "Setting `pad_token_id` to `eos_token_id`:2 for open-end generation.\n"
     ]
    },
    {
     "name": "stdout",
     "output_type": "stream",
     "text": [
      "[322] prompt: Generate some news articles about politics using keywords donations and party and parties and gave and company and received and quarter and political and conservatives and came in around 475 words.\n"
     ]
    },
    {
     "name": "stderr",
     "output_type": "stream",
     "text": [
      "Setting `pad_token_id` to `eos_token_id`:2 for open-end generation.\n"
     ]
    },
    {
     "name": "stdout",
     "output_type": "stream",
     "text": [
      "[323] prompt: Generate some news articles about politics using keywords politics and turnout and kennedy and voter and general and election and said and iraq and inquiry and boost in around 279 words.\n"
     ]
    },
    {
     "name": "stderr",
     "output_type": "stream",
     "text": [
      "Setting `pad_token_id` to `eos_token_id`:2 for open-end generation.\n"
     ]
    },
    {
     "name": "stdout",
     "output_type": "stream",
     "text": [
      "[324] prompt: Generate some news articles about politics using keywords lord and goldsmith and advice and legal and march and claims and war and attorney and general and government in around 738 words.\n"
     ]
    },
    {
     "name": "stderr",
     "output_type": "stream",
     "text": [
      "Setting `pad_token_id` to `eos_token_id`:2 for open-end generation.\n"
     ]
    },
    {
     "name": "stdout",
     "output_type": "stream",
     "text": [
      "[325] prompt: Generate some news articles about politics using keywords party and ukip and mr and said and could and veritas and hockney and list and seats and take in around 314 words.\n"
     ]
    },
    {
     "name": "stderr",
     "output_type": "stream",
     "text": [
      "Setting `pad_token_id` to `eos_token_id`:2 for open-end generation.\n",
      "Setting `pad_token_id` to `eos_token_id`:2 for open-end generation.\n"
     ]
    },
    {
     "name": "stdout",
     "output_type": "stream",
     "text": [
      "[326] prompt: Generate some news articles about politics using keywords prime and minister and tories and playing and politics and election and anyone and debate and issue and mr in around 514 words.\n"
     ]
    },
    {
     "name": "stderr",
     "output_type": "stream",
     "text": [
      "Setting `pad_token_id` to `eos_token_id`:2 for open-end generation.\n"
     ]
    },
    {
     "name": "stdout",
     "output_type": "stream",
     "text": [
      "[327] prompt: Generate some news articles about politics using keywords said and answer and lord and advice and goldsmith and general and statement and summary and war and attorney in around 842 words.\n",
      "[328] prompt: Generate some news articles about politics using keywords answer and lord and said and general and goldsmith and attorney and advice and legal and summary and full in around 723 words.\n"
     ]
    },
    {
     "name": "stderr",
     "output_type": "stream",
     "text": [
      "Setting `pad_token_id` to `eos_token_id`:2 for open-end generation.\n"
     ]
    },
    {
     "name": "stdout",
     "output_type": "stream",
     "text": [
      "[329] prompt: Generate some news articles about politics using keywords mr and howard and party and crosby and said and report and win and statement and added and elections in around 219 words.\n"
     ]
    },
    {
     "name": "stderr",
     "output_type": "stream",
     "text": [
      "Setting `pad_token_id` to `eos_token_id`:2 for open-end generation.\n"
     ]
    },
    {
     "name": "stdout",
     "output_type": "stream",
     "text": [
      "[330] prompt: Generate some news articles about politics using keywords blackpool and party and manchester and conference and labour and much and autumn and host and annual and event in around 313 words.\n"
     ]
    },
    {
     "name": "stderr",
     "output_type": "stream",
     "text": [
      "Setting `pad_token_id` to `eos_token_id`:2 for open-end generation.\n"
     ]
    },
    {
     "name": "stdout",
     "output_type": "stream",
     "text": [
      "[331] prompt: Generate some news articles about politics using keywords labour and poster and mr and howard and said and image and people and jewish and fagin and saying in around 541 words.\n"
     ]
    },
    {
     "name": "stderr",
     "output_type": "stream",
     "text": [
      "Setting `pad_token_id` to `eos_token_id`:2 for open-end generation.\n"
     ]
    },
    {
     "name": "stdout",
     "output_type": "stream",
     "text": [
      "[332] prompt: Generate some news articles about politics using keywords labour and posters and party and said and milburn and poster and tory and mr and fagin and website in around 452 words.\n"
     ]
    },
    {
     "name": "stderr",
     "output_type": "stream",
     "text": [
      "Setting `pad_token_id` to `eos_token_id`:2 for open-end generation.\n",
      "Setting `pad_token_id` to `eos_token_id`:2 for open-end generation.\n"
     ]
    },
    {
     "name": "stdout",
     "output_type": "stream",
     "text": [
      "[333] prompt: Generate some news articles about politics using keywords mr and ukip and party and said and election and veritas and seat and erewash and says and new in around 502 words.\n",
      "[334] prompt: Generate some news articles about politics using keywords issue and parties and election and immigration and asylum and big and tories and already and time and labour in around 425 words.\n"
     ]
    },
    {
     "name": "stderr",
     "output_type": "stream",
     "text": [
      "Setting `pad_token_id` to `eos_token_id`:2 for open-end generation.\n",
      "Setting `pad_token_id` to `eos_token_id`:2 for open-end generation.\n"
     ]
    },
    {
     "name": "stdout",
     "output_type": "stream",
     "text": [
      "[335] prompt: Generate some news articles about politics using keywords labour and kennedy and mr and liberal and tories and general and election and said and tour and leader in around 496 words.\n",
      "[336] prompt: Generate some news articles about politics using keywords labour and said and mr and blair and party and problem and think and leader and iraq and people in around 977 words.\n"
     ]
    },
    {
     "name": "stderr",
     "output_type": "stream",
     "text": [
      "Setting `pad_token_id` to `eos_token_id`:2 for open-end generation.\n"
     ]
    },
    {
     "name": "stdout",
     "output_type": "stream",
     "text": [
      "[337] prompt: Generate some news articles about politics using keywords calls and tps and party and said and people and marketing and parties and rules and voting and intentions in around 686 words.\n"
     ]
    },
    {
     "name": "stderr",
     "output_type": "stream",
     "text": [
      "Setting `pad_token_id` to `eos_token_id`:2 for open-end generation.\n"
     ]
    },
    {
     "name": "stdout",
     "output_type": "stream",
     "text": [
      "[338] prompt: Generate some news articles about politics using keywords lib and mr and labour and dems and debt and say and cable and would and kennedy and tories in around 545 words.\n"
     ]
    },
    {
     "name": "stderr",
     "output_type": "stream",
     "text": [
      "Setting `pad_token_id` to `eos_token_id`:2 for open-end generation.\n"
     ]
    },
    {
     "name": "stdout",
     "output_type": "stream",
     "text": [
      "[339] prompt: Generate some news articles about politics using keywords would and lib and homes and people and said and dems and plans and share and housing and local in around 642 words.\n"
     ]
    },
    {
     "name": "stderr",
     "output_type": "stream",
     "text": [
      "Setting `pad_token_id` to `eos_token_id`:2 for open-end generation.\n"
     ]
    },
    {
     "name": "stdout",
     "output_type": "stream",
     "text": [
      "[340] prompt: Generate some news articles about politics using keywords women and said and kennedy and would and party and mr and also and childcare and pay and maternity in around 604 words.\n"
     ]
    },
    {
     "name": "stderr",
     "output_type": "stream",
     "text": [
      "Setting `pad_token_id` to `eos_token_id`:2 for open-end generation.\n"
     ]
    },
    {
     "name": "stdout",
     "output_type": "stream",
     "text": [
      "[341] prompt: Generate some news articles about politics using keywords said and blair and party and kennedy and trust and tax and mr and people and lib and tony in around 378 words.\n"
     ]
    },
    {
     "name": "stderr",
     "output_type": "stream",
     "text": [
      "Setting `pad_token_id` to `eos_token_id`:2 for open-end generation.\n"
     ]
    },
    {
     "name": "stdout",
     "output_type": "stream",
     "text": [
      "[342] prompt: Generate some news articles about politics using keywords mr and labour and brown and election and blair and new and said and role and would and key in around 372 words.\n"
     ]
    },
    {
     "name": "stderr",
     "output_type": "stream",
     "text": [
      "Setting `pad_token_id` to `eos_token_id`:2 for open-end generation.\n",
      "Setting `pad_token_id` to `eos_token_id`:2 for open-end generation.\n"
     ]
    },
    {
     "name": "stdout",
     "output_type": "stream",
     "text": [
      "[343] prompt: Generate some news articles about politics using keywords labour and cunningham and mr and stand and cabinet and minister and said and agriculture and blair and government in around 137 words.\n",
      "[344] prompt: Generate some news articles about politics using keywords tax and would and labour and tory and election and party and spending and mr and howard and cuts in around 643 words.\n"
     ]
    },
    {
     "name": "stderr",
     "output_type": "stream",
     "text": [
      "Setting `pad_token_id` to `eos_token_id`:2 for open-end generation.\n",
      "Setting `pad_token_id` to `eos_token_id`:2 for open-end generation.\n"
     ]
    },
    {
     "name": "stdout",
     "output_type": "stream",
     "text": [
      "[345] prompt: Generate some news articles about politics using keywords age and voting and said and leslie and would and commission and elected and lowering and candidacy and teenagers in around 373 words.\n",
      "[346] prompt: Generate some news articles about politics using keywords labour and campaign and would and election and britain and forward and declared and tony and blair and four in around 416 words.\n"
     ]
    },
    {
     "name": "stderr",
     "output_type": "stream",
     "text": [
      "Setting `pad_token_id` to `eos_token_id`:2 for open-end generation.\n"
     ]
    },
    {
     "name": "stdout",
     "output_type": "stream",
     "text": [
      "[347] prompt: Generate some news articles about politics using keywords police and said and would and policing and plans and authorities and local and howard and chief and could in around 540 words.\n"
     ]
    },
    {
     "name": "stderr",
     "output_type": "stream",
     "text": [
      "Setting `pad_token_id` to `eos_token_id`:2 for open-end generation.\n"
     ]
    },
    {
     "name": "stdout",
     "output_type": "stream",
     "text": [
      "[348] prompt: Generate some news articles about politics using keywords said and broadcasters and would and lord and holme and debate and televised and part and prime and blair in around 544 words.\n"
     ]
    },
    {
     "name": "stderr",
     "output_type": "stream",
     "text": [
      "Setting `pad_token_id` to `eos_token_id`:2 for open-end generation.\n"
     ]
    },
    {
     "name": "stdout",
     "output_type": "stream",
     "text": [
      "[349] prompt: Generate some news articles about politics using keywords labour and brown and gordon and said and chancellor and also and would and taxes and britain and home in around 712 words.\n"
     ]
    },
    {
     "name": "stderr",
     "output_type": "stream",
     "text": [
      "Setting `pad_token_id` to `eos_token_id`:2 for open-end generation.\n"
     ]
    },
    {
     "name": "stdout",
     "output_type": "stream",
     "text": [
      "[350] prompt: Generate some news articles about politics using keywords labour and election and said and mr and brown and would and speech and chancellor and prime and minister in around 482 words.\n"
     ]
    },
    {
     "name": "stderr",
     "output_type": "stream",
     "text": [
      "Setting `pad_token_id` to `eos_token_id`:2 for open-end generation.\n"
     ]
    },
    {
     "name": "stdout",
     "output_type": "stream",
     "text": [
      "[351] prompt: Generate some news articles about politics using keywords blair and mr and labour and said and fox and tory and election and going and party and told in around 548 words.\n"
     ]
    },
    {
     "name": "stderr",
     "output_type": "stream",
     "text": [
      "Setting `pad_token_id` to `eos_token_id`:2 for open-end generation.\n"
     ]
    },
    {
     "name": "stdout",
     "output_type": "stream",
     "text": [
      "[352] prompt: Generate some news articles about politics using keywords blair and education and mr and children and election and teachers and school and parents and schools and sailing in around 569 words.\n"
     ]
    },
    {
     "name": "stderr",
     "output_type": "stream",
     "text": [
      "Setting `pad_token_id` to `eos_token_id`:2 for open-end generation.\n"
     ]
    },
    {
     "name": "stdout",
     "output_type": "stream",
     "text": [
      "[353] prompt: Generate some news articles about politics using keywords blair and mr and public and election and prime and labour and campaign and war and minister and even in around 1017 words.\n"
     ]
    },
    {
     "name": "stderr",
     "output_type": "stream",
     "text": [
      "Setting `pad_token_id` to `eos_token_id`:2 for open-end generation.\n"
     ]
    },
    {
     "name": "stdout",
     "output_type": "stream",
     "text": [
      "[354] prompt: Generate some news articles about politics using keywords budget and election and brown and chancellor and contain and measures and labour and march and commons and announced in around 353 words.\n"
     ]
    },
    {
     "name": "stderr",
     "output_type": "stream",
     "text": [
      "Setting `pad_token_id` to `eos_token_id`:2 for open-end generation.\n"
     ]
    },
    {
     "name": "stdout",
     "output_type": "stream",
     "text": [
      "[355] prompt: Generate some news articles about politics using keywords mr and lib and brown and tax and cable and said and chancellor and dem and government and dems in around 548 words.\n"
     ]
    },
    {
     "name": "stderr",
     "output_type": "stream",
     "text": [
      "Setting `pad_token_id` to `eos_token_id`:2 for open-end generation.\n",
      "Setting `pad_token_id` to `eos_token_id`:2 for open-end generation.\n"
     ]
    },
    {
     "name": "stdout",
     "output_type": "stream",
     "text": [
      "[356] prompt: Generate some news articles about politics using keywords mr and said and chancellor and brown and blair and next and report and economy and stability and would in around 585 words.\n",
      "[357] prompt: Generate some news articles about politics using keywords local and government and council and raynsford and plans and tax and mr and said and cash and ministers in around 349 words.\n"
     ]
    },
    {
     "name": "stderr",
     "output_type": "stream",
     "text": [
      "Setting `pad_token_id` to `eos_token_id`:2 for open-end generation.\n",
      "Setting `pad_token_id` to `eos_token_id`:2 for open-end generation.\n"
     ]
    },
    {
     "name": "stdout",
     "output_type": "stream",
     "text": [
      "[358] prompt: Generate some news articles about politics using keywords eu and budget and foreign and rebate and european and straw and said and secretary and commission and could in around 274 words.\n",
      "[359] prompt: Generate some news articles about politics using keywords would and mr and brown and balls and said and election and chancellor and labour and stability and budget in around 562 words.\n"
     ]
    },
    {
     "name": "stderr",
     "output_type": "stream",
     "text": [
      "Setting `pad_token_id` to `eos_token_id`:2 for open-end generation.\n",
      "Setting `pad_token_id` to `eos_token_id`:2 for open-end generation.\n"
     ]
    },
    {
     "name": "stdout",
     "output_type": "stream",
     "text": [
      "[360] prompt: Generate some news articles about politics using keywords mr and brown and budget and voters and economy and election and tax and labour and keep and taxes in around 521 words.\n",
      "[361] prompt: Generate some news articles about politics using keywords duty and stamp and said and tax and economy and labour and threshold and chancellor and increase and budget in around 588 words.\n"
     ]
    },
    {
     "name": "stderr",
     "output_type": "stream",
     "text": [
      "Setting `pad_token_id` to `eos_token_id`:2 for open-end generation.\n"
     ]
    },
    {
     "name": "stdout",
     "output_type": "stream",
     "text": [
      "[362] prompt: Generate some news articles about politics using keywords election and brown and labour and tax and chancellor and dodgy and gordon and budget and opposition and parties in around 664 words.\n"
     ]
    },
    {
     "name": "stderr",
     "output_type": "stream",
     "text": [
      "Setting `pad_token_id` to `eos_token_id`:2 for open-end generation.\n"
     ]
    },
    {
     "name": "stdout",
     "output_type": "stream",
     "text": [
      "[363] prompt: Generate some news articles about politics using keywords tax and kennedy and mr and said and income and council and election and would and brown and system in around 428 words.\n"
     ]
    },
    {
     "name": "stderr",
     "output_type": "stream",
     "text": [
      "Setting `pad_token_id` to `eos_token_id`:2 for open-end generation.\n"
     ]
    },
    {
     "name": "stdout",
     "output_type": "stream",
     "text": [
      "[364] prompt: Generate some news articles about politics using keywords mr and said and election and howard and budget and brown and labour and chancellor and tax and tory in around 447 words.\n"
     ]
    },
    {
     "name": "stderr",
     "output_type": "stream",
     "text": [
      "Setting `pad_token_id` to `eos_token_id`:2 for open-end generation.\n",
      "Setting `pad_token_id` to `eos_token_id`:2 for open-end generation.\n"
     ]
    },
    {
     "name": "stdout",
     "output_type": "stream",
     "text": [
      "[365] prompt: Generate some news articles about politics using keywords jobs and civil and cut and said and plans and department and service and brown and go and chancellor in around 375 words.\n"
     ]
    },
    {
     "name": "stderr",
     "output_type": "stream",
     "text": [
      "Setting `pad_token_id` to `eos_token_id`:2 for open-end generation.\n"
     ]
    },
    {
     "name": "stdout",
     "output_type": "stream",
     "text": [
      "[366] prompt: Generate some news articles about politics using keywords brown and world and mr and vaccine and said and finance and aid and hiv and fund and called in around 569 words.\n",
      "[367] prompt: Generate some news articles about politics using keywords britain and howard and said and mr and government and people and blair and wrong and tackle and problems in around 550 words.\n"
     ]
    },
    {
     "name": "stderr",
     "output_type": "stream",
     "text": [
      "Setting `pad_token_id` to `eos_token_id`:2 for open-end generation.\n"
     ]
    },
    {
     "name": "stdout",
     "output_type": "stream",
     "text": [
      "[368] prompt: Generate some news articles about politics using keywords government and lords and said and law and ruling and human and rights and judgement and detention and robinson in around 520 words.\n"
     ]
    },
    {
     "name": "stderr",
     "output_type": "stream",
     "text": [
      "Setting `pad_token_id` to `eos_token_id`:2 for open-end generation.\n",
      "Setting `pad_token_id` to `eos_token_id`:2 for open-end generation.\n"
     ]
    },
    {
     "name": "stdout",
     "output_type": "stream",
     "text": [
      "[369] prompt: Generate some news articles about politics using keywords baa and expansion and said and government and stansted and plans and white and paper and heathrow and support in around 365 words.\n"
     ]
    },
    {
     "name": "stderr",
     "output_type": "stream",
     "text": [
      "Setting `pad_token_id` to `eos_token_id`:2 for open-end generation.\n"
     ]
    },
    {
     "name": "stdout",
     "output_type": "stream",
     "text": [
      "[370] prompt: Generate some news articles about politics using keywords said and roma and asylum and uk and government and immigration and entry and britain and rights and czechs in around 589 words.\n",
      "[371] prompt: Generate some news articles about politics using keywords howard and ethnic and mr and say and tory and uk and vote and make and britain and people in around 437 words.\n"
     ]
    },
    {
     "name": "stderr",
     "output_type": "stream",
     "text": [
      "Setting `pad_token_id` to `eos_token_id`:2 for open-end generation.\n"
     ]
    },
    {
     "name": "stdout",
     "output_type": "stream",
     "text": [
      "[372] prompt: Generate some news articles about politics using keywords said and election and electoral and registration and general and system and observers and fraud and report and government in around 606 words.\n"
     ]
    },
    {
     "name": "stderr",
     "output_type": "stream",
     "text": [
      "Setting `pad_token_id` to `eos_token_id`:2 for open-end generation.\n"
     ]
    },
    {
     "name": "stdout",
     "output_type": "stream",
     "text": [
      "[373] prompt: Generate some news articles about politics using keywords eu and rebate and uk and said and european and mr and france and market and straw and budget in around 733 words.\n"
     ]
    },
    {
     "name": "stderr",
     "output_type": "stream",
     "text": [
      "Setting `pad_token_id` to `eos_token_id`:2 for open-end generation.\n",
      "Setting `pad_token_id` to `eos_token_id`:2 for open-end generation.\n"
     ]
    },
    {
     "name": "stdout",
     "output_type": "stream",
     "text": [
      "[374] prompt: Generate some news articles about politics using keywords said and tax and party and labour and prosper and tory and letwin and howard and would and failure in around 433 words.\n",
      "[375] prompt: Generate some news articles about politics using keywords tax and brown and mr and said and election and budget and pay and rise and also and child in around 839 words.\n"
     ]
    },
    {
     "name": "stderr",
     "output_type": "stream",
     "text": [
      "Setting `pad_token_id` to `eos_token_id`:2 for open-end generation.\n"
     ]
    },
    {
     "name": "stdout",
     "output_type": "stream",
     "text": [
      "[376] prompt: Generate some news articles about politics using keywords said and budget and leaked and commons and statement and resigned and would and details and london and newspaper in around 293 words.\n"
     ]
    },
    {
     "name": "stderr",
     "output_type": "stream",
     "text": [
      "Setting `pad_token_id` to `eos_token_id`:2 for open-end generation.\n"
     ]
    },
    {
     "name": "stdout",
     "output_type": "stream",
     "text": [
      "[377] prompt: Generate some news articles about politics using keywords uk and said and gambling and us and casinos and british and industry and casino and ban and tricks in around 285 words.\n"
     ]
    },
    {
     "name": "stderr",
     "output_type": "stream",
     "text": [
      "Setting `pad_token_id` to `eos_token_id`:2 for open-end generation.\n"
     ]
    },
    {
     "name": "stdout",
     "output_type": "stream",
     "text": [
      "[378] prompt: Generate some news articles about politics using keywords government and said and orders and would and blair and house and bbc and home and secretary and issue in around 597 words.\n"
     ]
    },
    {
     "name": "stderr",
     "output_type": "stream",
     "text": [
      "Setting `pad_token_id` to `eos_token_id`:2 for open-end generation.\n"
     ]
    },
    {
     "name": "stdout",
     "output_type": "stream",
     "text": [
      "[379] prompt: Generate some news articles about politics using keywords said and would and election and attack and sir and ian and blair and plans and terror and uk in around 560 words.\n"
     ]
    },
    {
     "name": "stderr",
     "output_type": "stream",
     "text": [
      "Setting `pad_token_id` to `eos_token_id`:2 for open-end generation.\n"
     ]
    },
    {
     "name": "stdout",
     "output_type": "stream",
     "text": [
      "[380] prompt: Generate some news articles about politics using keywords wage and minimum and increase and people and pay and government and work and jobs and business and would in around 3673 words.\n"
     ]
    },
    {
     "name": "stderr",
     "output_type": "stream",
     "text": [
      "Setting `pad_token_id` to `eos_token_id`:2 for open-end generation.\n"
     ]
    },
    {
     "name": "stdout",
     "output_type": "stream",
     "text": [
      "[381] prompt: Generate some news articles about politics using keywords ban and support and survey and adults and countryfile and supported and hunting and suggests and compared and mori in around 191 words.\n"
     ]
    },
    {
     "name": "stderr",
     "output_type": "stream",
     "text": [
      "Setting `pad_token_id` to `eos_token_id`:2 for open-end generation.\n"
     ]
    },
    {
     "name": "stdout",
     "output_type": "stream",
     "text": [
      "[382] prompt: Generate some news articles about politics using keywords health and would and people and tb and checks and uk and britain and plan and work and six in around 625 words.\n"
     ]
    },
    {
     "name": "stderr",
     "output_type": "stream",
     "text": [
      "Setting `pad_token_id` to `eos_token_id`:2 for open-end generation.\n"
     ]
    },
    {
     "name": "stdout",
     "output_type": "stream",
     "text": [
      "[383] prompt: Generate some news articles about politics using keywords eu and said and mr and constitution and straw and uk and foreign and referendum and would and government in around 625 words.\n"
     ]
    },
    {
     "name": "stderr",
     "output_type": "stream",
     "text": [
      "Setting `pad_token_id` to `eos_token_id`:2 for open-end generation.\n",
      "Setting `pad_token_id` to `eos_token_id`:2 for open-end generation.\n"
     ]
    },
    {
     "name": "stdout",
     "output_type": "stream",
     "text": [
      "[384] prompt: Generate some news articles about politics using keywords could and said and terror and law and human and rights and clarke and powers and suspects and house in around 644 words.\n",
      "[385] prompt: Generate some news articles about politics using keywords brown and immunisation and mr and uk and international and extra and years and poverty and trade and development in around 383 words.\n"
     ]
    },
    {
     "name": "stderr",
     "output_type": "stream",
     "text": [
      "Setting `pad_token_id` to `eos_token_id`:2 for open-end generation.\n"
     ]
    },
    {
     "name": "stdout",
     "output_type": "stream",
     "text": [
      "[386] prompt: Generate some news articles about politics using keywords china and embargo and arms and straw and mr and said and lifted and want and rights and foreign in around 576 words.\n"
     ]
    },
    {
     "name": "stderr",
     "output_type": "stream",
     "text": [
      "Setting `pad_token_id` to `eos_token_id`:2 for open-end generation.\n"
     ]
    },
    {
     "name": "stdout",
     "output_type": "stream",
     "text": [
      "[387] prompt: Generate some news articles about politics using keywords spending and tax and would and mr and said and labour and plans and brown and cut and chancellor in around 508 words.\n"
     ]
    },
    {
     "name": "stderr",
     "output_type": "stream",
     "text": [
      "Setting `pad_token_id` to `eos_token_id`:2 for open-end generation.\n"
     ]
    },
    {
     "name": "stdout",
     "output_type": "stream",
     "text": [
      "[388] prompt: Generate some news articles about politics using keywords care and people and said and government and social and plans and say and services and free and elderly in around 572 words.\n"
     ]
    },
    {
     "name": "stderr",
     "output_type": "stream",
     "text": [
      "Setting `pad_token_id` to `eos_token_id`:2 for open-end generation.\n"
     ]
    },
    {
     "name": "stdout",
     "output_type": "stream",
     "text": [
      "[389] prompt: Generate some news articles about politics using keywords said and rules and mr and brown and would and treasury and uk and euro and stability and pact in around 687 words.\n"
     ]
    },
    {
     "name": "stderr",
     "output_type": "stream",
     "text": [
      "Setting `pad_token_id` to `eos_token_id`:2 for open-end generation.\n"
     ]
    },
    {
     "name": "stdout",
     "output_type": "stream",
     "text": [
      "[390] prompt: Generate some news articles about politics using keywords access and said and court and plans and parents and could and orders and fathers and government and children in around 676 words.\n"
     ]
    },
    {
     "name": "stderr",
     "output_type": "stream",
     "text": [
      "Setting `pad_token_id` to `eos_token_id`:2 for open-end generation.\n"
     ]
    },
    {
     "name": "stdout",
     "output_type": "stream",
     "text": [
      "[391] prompt: Generate some news articles about politics using keywords cost and referendum and said and could and constitution and election and uk and european and ministers and revealed in around 197 words.\n"
     ]
    },
    {
     "name": "stderr",
     "output_type": "stream",
     "text": [
      "Setting `pad_token_id` to `eos_token_id`:2 for open-end generation.\n"
     ]
    },
    {
     "name": "stdout",
     "output_type": "stream",
     "text": [
      "[392] prompt: Generate some news articles about politics using keywords uk and said and brown and chancellor and mr and debt and relief and tanzania and past and britain in around 367 words.\n"
     ]
    },
    {
     "name": "stderr",
     "output_type": "stream",
     "text": [
      "Setting `pad_token_id` to `eos_token_id`:2 for open-end generation.\n"
     ]
    },
    {
     "name": "stdout",
     "output_type": "stream",
     "text": [
      "[393] prompt: Generate some news articles about politics using keywords parliament and archives and divorce and records and room and david and among and act and pages and people in around 824 words.\n"
     ]
    },
    {
     "name": "stderr",
     "output_type": "stream",
     "text": [
      "Setting `pad_token_id` to `eos_token_id`:2 for open-end generation.\n",
      "Setting `pad_token_id` to `eos_token_id`:2 for open-end generation.\n"
     ]
    },
    {
     "name": "stdout",
     "output_type": "stream",
     "text": [
      "[394] prompt: Generate some news articles about politics using keywords said and election and labour and campaign and people and policy and foreign and michael and mr and economy in around 509 words.\n",
      "[395] prompt: Generate some news articles about politics using keywords campaign and labour and election and mr and tax and howard and blair and certain and prime and minister in around 574 words.\n"
     ]
    },
    {
     "name": "stderr",
     "output_type": "stream",
     "text": [
      "Setting `pad_token_id` to `eos_token_id`:2 for open-end generation.\n"
     ]
    },
    {
     "name": "stdout",
     "output_type": "stream",
     "text": [
      "[396] prompt: Generate some news articles about politics using keywords labour and people and party and commissioner and calls and rules and information and marketing and lib and says in around 783 words.\n"
     ]
    },
    {
     "name": "stderr",
     "output_type": "stream",
     "text": [
      "Setting `pad_token_id` to `eos_token_id`:2 for open-end generation.\n",
      "Setting `pad_token_id` to `eos_token_id`:2 for open-end generation.\n"
     ]
    },
    {
     "name": "stdout",
     "output_type": "stream",
     "text": [
      "[397] prompt: Generate some news articles about politics using keywords election and blunkett and call and monday and ready and weekend and hints and secretary and david and given in around 139 words.\n",
      "[398] prompt: Generate some news articles about politics using keywords local and lib and dems and results and election and council and party and tax and ever and best in around 182 words.\n"
     ]
    },
    {
     "name": "stderr",
     "output_type": "stream",
     "text": [
      "Setting `pad_token_id` to `eos_token_id`:2 for open-end generation.\n",
      "Setting `pad_token_id` to `eos_token_id`:2 for open-end generation.\n"
     ]
    },
    {
     "name": "stdout",
     "output_type": "stream",
     "text": [
      "[399] prompt: Generate some news articles about politics using keywords mr and flight and candidate and said and local and conservative and howard and association and party and tories in around 592 words.\n",
      "[400] prompt: Generate some news articles about politics using keywords lord and callaghan and said and labour and minister and became and former and prime and british and secretary in around 808 words.\n"
     ]
    },
    {
     "name": "stderr",
     "output_type": "stream",
     "text": [
      "Setting `pad_token_id` to `eos_token_id`:2 for open-end generation.\n"
     ]
    },
    {
     "name": "stdout",
     "output_type": "stream",
     "text": [
      "[401] prompt: Generate some news articles about politics using keywords election and blair and parliament and government and name and mr and april and bill and tony and likely in around 306 words.\n"
     ]
    },
    {
     "name": "stderr",
     "output_type": "stream",
     "text": [
      "Setting `pad_token_id` to `eos_token_id`:2 for open-end generation.\n",
      "Setting `pad_token_id` to `eos_token_id`:2 for open-end generation.\n"
     ]
    },
    {
     "name": "stdout",
     "output_type": "stream",
     "text": [
      "[402] prompt: Generate some news articles about politics using keywords brown and mr and milburn and labour and said and would and role and campaign and chancellor and election in around 342 words.\n",
      "[403] prompt: Generate some news articles about politics using keywords trust and politicians and said and public and voters and poll and bbc and next and election and issue in around 530 words.\n"
     ]
    },
    {
     "name": "stderr",
     "output_type": "stream",
     "text": [
      "Setting `pad_token_id` to `eos_token_id`:2 for open-end generation.\n",
      "Setting `pad_token_id` to `eos_token_id`:2 for open-end generation.\n"
     ]
    },
    {
     "name": "stdout",
     "output_type": "stream",
     "text": [
      "[404] prompt: Generate some news articles about politics using keywords tory and public and services and conservative and election and kruger and mr and party and period and creative in around 333 words.\n"
     ]
    },
    {
     "name": "stderr",
     "output_type": "stream",
     "text": [
      "Setting `pad_token_id` to `eos_token_id`:2 for open-end generation.\n"
     ]
    },
    {
     "name": "stdout",
     "output_type": "stream",
     "text": [
      "[405] prompt: Generate some news articles about politics using keywords mr and abortion and said and issue and howard and blair and one and would and catholic and stance in around 688 words.\n",
      "[406] prompt: Generate some news articles about politics using keywords mr and brown and blair and chancellor and labour and said and election and westminster and run and politics in around 1093 words.\n"
     ]
    },
    {
     "name": "stderr",
     "output_type": "stream",
     "text": [
      "Setting `pad_token_id` to `eos_token_id`:2 for open-end generation.\n",
      "Setting `pad_token_id` to `eos_token_id`:2 for open-end generation.\n"
     ]
    },
    {
     "name": "stdout",
     "output_type": "stream",
     "text": [
      "[407] prompt: Generate some news articles about politics using keywords boateng and paul and mr and south and said and labour and minister and appointed and appointment and election in around 531 words.\n",
      "[408] prompt: Generate some news articles about politics using keywords howard and mr and said and party and labour and michael and election and mongrel and hain and tory in around 760 words.\n"
     ]
    },
    {
     "name": "stderr",
     "output_type": "stream",
     "text": [
      "Setting `pad_token_id` to `eos_token_id`:2 for open-end generation.\n"
     ]
    },
    {
     "name": "stdout",
     "output_type": "stream",
     "text": [
      "[409] prompt: Generate some news articles about politics using keywords tory and labour and delegates and conference and party and government and bill and tories and fox and speech in around 314 words.\n"
     ]
    },
    {
     "name": "stderr",
     "output_type": "stream",
     "text": [
      "Setting `pad_token_id` to `eos_token_id`:2 for open-end generation.\n",
      "Setting `pad_token_id` to `eos_token_id`:2 for open-end generation.\n"
     ]
    },
    {
     "name": "stdout",
     "output_type": "stream",
     "text": [
      "[410] prompt: Generate some news articles about politics using keywords sayeed and mr and mp and standards and committee and association and stand and tory and parliament and denied in around 261 words.\n",
      "[411] prompt: Generate some news articles about politics using keywords labour and howard and party and tories and election and mr and said and campaign and win and immigration in around 983 words.\n"
     ]
    },
    {
     "name": "stderr",
     "output_type": "stream",
     "text": [
      "Setting `pad_token_id` to `eos_token_id`:2 for open-end generation.\n",
      "Setting `pad_token_id` to `eos_token_id`:2 for open-end generation.\n"
     ]
    },
    {
     "name": "stdout",
     "output_type": "stream",
     "text": [
      "[412] prompt: Generate some news articles about politics using keywords may and voters and registered and vote and england and election and forms and last and register and also in around 257 words.\n",
      "[413] prompt: Generate some news articles about politics using keywords sainsbury and labour and party and election and gift and lord and donation and general and said and britain in around 207 words.\n"
     ]
    },
    {
     "name": "stderr",
     "output_type": "stream",
     "text": [
      "Setting `pad_token_id` to `eos_token_id`:2 for open-end generation.\n"
     ]
    },
    {
     "name": "stdout",
     "output_type": "stream",
     "text": [
      "[414] prompt: Generate some news articles about politics using keywords said and blair and prime and minister and mr and people and labour and voters and country and government in around 661 words.\n"
     ]
    },
    {
     "name": "stderr",
     "output_type": "stream",
     "text": [
      "Setting `pad_token_id` to `eos_token_id`:2 for open-end generation.\n"
     ]
    },
    {
     "name": "stdout",
     "output_type": "stream",
     "text": [
      "[415] prompt: Generate some news articles about politics using keywords labour and campaign and mr and said and wyatt and brown and way and election and role and mp in around 263 words.\n"
     ]
    },
    {
     "name": "stderr",
     "output_type": "stream",
     "text": [
      "Setting `pad_token_id` to `eos_token_id`:2 for open-end generation.\n"
     ]
    },
    {
     "name": "stdout",
     "output_type": "stream",
     "text": [
      "[416] prompt: Generate some news articles about politics using keywords liberal and lib and dem and democrats and said and top and howard and strategy and tories and leader in around 306 words.\n"
     ]
    },
    {
     "name": "stderr",
     "output_type": "stream",
     "text": [
      "Setting `pad_token_id` to `eos_token_id`:2 for open-end generation.\n"
     ]
    },
    {
     "name": "stdout",
     "output_type": "stream",
     "text": [
      "[417] prompt: Generate some news articles about politics using keywords said and party and kennedy and mr and lib and election and labour and vote and told and government in around 521 words.\n"
     ]
    }
   ],
   "source": [
    "import os\n",
    "import numpy as np\n",
    "import pandas as pd\n",
    "\n",
    "proj = {\n",
    "    'output_folder': r'data\\generated',\n",
    "    'prompt_path': 'prompt_{0}.txt',\n",
    "    'output_suffix': 'x',  # one suffix for each variant associated with a specific type of prompt\n",
    "    'index_from': 165,  # -1 to start from index == 0\n",
    "}\n",
    "\n",
    "if not os.path.exists(proj['output_folder']):\n",
    "    os.makedirs(proj['output_folder'])\n",
    "        \n",
    "df = pd.read_csv(\"keywords.csv\")\n",
    "print(df.head())\n",
    "\n",
    "\n",
    "def gen_prompt(keywords=['election'], words=500):\n",
    "    keywords = ' and '.join(keywords)\n",
    "    prompt = f'''Generate some news articles about politics using keywords {keywords} in around {words} words.'''  # for suffix 'x'\n",
    "    return prompt\n",
    "\n",
    "\n",
    "prompts = []\n",
    "for index, row in df.iterrows():\n",
    "    keywords = row['keywords'].split(':')  # keywords = ['election', 'politics']  # , 'riots']\n",
    "    prompt = gen_prompt(keywords=keywords, words=row['count_tokens']+np.random.randint(low=-50, high=50))\n",
    "    prompts.append(prompt)\n",
    "\n",
    "with open(proj['prompt_path'].format(proj['output_suffix']), 'a') as file:\n",
    "    for index, prompt in enumerate(prompts):\n",
    "        file.write(f\"[{index+1:03d}] prompt: {prompt}\\n\")\n",
    "\n",
    "for index, row in df.iterrows():\n",
    "    if index < proj['index_from']:\n",
    "        continue\n",
    "    prompt = prompts[index]\n",
    "    model_inputs = tokenizer([prompt], return_tensors=\"pt\").to(device)\n",
    "    generated_ids = model.generate(**model_inputs, **generation_parameters)\n",
    "    generated_ids_without_prompt = generated_ids[0][len(model_inputs['input_ids'][0]):].unsqueeze(0)\n",
    "    output = tokenizer.batch_decode(generated_ids_without_prompt, skip_special_tokens=False)[0]\n",
    "    print(f\"[{index+1:03d}] prompt:\", prompt)\n",
    "    if index < 10:\n",
    "        print(output)\n",
    "        print(\"---\")\n",
    "    file_path = os.path.join(proj['output_folder'], f\"{row['name'][0:3]}{proj['output_suffix']}.txt\")\n",
    "    with open(file_path, 'w') as file:\n",
    "        file.write(output)\n",
    "    # break"
   ]
  },
  {
   "cell_type": "markdown",
   "id": "ca569d92-baed-41f0-bc1b-1cd472b72f82",
   "metadata": {},
   "source": [
    "### Generate samples using prompt specifying sentences\n",
    "\n",
    "With suffix `x2`, we generate text with the following prompt.\n",
    "\n",
    "prompt = \"Generate some news articles about politics with sentences \\\"{sentences}\\\" in around {words} words.\""
   ]
  },
  {
   "cell_type": "code",
   "execution_count": 5,
   "id": "c90847da-f605-46f0-925f-76b35535b73c",
   "metadata": {},
   "outputs": [
    {
     "name": "stdout",
     "output_type": "stream",
     "text": [
      "      name  length  count_sentences  count_tokens  \\\n",
      "0  001.txt    2601               19           511   \n",
      "1  002.txt    2326               19           425   \n",
      "2  003.txt    3109               26           604   \n",
      "3  004.txt    1471               13           277   \n",
      "4  005.txt    2860               24           579   \n",
      "\n",
      "                                           sentences  \n",
      "0  It would mean paid leave would be increased to...  \n",
      "1  Richard Thomas \"totally condemned\" the deletio...  \n",
      "2  Patricia Hewitt said the cost of the proposals...  \n",
      "3  The much trailed decision was ratified by Labo...  \n",
      "4  Ed Balls, ex-chief economic adviser to the Tre...  \n"
     ]
    },
    {
     "name": "stderr",
     "output_type": "stream",
     "text": [
      "Setting `pad_token_id` to `eos_token_id`:2 for open-end generation.\n",
      "C:\\Users\\Terence\\miniconda3\\envs\\cs5246\\lib\\site-packages\\transformers\\models\\mistral\\modeling_mistral.py:688: UserWarning: 1Torch was not compiled with flash attention. (Triggered internally at C:\\actions-runner\\_work\\pytorch\\pytorch\\builder\\windows\\pytorch\\aten\\src\\ATen\\native\\transformers\\cuda\\sdp_utils.cpp:263.)\n",
      "  attn_output = torch.nn.functional.scaled_dot_product_attention(\n"
     ]
    },
    {
     "name": "stdout",
     "output_type": "stream",
     "text": [
      "[364] prompt: Generate some news articles about politics with sentences \"The simple fact was that under a new Labour government taxes would go up after the election to plug a financial black hole, Mr Howard said. Everyone could see the chancellor's \"sweeteners\", but these hid tax rises for hard working families, he said.\" in around 465 words.\n"
     ]
    },
    {
     "name": "stderr",
     "output_type": "stream",
     "text": [
      "Setting `pad_token_id` to `eos_token_id`:2 for open-end generation.\n"
     ]
    },
    {
     "name": "stdout",
     "output_type": "stream",
     "text": [
      "[365] prompt: Generate some news articles about politics with sentences \"Chancellor Gordon Brown said 12,500 jobs had gone while 7,800 were being moved out of the South East. He plans to axe 104,000 jobs to free up money for education, health, defence, housing and overseas aid.\" in around 379 words.\n"
     ]
    },
    {
     "name": "stderr",
     "output_type": "stream",
     "text": [
      "Setting `pad_token_id` to `eos_token_id`:2 for open-end generation.\n"
     ]
    },
    {
     "name": "stdout",
     "output_type": "stream",
     "text": [
      "[366] prompt: Generate some news articles about politics with sentences \"On the fourth day of his six-day tour of Africa, the UK chancellor predicted a vaccine could be found by 2012 if the world stepped up its funding pledges. Doubling the Â£400m being spent yearly on finding such a vaccine could advance it by three years and save six million lives, Mr Brown said on Thursday.\" in around 562 words.\n"
     ]
    },
    {
     "name": "stderr",
     "output_type": "stream",
     "text": [
      "Setting `pad_token_id` to `eos_token_id`:2 for open-end generation.\n"
     ]
    },
    {
     "name": "stdout",
     "output_type": "stream",
     "text": [
      "[367] prompt: Generate some news articles about politics with sentences \"\"Britain is heading in the wrong direction\", the Conservative leader said in his New Year message. Mr Blair's government was a \"bossy, interfering government that takes decisions that should be made by individuals,\" he added.\" in around 555 words.\n"
     ]
    },
    {
     "name": "stderr",
     "output_type": "stream",
     "text": [
      "Setting `pad_token_id` to `eos_token_id`:2 for open-end generation.\n",
      "Setting `pad_token_id` to `eos_token_id`:2 for open-end generation.\n"
     ]
    },
    {
     "name": "stdout",
     "output_type": "stream",
     "text": [
      "[368] prompt: Generate some news articles about politics with sentences \"The former UN commissioner for human rights and Irish president told Radio 4's Today the government's response would be scrutinised internationally. \"It would be very troubling if the government did not accept the judgement and then work within it,\" she said.\" in around 587 words.\n",
      "[369] prompt: Generate some news articles about politics with sentences \"The comments come a day ahead of a High Court challenge by residents' groups and local councils to the government's White Paper. The judicial review will centre on government plans for expansion at Heathrow, Stansted and Luton airports.\" in around 425 words.\n"
     ]
    },
    {
     "name": "stderr",
     "output_type": "stream",
     "text": [
      "Setting `pad_token_id` to `eos_token_id`:2 for open-end generation.\n",
      "Setting `pad_token_id` to `eos_token_id`:2 for open-end generation.\n"
     ]
    },
    {
     "name": "stdout",
     "output_type": "stream",
     "text": [
      "[370] prompt: Generate some news articles about politics with sentences \"It follows a Home Office move to cut asylum claims by stopping people, mostly Roma, from boarding flights to Britain from the Czech capital, Prague. Civil rights group Liberty said it exposed \"racism at the heart of the government's asylum policy\".\" in around 653 words.\n",
      "[371] prompt: Generate some news articles about politics with sentences \"He will say Conservatives \"share the same values\" as the UK's minorities. And that he wants to build a \"better Britain\" where everyone, whatever the colour of their skin or religion, can \"make the most of their talents\".\" in around 442 words.\n"
     ]
    },
    {
     "name": "stderr",
     "output_type": "stream",
     "text": [
      "Setting `pad_token_id` to `eos_token_id`:2 for open-end generation.\n"
     ]
    },
    {
     "name": "stdout",
     "output_type": "stream",
     "text": [
      "[372] prompt: Generate some news articles about politics with sentences \"The move comes amid claims the poll could be marred by electoral fraud. A report by two MPs committees called on Thursday for urgent changes to the electoral registration system to combat vote rigging and boost turnout.\" in around 517 words.\n"
     ]
    },
    {
     "name": "stderr",
     "output_type": "stream",
     "text": [
      "Setting `pad_token_id` to `eos_token_id`:2 for open-end generation.\n"
     ]
    },
    {
     "name": "stdout",
     "output_type": "stream",
     "text": [
      "[373] prompt: Generate some news articles about politics with sentences \"Speaking after a summit meeting he said unless it was put up for discussion the EU would never be able to reach agreement on its medium term finances. Earlier Foreign Secretary Jack Straw said the UK was prepared to veto any bid to reduce the rebate secured by Margaret Thatcher in 1984.\" in around 762 words.\n"
     ]
    },
    {
     "name": "stderr",
     "output_type": "stream",
     "text": [
      "Setting `pad_token_id` to `eos_token_id`:2 for open-end generation.\n"
     ]
    },
    {
     "name": "stdout",
     "output_type": "stream",
     "text": [
      "[374] prompt: Generate some news articles about politics with sentences \"Oliver Letwin said the UK could not compete with other countries without the Â£4bn tax cuts he was promising. Tory co-chairman Liam Fox had opened the forum in Brighton with an attack on Labour's record and party leader Michael Howard is due to speak later.\" in around 494 words.\n"
     ]
    },
    {
     "name": "stderr",
     "output_type": "stream",
     "text": [
      "Setting `pad_token_id` to `eos_token_id`:2 for open-end generation.\n",
      "Setting `pad_token_id` to `eos_token_id`:2 for open-end generation.\n"
     ]
    },
    {
     "name": "stdout",
     "output_type": "stream",
     "text": [
      "[375] prompt: Generate some news articles about politics with sentences \"The chancellor also unveiled a one-off Â£200 council tax refund for pensioners and a rise in child tax credit. Mr Brown put 1p a pint on beer, 4p on a bottle of wine and 7p on 20 cigarettes but froze petrol duty until September.\" in around 851 words.\n",
      "[376] prompt: Generate some news articles about politics with sentences \"The Tories said a large chunk of the Budget appeared to have been leaked in what they describe as a \"serious breach of Treasury confidentiality\". The Lib Dems called for Commons leader Peter Hain to make a statement and said chancellors had resigned over leaks.\" in around 265 words.\n"
     ]
    },
    {
     "name": "stderr",
     "output_type": "stream",
     "text": [
      "Setting `pad_token_id` to `eos_token_id`:2 for open-end generation.\n"
     ]
    },
    {
     "name": "stdout",
     "output_type": "stream",
     "text": [
      "[377] prompt: Generate some news articles about politics with sentences \"Culture Secretary Tessa Jowell said proposed super-casinos will be different from their US counterparts. In America, pheromones have reportedly been released from machines to encourage aggressive gambling and clocks are often removed from walls.\" in around 294 words.\n"
     ]
    },
    {
     "name": "stderr",
     "output_type": "stream",
     "text": [
      "Setting `pad_token_id` to `eos_token_id`:2 for open-end generation.\n",
      "Setting `pad_token_id` to `eos_token_id`:2 for open-end generation.\n"
     ]
    },
    {
     "name": "stdout",
     "output_type": "stream",
     "text": [
      "[378] prompt: Generate some news articles about politics with sentences \"The government is facing opposition from Tory and Lib Dem MPs and its own backbenchers as it prepares for the final Commons debate on the changes. But Tony Blair said there could be no concession on the \"basic principle\".\" in around 618 words.\n",
      "[379] prompt: Generate some news articles about politics with sentences \"Sir Ian Blair said terror groups would remember the effect of the Madrid bomb on Spain's general election last year. Other potential targets were the royal wedding and the UK's presidency of the European Union and G8, he said.\" in around 518 words.\n"
     ]
    },
    {
     "name": "stderr",
     "output_type": "stream",
     "text": [
      "Setting `pad_token_id` to `eos_token_id`:2 for open-end generation.\n"
     ]
    },
    {
     "name": "stdout",
     "output_type": "stream",
     "text": [
      "[380] prompt: Generate some news articles about politics with sentences \"Adults must be paid at least Â£5.05 an hour, up from Â£4.85, while 18 to 21 year olds will be paid Â£4.25. The recommendations came from the Low Pay Commission which said the number of jobs had continued to grow since the minimum wage was introduced in 1999.\" in around 3611 words.\n"
     ]
    },
    {
     "name": "stderr",
     "output_type": "stream",
     "text": [
      "Setting `pad_token_id` to `eos_token_id`:2 for open-end generation.\n",
      "Setting `pad_token_id` to `eos_token_id`:2 for open-end generation.\n"
     ]
    },
    {
     "name": "stdout",
     "output_type": "stream",
     "text": [
      "[381] prompt: Generate some news articles about politics with sentences \"Less than half the UK wants a ban compared to almost two-thirds in 1999, the Mori survey of 2,000 adults for BBC One's Countryfile programme suggests. The number opposed to a ban remains constant, but those \"neither supporting nor opposing\" has increased by 11%.\" in around 192 words.\n",
      "[382] prompt: Generate some news articles about politics with sentences \"Here's a guide to the plan:\n",
      "\n",
      "People coming to live and work in Britain from outside the EU. If they plan to stay six months or more and are from a country with lots of TB, they would have to have a chest x-ray and further tests if appropriate.\" in around 612 words.\n"
     ]
    },
    {
     "name": "stderr",
     "output_type": "stream",
     "text": [
      "Setting `pad_token_id` to `eos_token_id`:2 for open-end generation.\n",
      "Setting `pad_token_id` to `eos_token_id`:2 for open-end generation.\n"
     ]
    },
    {
     "name": "stdout",
     "output_type": "stream",
     "text": [
      "[383] prompt: Generate some news articles about politics with sentences \"Shadow foreign secretary Michael Ancram told MPs a new White Paper was part of trying to soften up opinion ahead of the referendum on the EU constitution. His claims were denied by Foreign Secretary Jack Straw, who accused the Tories of \"running scared\" of debate.\" in around 556 words.\n",
      "[384] prompt: Generate some news articles about politics with sentences \"It comes after law lords ruled that the detention of 12 foreign terror suspects without trial breached human rights. Charles Clarke's planned \"control orders\" mean anyone suspected of being involved in terrorism could be subject to house arrest, curfews or tagging.\" in around 650 words.\n"
     ]
    },
    {
     "name": "stderr",
     "output_type": "stream",
     "text": [
      "Setting `pad_token_id` to `eos_token_id`:2 for open-end generation.\n"
     ]
    },
    {
     "name": "stdout",
     "output_type": "stream",
     "text": [
      "[385] prompt: Generate some news articles about politics with sentences \"In a speech, he called for action to reach the 2000 Millennium Declaration goals of halving global poverty and tackling child mortality rates. Mr Brown has just returned from a tour of African nations.\" in around 357 words.\n"
     ]
    },
    {
     "name": "stderr",
     "output_type": "stream",
     "text": [
      "Setting `pad_token_id` to `eos_token_id`:2 for open-end generation.\n",
      "Setting `pad_token_id` to `eos_token_id`:2 for open-end generation.\n"
     ]
    },
    {
     "name": "stdout",
     "output_type": "stream",
     "text": [
      "[386] prompt: Generate some news articles about politics with sentences \"Mr Straw, visiting Beijing, noted arms embargoes applied to China, Burma and Zimbabwe but not to North Korea, which he said had a terrible rights record. The EU imposed its arms ban on China in 1989 after troops opened fire on protestors in Tiananmen Square.\" in around 557 words.\n",
      "[387] prompt: Generate some news articles about politics with sentences \"Tony Blair claimed a Tory government would \"cut\" Â£35bn from public services hitting schools, hospitals and police. Tory chairman Liam Fox accused Labour of \"at best misrepresentation at worst a downright lie\" and said the \"smear\" tactics were a sign of desperation.\" in around 510 words.\n"
     ]
    },
    {
     "name": "stderr",
     "output_type": "stream",
     "text": [
      "Setting `pad_token_id` to `eos_token_id`:2 for open-end generation.\n"
     ]
    },
    {
     "name": "stdout",
     "output_type": "stream",
     "text": [
      "[388] prompt: Generate some news articles about politics with sentences \"Ministers say elderly and disabled people themselves, not social workers, should be able to decide on their care and stay in their own homes. They also plan a supremo for adult services in each English area to get different agencies working together.\" in around 551 words.\n"
     ]
    },
    {
     "name": "stderr",
     "output_type": "stream",
     "text": [
      "Setting `pad_token_id` to `eos_token_id`:2 for open-end generation.\n",
      "Setting `pad_token_id` to `eos_token_id`:2 for open-end generation.\n"
     ]
    },
    {
     "name": "stdout",
     "output_type": "stream",
     "text": [
      "[389] prompt: Generate some news articles about politics with sentences \"Mr Brown said that it was vital the UK continued to invest in infrastructure, science, and education in the future. Otherwise it would be overtaken by the likes of China, he told MPs.\" in around 636 words.\n",
      "[390] prompt: Generate some news articles about politics with sentences \"Curfews and community service orders were other options which could be used if court orders to allow parental access were defied, Lord Falconer said. The constitutional affairs secretary outlined some of the plans on Tuesday.\" in around 667 words.\n"
     ]
    },
    {
     "name": "stderr",
     "output_type": "stream",
     "text": [
      "Setting `pad_token_id` to `eos_token_id`:2 for open-end generation.\n",
      "Setting `pad_token_id` to `eos_token_id`:2 for open-end generation.\n"
     ]
    },
    {
     "name": "stdout",
     "output_type": "stream",
     "text": [
      "[391] prompt: Generate some news articles about politics with sentences \"In a written parliamentary answer, Constitutional Affairs Minister Chris Leslie said the poll was likely to cost the same as a general election. Mr Leslie said the cost could not be compared with the only previous British referendum, held 30 years ago.\" in around 188 words.\n"
     ]
    },
    {
     "name": "stderr",
     "output_type": "stream",
     "text": [
      "Setting `pad_token_id` to `eos_token_id`:2 for open-end generation.\n"
     ]
    },
    {
     "name": "stdout",
     "output_type": "stream",
     "text": [
      "[392] prompt: Generate some news articles about politics with sentences \"The chancellor, speaking during a week-long tour of Africa, said it was time to talk about enduring British values of liberty and tolerance. Mr Brown has signed a debt relief deal with Tanzania which could cost the UK Â£1 billion.\" in around 312 words.\n",
      "[393] prompt: Generate some news articles about politics with sentences \"Sex, betrayal and custody of children are all there in this affair but this time it has nothing to do with the recent troubles of David Blunkett or Boris Johnson. Few realise that Westminster in effect has its own divorce den.\" in around 876 words.\n"
     ]
    },
    {
     "name": "stderr",
     "output_type": "stream",
     "text": [
      "Setting `pad_token_id` to `eos_token_id`:2 for open-end generation.\n",
      "Setting `pad_token_id` to `eos_token_id`:2 for open-end generation.\n"
     ]
    },
    {
     "name": "stdout",
     "output_type": "stream",
     "text": [
      "[394] prompt: Generate some news articles about politics with sentences \"He was speaking after Cabinet members held their last meeting at No 10 before the expected election announcement. He said voters would recognise that Labour had brought stability and growth, and would continue to do so.\" in around 466 words.\n",
      "[395] prompt: Generate some news articles about politics with sentences \"The date has been pencilled into the diaries of politicians and political journalists for many months and, despite occasional panics that the prime minister was on the verge of calling a snap poll, it has not shifted. Over the weeks, there have been any number of signs that 050505 was going to be the day Mr Blair would go for an historic third term.\" in around 567 words.\n"
     ]
    },
    {
     "name": "stderr",
     "output_type": "stream",
     "text": [
      "Setting `pad_token_id` to `eos_token_id`:2 for open-end generation.\n"
     ]
    },
    {
     "name": "stdout",
     "output_type": "stream",
     "text": [
      "[396] prompt: Generate some news articles about politics with sentences \"The information commissioner is to look into a complaint from the Lib Dems about how Labour uses its call centres. The Lib Dems say Labour is telephoning people who have signed up to make sure they do not get marketing calls.\" in around 812 words.\n"
     ]
    },
    {
     "name": "stderr",
     "output_type": "stream",
     "text": [
      "Setting `pad_token_id` to `eos_token_id`:2 for open-end generation.\n",
      "Setting `pad_token_id` to `eos_token_id`:2 for open-end generation.\n"
     ]
    },
    {
     "name": "stdout",
     "output_type": "stream",
     "text": [
      "[397] prompt: Generate some news articles about politics with sentences \"He told BBC Radio Five Live: \"I'm out in my constituency getting ready for what we presume will be an announcement very shortly at the weekend.\" He clarified that he meant he would be in his Sheffield seat this weekend, not that he expected an election call then.\" in around 63 words.\n"
     ]
    },
    {
     "name": "stderr",
     "output_type": "stream",
     "text": [
      "Setting `pad_token_id` to `eos_token_id`:2 for open-end generation.\n"
     ]
    },
    {
     "name": "stdout",
     "output_type": "stream",
     "text": [
      "[398] prompt: Generate some news articles about politics with sentences \"Local government spokesman Ed Davey was speaking as the party launched its campaign for the local elections being held in 37 English council areas. The flagship pledge is to replace council tax with a local income tax.\" in around 171 words.\n",
      "[399] prompt: Generate some news articles about politics with sentences \"Russell Tanguay, agent for Arundel and South Downs Tories, said Mr Flight was ineligible to be a candidate and the association was seeking a substitute. The news comes despite Mr Flight's allies saying they had enough support to hold a meeting to discuss his fate.\" in around 571 words.\n"
     ]
    },
    {
     "name": "stderr",
     "output_type": "stream",
     "text": [
      "Setting `pad_token_id` to `eos_token_id`:2 for open-end generation.\n"
     ]
    },
    {
     "name": "stdout",
     "output_type": "stream",
     "text": [
      "[400] prompt: Generate some news articles about politics with sentences \"He passed away at home in East Sussex, just 11 days after his wife Audrey died aged 91. Lord Callaghan, who leaves a son and two daughters, was the longest living former British PM in history.\" in around 728 words.\n"
     ]
    },
    {
     "name": "stderr",
     "output_type": "stream",
     "text": [
      "Setting `pad_token_id` to `eos_token_id`:2 for open-end generation.\n",
      "Setting `pad_token_id` to `eos_token_id`:2 for open-end generation.\n"
     ]
    },
    {
     "name": "stdout",
     "output_type": "stream",
     "text": [
      "[401] prompt: Generate some news articles about politics with sentences \"Andrew Marr says Mr Blair will ask the Queen on 4 or 5 April to dissolve Parliament at the end of that week. Mr Blair has so far resisted calls for him to name the day but all parties have stepped up campaigning recently.\" in around 304 words.\n"
     ]
    },
    {
     "name": "stderr",
     "output_type": "stream",
     "text": [
      "Setting `pad_token_id` to `eos_token_id`:2 for open-end generation.\n"
     ]
    },
    {
     "name": "stdout",
     "output_type": "stream",
     "text": [
      "[402] prompt: Generate some news articles about politics with sentences \"Work and pensions minister Alan Johnson said it was wrong to suggest the chancellor would usurp Mr Milburn, adding they would \"work as a team\". A report in the Sunday Business claimed Mr Brown has been asked to take charge of media strategy, while Mr Milburn would move to a behind-the-scenes role.\" in around 256 words.\n"
     ]
    },
    {
     "name": "stderr",
     "output_type": "stream",
     "text": [
      "Setting `pad_token_id` to `eos_token_id`:2 for open-end generation.\n"
     ]
    },
    {
     "name": "stdout",
     "output_type": "stream",
     "text": [
      "[403] prompt: Generate some news articles about politics with sentences \"And 87% of the 1,000 adults quizzed by ICM for BBC News 24 said politicians did not deliver what they promised. The poll comes after Foreign Secretary Jack Straw predicted trust would be \"the key choice\" at the next election.\" in around 599 words.\n"
     ]
    },
    {
     "name": "stderr",
     "output_type": "stream",
     "text": [
      "Setting `pad_token_id` to `eos_token_id`:2 for open-end generation.\n"
     ]
    },
    {
     "name": "stdout",
     "output_type": "stream",
     "text": [
      "[404] prompt: Generate some news articles about politics with sentences \"Danny Kruger, who also works in the Tory research unit, had been due to take on Tony Blair in Sedgefield. He says his remark last week was misrepresented but he will not contest the election for fear of damaging the Conservative cause.\" in around 319 words.\n",
      "[405] prompt: Generate some news articles about politics with sentences \"The prime minister's spokesman set out Mr Blair's view after the top Catholic in England and Wales backed Michael Howard's stance on abortions. The Tory leader supports a reduction in the legal limit from 24 weeks to 20 and has said current rules are \"tantamount to abortion on demand\".\" in around 674 words.\n"
     ]
    },
    {
     "name": "stderr",
     "output_type": "stream",
     "text": [
      "Setting `pad_token_id` to `eos_token_id`:2 for open-end generation.\n",
      "Setting `pad_token_id` to `eos_token_id`:2 for open-end generation.\n"
     ]
    },
    {
     "name": "stdout",
     "output_type": "stream",
     "text": [
      "[406] prompt: Generate some news articles about politics with sentences \"He reached that milestone last June, when he overtook David Lloyd George, who served for seven years and 43 days between 1908 and 1915. How much longer Mr Brown will continue in the job is not clear (he once said there are two types of chancellor: \"those who fail and those who get out in time.\")\" in around 1065 words.\n"
     ]
    },
    {
     "name": "stderr",
     "output_type": "stream",
     "text": [
      "Setting `pad_token_id` to `eos_token_id`:2 for open-end generation.\n"
     ]
    },
    {
     "name": "stdout",
     "output_type": "stream",
     "text": [
      "[407] prompt: Generate some news articles about politics with sentences \"Mr Boateng, 53, is to become the UK's high commissioner to South Africa. He was the UK's first black cabinet minister when appointed to his post in 2002, promoted from the Home Office, where he had been prisons minister.\" in around 478 words.\n"
     ]
    },
    {
     "name": "stderr",
     "output_type": "stream",
     "text": [
      "Setting `pad_token_id` to `eos_token_id`:2 for open-end generation.\n"
     ]
    },
    {
     "name": "stdout",
     "output_type": "stream",
     "text": [
      "[408] prompt: Generate some news articles about politics with sentences \"In an upbeat speech to his party's spring conference in Brighton, he said Labour's campaigning tactics proved the Tories were hitting home. Mr Hain made the claim about Tory tactics in the anti-terror bill debate.\" in around 700 words.\n",
      "[409] prompt: Generate some news articles about politics with sentences \"The party goes into its spring forum trying to highlight what it sees as a clear choice between it and Labour. Tory co-chairman Liam Fox has opened proceedings with a speech criticising Tony Blair's record in government.\" in around 276 words.\n"
     ]
    },
    {
     "name": "stderr",
     "output_type": "stream",
     "text": [
      "Setting `pad_token_id` to `eos_token_id`:2 for open-end generation.\n"
     ]
    },
    {
     "name": "stdout",
     "output_type": "stream",
     "text": [
      "[410] prompt: Generate some news articles about politics with sentences \"The decision comes after Mr Sayeed survived an attempt to de-select him in a row over allegations he had profited from private tours of Parliament. The Mid-Bedfordshire MP had denied a claim that he was paid for guiding visitors around the Palace of Westminster.\" in around 308 words.\n"
     ]
    },
    {
     "name": "stderr",
     "output_type": "stream",
     "text": [
      "Setting `pad_token_id` to `eos_token_id`:2 for open-end generation.\n",
      "Setting `pad_token_id` to `eos_token_id`:2 for open-end generation.\n"
     ]
    },
    {
     "name": "stdout",
     "output_type": "stream",
     "text": [
      "[411] prompt: Generate some news articles about politics with sentences \"And indeed he wasn't. Michael Howard had already broken away from the printed text of his speech, at his party's spring conference in Brighton, to deliver a smart rebuff to Peter Hain's description of him as an \"attack mongrel\", claiming such personal abuse meant Labour was \"rattled\" by the Tory challenge.\" in around 1005 words.\n",
      "[412] prompt: Generate some news articles about politics with sentences \"Those who filled in forms last autumn should already be on the register - but those who have moved house or were on holiday may have been left off. There will also be elections for local councils and mayors in parts of England on 5 May.\" in around 249 words.\n"
     ]
    },
    {
     "name": "stderr",
     "output_type": "stream",
     "text": [
      "Setting `pad_token_id` to `eos_token_id`:2 for open-end generation.\n"
     ]
    },
    {
     "name": "stdout",
     "output_type": "stream",
     "text": [
      "[413] prompt: Generate some news articles about politics with sentences \"It is the latest hefty donation to the party by the billionaire - he has contributed more than Â£10m since 1999. David Sainsbury said he was pleased to give cash to a party that had the \"vision\" to deliver economic prosperity and better public services for Britain.\" in around 266 words.\n"
     ]
    },
    {
     "name": "stderr",
     "output_type": "stream",
     "text": [
      "Setting `pad_token_id` to `eos_token_id`:2 for open-end generation.\n",
      "Setting `pad_token_id` to `eos_token_id`:2 for open-end generation.\n"
     ]
    },
    {
     "name": "stdout",
     "output_type": "stream",
     "text": [
      "[414] prompt: Generate some news articles about politics with sentences \"The prime minister said he was \"up for it\" as the country waits to go to the polls, possibly in a matter of weeks. He told The Observer government life was a \"constant barrage of attack\" but said he would not stay in charge if he felt unable to contribute.\" in around 671 words.\n"
     ]
    },
    {
     "name": "stderr",
     "output_type": "stream",
     "text": [
      "Setting `pad_token_id` to `eos_token_id`:2 for open-end generation.\n"
     ]
    },
    {
     "name": "stdout",
     "output_type": "stream",
     "text": [
      "[415] prompt: Generate some news articles about politics with sentences \"Derek Wyatt said having a five month campaign \"turned off voters\" and suggested people were already \"rather bored of the thing\". He wants a greater campaigning role for Chancellor Gordon Brown.\" in around 262 words.\n",
      "[416] prompt: Generate some news articles about politics with sentences \"Mr Howard's seat is at the top of the Liberal Democrats' list. Others targeted include Oliver Letwin, David Davis and Theresa May, Lib Dem's elections chief Lord Rennard said.\" in around 338 words.\n"
     ]
    },
    {
     "name": "stderr",
     "output_type": "stream",
     "text": [
      "Setting `pad_token_id` to `eos_token_id`:2 for open-end generation.\n"
     ]
    },
    {
     "name": "stdout",
     "output_type": "stream",
     "text": [
      "[417] prompt: Generate some news articles about politics with sentences \"Unveiling the slogan at the party's spring conference, he said there was no \"glass ceiling\" to its ambitions. He told delegates that Labour had abused the public's trust and that the Tories had failed to oppose them.\" in around 519 words.\n"
     ]
    }
   ],
   "source": [
    "import os\n",
    "import numpy as np\n",
    "import pandas as pd\n",
    "\n",
    "proj = {\n",
    "    'output_folder': r'data\\generated_x2',\n",
    "    'prompt_path': 'prompt_{0}.txt',\n",
    "    'output_suffix': 'x2',  # one suffix for each variant associated with a specific type of prompt\n",
    "    'index_from': 363,  # -1 to start from index == 0\n",
    "}\n",
    "\n",
    "if not os.path.exists(proj['output_folder']):\n",
    "    os.makedirs(proj['output_folder'])\n",
    "        \n",
    "df = pd.read_csv(\"sentences.csv\")\n",
    "print(df.head())\n",
    "\n",
    "\n",
    "def gen_prompt2(sentences='election', words=500):\n",
    "    prompt = f'''Generate some news articles about politics with sentences \"{sentences}\" in around {words} words.'''  # for suffix 'x2'\n",
    "    return prompt\n",
    "\n",
    "\n",
    "prompts = []\n",
    "for index, row in df.iterrows():\n",
    "    sentences = row['sentences']\n",
    "    prompt = gen_prompt2(sentences=sentences, words=row['count_tokens']+np.random.randint(low=-50, high=50))\n",
    "    prompts.append(prompt)\n",
    "\n",
    "with open(proj['prompt_path'].format(proj['output_suffix']), 'a') as file:\n",
    "    for index, prompt in enumerate(prompts):\n",
    "        file.write(f\"[{index+1:03d}] prompt: {prompt}\\n\")\n",
    "\n",
    "for index, row in df.iterrows():\n",
    "    if index < proj['index_from']:\n",
    "        continue\n",
    "    prompt = prompts[index]\n",
    "    model_inputs = tokenizer([prompt], return_tensors=\"pt\").to(device)\n",
    "    generated_ids = model.generate(**model_inputs, **generation_parameters)\n",
    "    generated_ids_without_prompt = generated_ids[0][len(model_inputs['input_ids'][0]):].unsqueeze(0)\n",
    "    output = tokenizer.batch_decode(generated_ids_without_prompt, skip_special_tokens=False)[0]\n",
    "    print(f\"[{index+1:03d}] prompt:\", prompt)\n",
    "    if index < 10:\n",
    "        print(output)\n",
    "        print(\"---\")\n",
    "    file_path = os.path.join(proj['output_folder'], f\"{row['name'][0:3]}{proj['output_suffix']}.txt\")\n",
    "    with open(file_path, 'w') as file:\n",
    "        file.write(output)\n",
    "    # break"
   ]
  },
  {
   "cell_type": "code",
   "execution_count": null,
   "id": "b513628d-46ee-4b21-9308-8e4a0d47d286",
   "metadata": {
    "tags": []
   },
   "outputs": [],
   "source": [
    "# generated_ids = model.generate(**model_inputs, **generation_parameters)\n",
    "# generated_ids_without_prompt = generated_ids[0][len(model_inputs['input_ids'][0]):].unsqueeze(0)\n",
    "# tokenizer.batch_decode(generated_ids_without_prompt, skip_special_tokens=False)[0]"
   ]
  },
  {
   "cell_type": "code",
   "execution_count": null,
   "id": "c2d471f7-7ce6-4a4c-8f4d-e146d181beb3",
   "metadata": {},
   "outputs": [],
   "source": []
  }
 ],
 "metadata": {
  "kernelspec": {
   "display_name": "Python 3 (ipykernel)",
   "language": "python",
   "name": "python3"
  },
  "language_info": {
   "codemirror_mode": {
    "name": "ipython",
    "version": 3
   },
   "file_extension": ".py",
   "mimetype": "text/x-python",
   "name": "python",
   "nbconvert_exporter": "python",
   "pygments_lexer": "ipython3",
   "version": "3.9.18"
  }
 },
 "nbformat": 4,
 "nbformat_minor": 5
}
