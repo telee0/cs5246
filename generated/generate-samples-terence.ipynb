{
 "cells": [
  {
   "cell_type": "markdown",
   "id": "157bca2e-96e0-485a-b970-1e0ed0d81eee",
   "metadata": {},
   "source": [
    "### Install related packages\n",
    "- Visit https://pytorch.org/ to install Pytorch libraries and CUDA 12.1 depending on your OS.\n",
    "- Install the transformers library\n",
    "- Ensure to have at least 16GB of GPU RAM"
   ]
  },
  {
   "cell_type": "code",
   "execution_count": 1,
   "id": "a5c75406-a2d2-4d80-a8f3-422b280c5d79",
   "metadata": {
    "tags": []
   },
   "outputs": [],
   "source": [
    "# !pip install transformers"
   ]
  },
  {
   "cell_type": "markdown",
   "id": "9dbd4f36-0d40-46f9-b967-03a4a0beaaad",
   "metadata": {},
   "source": [
    "### Select the model to generate samples"
   ]
  },
  {
   "cell_type": "code",
   "execution_count": 1,
   "id": "db076612-382f-4013-ae14-12cdde1f89b5",
   "metadata": {
    "tags": []
   },
   "outputs": [],
   "source": [
    "# model_name = \"HuggingFaceH4/zephyr-7b-beta\"\n",
    "# model_name = \"mistralai/Mistral-7B-v0.1\"\n",
    "# model_name = \"microsoft/phi-2\"\n",
    "model_name = \"mistralai/Mistral-7B-Instruct-v0.1\""
   ]
  },
  {
   "cell_type": "code",
   "execution_count": 2,
   "id": "798d2918-a09a-4d0e-b9c9-65aecf8113f7",
   "metadata": {
    "tags": []
   },
   "outputs": [
    {
     "name": "stderr",
     "output_type": "stream",
     "text": [
      "C:\\Users\\Terence\\miniconda3\\envs\\cs5246\\lib\\site-packages\\tqdm\\auto.py:21: TqdmWarning: IProgress not found. Please update jupyter and ipywidgets. See https://ipywidgets.readthedocs.io/en/stable/user_install.html\n",
      "  from .autonotebook import tqdm as notebook_tqdm\n",
      "Loading checkpoint shards: 100%|█████████████████████████████████████████████████████████| 2/2 [00:13<00:00,  6.87s/it]\n",
      "generation_config.json: 100%|█████████████████████████████████████████████████████████| 116/116 [00:00<00:00, 19.2kB/s]\n",
      "C:\\Users\\Terence\\miniconda3\\envs\\cs5246\\lib\\site-packages\\huggingface_hub\\file_download.py:149: UserWarning: `huggingface_hub` cache-system uses symlinks by default to efficiently store duplicated files but your machine does not support them in C:\\Users\\Terence\\.cache\\huggingface\\hub\\models--mistralai--Mistral-7B-Instruct-v0.1. Caching files will still work but in a degraded version that might require more space on your disk. This warning can be disabled by setting the `HF_HUB_DISABLE_SYMLINKS_WARNING` environment variable. For more details, see https://huggingface.co/docs/huggingface_hub/how-to-cache#limitations.\n",
      "To support symlinks on Windows, you either need to activate Developer Mode or to run Python as an administrator. In order to see activate developer mode, see this article: https://docs.microsoft.com/en-us/windows/apps/get-started/enable-your-device-for-development\n",
      "  warnings.warn(message)\n",
      "tokenizer_config.json: 100%|███████████████████████████████████████████████████████| 1.47k/1.47k [00:00<00:00, 191kB/s]\n",
      "tokenizer.model: 100%|██████████████████████████████████████████████████████████████| 493k/493k [00:00<00:00, 12.3MB/s]\n",
      "tokenizer.json: 100%|█████████████████████████████████████████████████████████████| 1.80M/1.80M [00:00<00:00, 3.22MB/s]\n",
      "special_tokens_map.json: 100%|██████████████████████████████████████████████████████| 72.0/72.0 [00:00<00:00, 11.8kB/s]\n"
     ]
    }
   ],
   "source": [
    "import torch\n",
    "from transformers import AutoModelForCausalLM, AutoTokenizer\n",
    "device = \"cuda\"\n",
    "\n",
    "model = AutoModelForCausalLM.from_pretrained(model_name, torch_dtype=torch.bfloat16)\n",
    "model.to(device)\n",
    "\n",
    "tokenizer = AutoTokenizer.from_pretrained(model_name)"
   ]
  },
  {
   "cell_type": "code",
   "execution_count": 8,
   "id": "947a3979-ee82-47dc-9ca3-d96ba8d2544b",
   "metadata": {
    "tags": []
   },
   "outputs": [],
   "source": [
    "# Model generation parameters, tweak around max_length and temperature for more creative outputs\n",
    "# https://huggingface.co/docs/transformers/en/main_classes/text_generation#transformers.GenerationConfig\n",
    "generation_parameters = {\n",
    "    \"max_length\": 1024,\n",
    "    \"temperature\": 0.9,\n",
    "    \"top_k\": 10,\n",
    "    \"top_p\": 0.95,\n",
    "    \"repetition_penalty\": 1.2,\n",
    "    \"num_return_sequences\": 1,\n",
    "    \"do_sample\": True,\n",
    "    # \"eos_token_id\": tokenizer.eos_token_id\n",
    "}"
   ]
  },
  {
   "cell_type": "code",
   "execution_count": 14,
   "id": "c06ade3d-81a2-46a6-a0ff-1f3eafd6e4ee",
   "metadata": {
    "tags": []
   },
   "outputs": [],
   "source": [
    "no_words = 512 # no of words to generate\n",
    "topics = ['politics']  # , 'riots']\n",
    "topics = ' or '.join(topics)\n",
    "prompt = f'''\n",
    "Generate some article about {topics} in around {no_words} words.\n",
    "'''\n",
    "model_inputs = tokenizer([prompt], return_tensors=\"pt\").to(device)"
   ]
  },
  {
   "cell_type": "markdown",
   "id": "119df568-fbab-4ff4-bfdd-8138ff72d350",
   "metadata": {},
   "source": [
    "### Generate a sample using the above prompt\n",
    "\n",
    "prompt = \"Generate some article about {topics} in around {no_words} words.\""
   ]
  },
  {
   "cell_type": "code",
   "execution_count": null,
   "id": "44a6da88-8695-4cdd-979e-9e7cd940676c",
   "metadata": {},
   "outputs": [
    {
     "name": "stderr",
     "output_type": "stream",
     "text": [
      "Setting `pad_token_id` to `eos_token_id`:2 for open-end generation.\n"
     ]
    },
    {
     "name": "stdout",
     "output_type": "stream",
     "text": [
      "      name  length  count_sentences  count_tokens  \\\n",
      "0  001.txt    2601               19           511   \n",
      "1  002.txt    2326               19           425   \n",
      "2  003.txt    3109               26           604   \n",
      "3  004.txt    1471               13           277   \n",
      "4  005.txt    2860               24           579   \n",
      "\n",
      "                                            keywords  \n",
      "0  pay:maternity:months:said:would:plans:six:new:...  \n",
      "1  information:said:freedom:mr:new:thomas:commiss...  \n",
      "2  women:six:hewitt:sexism:jobs:men:months:work:c...  \n",
      "3  blackpool:party:manchester:labour:conference:m...  \n",
      "4  would:mr:brown:balls:said:election:chancellor:...  \n",
      "[001] prompt: Generate some news articles about politics using keywords pay and maternity and months and said and would and plans and six and new and mothers and hewitt in around 479 words.\n",
      "\n",
      "\n",
      "Title: New Maternity Leave Plans Unveiled by Government | Six Months of Paid Leave for All New Mothers Announced | Pay Raise Expected to Boost Economy as Hewitt Says Women's Role is Essential | UK Moms Celebrate Six-Month Maternity Leave Bill, Saying \"Finally!\"\n",
      "\n",
      "Subtitle: The latest move from the government aims to improve work-life balance for women while boosting the economy with an anticipated increase in wages and productivity.\n",
      "\n",
      "Body:\n",
      "\n",
      "The British government has announced a new six-month paid maternity leave plan for all new mothers. This is a significant departure from the current four weeks of unpaid leave that most working parents receive after giving birth. In addition to this announcement, Chancellor Gordon Brown stated during a recent press conference that he expects the wage rise that will be triggered by this policy change to have a positive impact on the economy. The chancellor also emphasized that he believes this decision shows that the UK government values the role of women in the workplace and wants them to have greater flexibility when it comes to their career choices.\n",
      "\n",
      "This new maternity leave proposal has already received mixed reactions from both employers and workers alike. While many are hailing this development as long overdue, others are expressing concerns about how it might affect businesses and industries, particularly small companies with limited resources. Despite these reservations, however, there seems to be growing support among politicians for longer periods of paid time off for new mothers. In fact, several other countries have already implemented similar policies in recent years, including France, which offers eight months of paid parental leave.\n",
      "\n",
      "Meanwhile, the former Secretary of State for Work and Welfare, Peter Mandelson, who played a key role in shaping the previous welfare system, has expressed his approval of the proposed changes. According to Mandelson, \"By providing more support for working mothers at home, we can help create a better balance between family life and work responsibilities.\" This viewpoint appears to reflect those held by other prominent figures within the Labour Party who believe that improving the rights and opportunities available to women can lead to a stronger economy overall.\n",
      "\n",
      "Despite ongoing debates about the costs and benefits of extended maternity leaves, many people see this issue as a matter of fairness rather than just economics. As one mother put it when asked her thoughts on the subject, \"It only takes two people to make a baby – why should I sacrifice my own wellbeing for six whole months without any pay? It's not right or wrong, but it feels like a fundamental part of being human.\"\n",
      "\n",
      "With the debate raging on, it remains to be seen whether this new initiative will be able to achieve its dual goals of promoting gender equality in the workforce while simultaneously boosting economic growth through increased job satisfaction and retention rates. Nevertheless, it is clear that attitudes towards maternal care and work-life balance continue to evolve rapidly in response to changing social norms and increasing expectations for female participation in the modern workplace.</s>\n",
      "---\n"
     ]
    },
    {
     "name": "stderr",
     "output_type": "stream",
     "text": [
      "Setting `pad_token_id` to `eos_token_id`:2 for open-end generation.\n"
     ]
    },
    {
     "name": "stdout",
     "output_type": "stream",
     "text": [
      "[002] prompt: Generate some news articles about politics using keywords information and said and freedom and mr and new and thomas and commissioner and disclosure and laws and rules in around 383 words.\n",
      "\n",
      "Thomas Jefferson's legacy has been a constant topic of discussion, particularly with regard to his views on government and individual freedoms. In recent years, there have been calls for greater transparency in the way that political leaders are held accountable to their constituents. Many advocates argue that politicians should be required to make public all financial transactions related to campaign activities, including donations from wealthy individuals or corporations. This is seen as an important step towards ensuring that elected officials are acting in the best interests of their voters rather than those of their contributors.\n",
      "One such advocate is Mr. Commissioner, who has long been an outspoken proponent of campaign finance reform. He recently introduced a new set of laws and rules designed to increase transparency and accountability in the political process. Under these measures, candidates for office would be required to file regular disclosures detailing their sources of income and expenses related to their campaigns. This information would be available to the public at large, allowing citizens to track where their tax dollars were going and determine whether they were being used appropriately.\n",
      "The commissioner also proposed a new system for enforcing these laws, which he believes will help prevent abuse and corruption in the political sphere. Under this system, any violations of the new disclosure requirements could lead to severe penalties, including fines, imprisonment, or even removal from office. The hope is that this tougher enforcement approach will deter corrupt officials and ensure that politicians remain true to the values of honesty and integrity that Thomas Jefferson himself championed during his lifetime.\n",
      "Despite these efforts, however, many critics have warned that increased regulation and oversight may actually stifle free speech and creativity in the political arena. They point to cases in other countries where strict campaign finance laws have been used to silence dissenters and restrict access to information. While it is difficult to predict exactly how these laws might play out in practice, one thing is certain: the debate over campaign finance and transparency is far from settled. As politicians continue to grapple with issues of accountability and democracy, we can expect to hear more discussions and proposals aimed at achieving a more open and transparent political process.</s>\n",
      "---\n"
     ]
    },
    {
     "name": "stderr",
     "output_type": "stream",
     "text": [
      "Setting `pad_token_id` to `eos_token_id`:2 for open-end generation.\n"
     ]
    },
    {
     "name": "stdout",
     "output_type": "stream",
     "text": [
      "[003] prompt: Generate some news articles about politics using keywords women and six and hewitt and sexism and jobs and men and months and work and career and pay in around 558 words.\n",
      "\n",
      "\n",
      "Sexism in the workplace continues to be a major issue for women, even after six months since Sarah Palin's resignation as Vice President of the United States. According to recent studies, women are still being paid less than their male counterparts in many fields, with an average salary difference of $10,234 per year. This disparity is particularly pronounced in industries such as construction and finance, where women have historically faced significant barriers to advancement.\n",
      "\n",
      "One notable example of this ongoing problem can be seen in the case of former House Speaker Dennis Hastert, who was sentenced to five years in prison earlier this month for his role in covering up sexual assaults on teenage wrestlers at the high school level. Despite widespread outcry over his actions, it took months for law enforcement agencies to act due to concerns that doing so would damage the careers of coaches and other sports figures involved.\n",
      "\n",
      "The lack of accountability when it comes to cases involving sexual harassment or assault has led some women to question whether they are truly making progress towards gender equality in the workplace. In order to create real change, there needs to be greater transparency and a willingness by both employers and employees to hold those responsible for these types of behaviors accountable.\n",
      "\n",
      "Despite these challenges, however, there are also encouraging signs of progress on the horizon. Women continue to make important strides in politics and business, with more female candidates running for office in upcoming elections and increasing numbers of women taking on leadership roles in corporations. These developments offer hope that one day, we may see true parity between men and women in all aspects of life and work.\n",
      "\n",
      "Of course, there are still many obstacles to overcome before achieving this goal. One major hurdle is the fact that women continue to face discrimination not just because of their gender, but often based on factors like race, ethnicity, religion, and socioeconomic status. These intersecting forms of oppression can make it much harder for women to succeed in certain fields or achieve equal treatment in the workplace.\n",
      "\n",
      "In addition to addressing these issues head-on, it will also be essential for women themselves to take action in their own careers to ensure that they receive fair pay and opportunities for growth and advancement. This might involve negotiating better deals with employers, seeking out mentors and sponsors who can help them navigate challenging situations, or simply speaking up against unfair practices whenever possible.\n",
      "\n",
      "Ultimately, creating a more equitable world requires everyone's efforts – from policymakers and business leaders to individual citizens and activists alike. By working together to address systemic barriers and promote genuine equality and justice, we can build a brighter future for ourselves and generations to come.</s>\n",
      "---\n"
     ]
    },
    {
     "name": "stderr",
     "output_type": "stream",
     "text": [
      "Setting `pad_token_id` to `eos_token_id`:2 for open-end generation.\n"
     ]
    },
    {
     "name": "stdout",
     "output_type": "stream",
     "text": [
      "[004] prompt: Generate some news articles about politics using keywords blackpool and party and manchester and labour and conference and much and autumn and host and annual and event in around 239 words.\n",
      "\n",
      "\n",
      "Blackpool, the popular seaside town in Lancashire is gearing up to host one of the most important events of UK politics this year - The Labour Party Conference. Thousands of party members are expected to flock to Blackpool for a four-day extravaganza starting September 27th.\n",
      "\n",
      "The annual political gathering will be an opportunity for the leadership team of the Labour Party to showcase their vision for the future of Britain and unveil key policies that they intend to implement if elected in the upcoming general election. Many believe that this could be a defining moment for British politics as Brexit looms on the horizon.\n",
      "\n",
      "Labour leader Jeremy Corbin has already announced that he intends to use his speech at the conference to outline how his government would tackle issues such as poverty, inequality, and job creation. He has also promised to address concerns over immigration and ensure that Britain remains a welcoming country for refugees.\n",
      "\n",
      "However, many are eagerly awaiting what other surprises may come from the Labour Party's policy machine during their time in Blackpool. Some speculate that the conference could be used to announce major investment in Manchester and other northern cities as part of their efforts to rebalance the economy and create new jobs outside of London.\n",
      "\n",
      "Whatever happens at the Labour Party Conference, it promises to be a fascinating event with much to discuss and debate. Whether you are a seasoned politician or simply someone interested in politics, this is an event not to be missed!</s>\n",
      "---\n"
     ]
    },
    {
     "name": "stderr",
     "output_type": "stream",
     "text": [
      "Setting `pad_token_id` to `eos_token_id`:2 for open-end generation.\n"
     ]
    },
    {
     "name": "stdout",
     "output_type": "stream",
     "text": [
      "[005] prompt: Generate some news articles about politics using keywords would and mr and brown and balls and said and election and chancellor and labour and stability and budget in around 533 words.\n",
      "\n",
      "\n",
      "Mr Brown has been under intense pressure to call an early general election, but he has repeatedly refused to do so, citing the need for stability during a time of economic uncertainty. However, recent polls have shown that his popularity among voters is dwindling, and many Labour supporters are growing restless with his leadership.\n",
      "\n",
      "One source close to Mr Brown said that the Chancellor is \"deeply concerned\" about the state of the economy, and fears that another recession could be on the horizon. With this in mind, he is reported to be working closely with senior members of the party to develop a comprehensive plan to address the financial crisis and restore growth.\n",
      "\n",
      "Meanwhile, Mr Brown's opponents have accused him of being too cautious and not doing enough to tackle the issues facing Britain today. They argue that he should call an election now, while public opinion is still favourable, in order to secure a mandate for change.\n",
      "\n",
      "However, Mr Brown remains steadfast in his belief that an early election would be irresponsible, given the fragile state of the economy. He has instead pledged to continue working tirelessly to improve the lives of all Britons, and to ensure that his government delivers on its promise to create jobs, invest in infrastructure, and promote sustainable development.\n",
      "\n",
      "In response to criticism from his opponents, Mr Brown has said that he is prepared to make difficult decisions in order to achieve these goals. This includes cutting unnecessary spending and streamlining government bureaucracy to free up resources for key priorities such as education, healthcare, and environmental protection.\n",
      "\n",
      "Despite these efforts, however, it remains unclear whether Mr Brown can maintain public support in the face of mounting economic challenges. Many experts believe that the UK will experience another recession in the near future, which could have far-reaching consequences for the country's political landscape.\n",
      "\n",
      "As the deadline for the next general election approaches, tensions between Mr Brown and his opponents are likely to escalate. It remains to be seen whether he will ultimately decide to call an early election, or whether he will continue to fight for stability and sustainability at any cost.\n",
      "\n",
      "One thing is certain: the political climate in the UK is becoming increasingly volatile, and there are no easy answers to the problems facing the country today. As politicians vie for control of the ballots, only time will tell which approach will prove most effective in securing a stable and prosperous future for all Britons.</s>\n",
      "---\n"
     ]
    },
    {
     "name": "stderr",
     "output_type": "stream",
     "text": [
      "Setting `pad_token_id` to `eos_token_id`:2 for open-end generation.\n"
     ]
    },
    {
     "name": "stdout",
     "output_type": "stream",
     "text": [
      "[006] prompt: Generate some news articles about politics using keywords deal and said and dome and first and attempt and sell and millennium and report and government and sale in around 387 words.\n",
      "\n",
      "\n",
      "Deal struck to sell off the millennium dome\n",
      "\n",
      "The government has reached a deal to sell off the millennium dome, according to reports today. The structure, which cost over £20m to build for the 1999 World Exhibition, has been abandoned ever since and has become an eyesore on London's skyline.\n",
      "\n",
      "Under the terms of the agreement, the site will be sold to private developers who have promised to transform it into a thriving commercial area. This is seen as a welcome move by many, who believe that the dome should never have been built in the first place.\n",
      "\n",
      "\"I think this is fantastic news,\" said one local resident. \"It'll finally get rid of that monstrosity once and for all.\"\n",
      "\n",
      "But not everyone is happy with the sale of the dome, which was originally intended to serve as a symbol of human achievement in the new millennium. Some fear that its demolition could set a dangerous precedent, leading to other historic buildings being knocked down without proper consideration or consultation.\n",
      "\n",
      "Despite these concerns, government officials say they are confident that the sale of the dome will pave the way for further investment in the area and create jobs for locals. They also added that any plans for the building itself would need to be approved by heritage groups before work can begin.\n",
      "\n",
      "\"We understand people's concerns about the potential impact of this development,\" said a spokesperson for the Department for Culture, Media and Sport. \"However, we firmly believe that this deal represents a good opportunity to regenerate the surrounding area and bring economic benefits to the community.\"</s>\n",
      "---\n"
     ]
    },
    {
     "name": "stderr",
     "output_type": "stream",
     "text": [
      "Setting `pad_token_id` to `eos_token_id`:2 for open-end generation.\n"
     ]
    },
    {
     "name": "stdout",
     "output_type": "stream",
     "text": [
      "[007] prompt: Generate some news articles about politics using keywords blair and mr and labour and said and fox and tory and election and going and party and told in around 582 words.\n",
      "\n",
      "\n",
      "Tony Blair, the former Labour Party prime minister of Britain, has been accused of telling lies by his successor, Gordon Brown. According to a report published by The Guardian newspaper on Sunday, Mr. Brown claimed that Mr. Blair had lied to him about Iraq war, which led to the death of hundreds of thousands of people.\n",
      "Mr. Brown's statement came after months of speculation that he would release documents detailing Mr. Blair's role in the war. He is reportedly planning to publish more information on the issue later this year.\n",
      "The allegations made against Mr. Blair have caused widespread outrage among members of the public who are calling for him to be held accountable for his actions. They believe that the invasion was unjustified and that it resulted in unnecessary suffering.\n",
      "Meanwhile, the Conservative Party has also been facing criticism over their handling of the economy during the pandemic. Some critics argue that the Tories should have done more to protect vulnerable communities from the virus's impact.\n",
      "However, Prime Minister Boris Johnson, who leads the Conservatives, has defended his government's response to the crisis. In an interview with Fox News yesterday, he told viewers that his team worked tirelessly to save lives and support businesses affected by the pandemic.\n",
      "The upcoming general election, scheduled for December, is expected to be one of the most closely watched events of the year. While both Labour and the Tories are struggling to gain support, there are rumors that other parties could form alliances or join forces to create a new ruling coalition.\n",
      "As the campaign season ramps up, candidates are expected to make promises and pledges to win voters' trust. However, given the current political climate, many believe that it will be difficult for any single party to secure a clear victory.</s>\n",
      "---\n"
     ]
    },
    {
     "name": "stderr",
     "output_type": "stream",
     "text": [
      "Setting `pad_token_id` to `eos_token_id`:2 for open-end generation.\n"
     ]
    },
    {
     "name": "stdout",
     "output_type": "stream",
     "text": [
      "[008] prompt: Generate some news articles about politics using keywords women and mps and said and sexist and told and male and researchers and mp and shocking and study in around 588 words.\n",
      "\n",
      "Women MPs have faced criticism for being too quiet on issues of gender equality, a new study has shown. Researchers at the University of Cambridge studied the speech patterns of female and male MPs over four years, and found that women were less likely to speak out on issues such as sexual harassment and equal pay. The study also revealed that women who did speak out were more likely to be subjected to sexist comments and attacks from their colleagues.\n",
      "MPs are elected representatives of the people, but many experts believe that they should do more to represent the interests of women. \"We need more women in parliament,\" said one researcher, \"not just because it's politically correct, but because it's essential if we want to see real progress on issues like gender equality.\" However, even when there are women in parliament, they often struggle to make their voices heard against powerful male voices.\n",
      "The study highlights the problem of gender bias in politics. Women face a number of barriers to entering politics, including discrimination, lack of support networks, and limited resources. This makes it difficult for them to succeed in a field that is still predominantly male-dominated. Even once they are elected, women can find themselves struggling to get taken seriously by their male counterparts.\n",
      "\"It's no surprise that women are underrepresented in politics,\" said another expert. \"When you look at political parties across the world, you'll see that they are largely made up of men. We can talk all day long about how important it is to increase the representation of women in these organizations, but until we actually start taking action, nothing will change.\"\n",
      "One solution to this problem might be to implement quotas or affirmative action policies to ensure that more women are selected for leadership positions within political parties. This could help level the playing field and give women a better chance of success. However, such policies have been met with resistance from some quarters, who argue that they would stifle diversity and limit the pool of candidates available for selection.\n",
      "Despite these challenges, women continue to make progress in politics. In recent years, we have seen more women than ever before running for office and winning elections. But we still have a long way to go before gender equality becomes a reality in our political systems. As the study by the researchers at the University of Cambridge shows, we need to continue working to overcome the barriers to entry and support women so that they can fully participate in shaping our future.</s>\n",
      "---\n"
     ]
    },
    {
     "name": "stderr",
     "output_type": "stream",
     "text": [
      "Setting `pad_token_id` to `eos_token_id`:2 for open-end generation.\n"
     ]
    },
    {
     "name": "stdout",
     "output_type": "stream",
     "text": [
      "[009] prompt: Generate some news articles about politics using keywords campbell and mr and labour and tbwa and said and sent and newsnight and row and journalists and mistake in around 641 words.\n",
      "\n",
      "\n",
      "Title: The Mistake That Sent Mr Campbell's Labour Campaign Into a Row Over News Night Coverage\n",
      "\n",
      "News night, the popular evening news show hosted by Mr Campbell, has been the subject of controversy after an error was made during coverage of Labour party leader's campaign launch.\n",
      "\n",
      "Mr Campbell was discussing Labour's plans for the future with a panel of journalists when he mistakenly referred to TBWA, a marketing agency, as a political think tank. This caused outrage among viewers who felt that it was inappropriate to use a private company name to promote political ideas.\n",
      "\n",
      "\"It is unacceptable for Mr Campbell to use private companies to promote political parties or ideologies,\" one viewer tweeted. \"He should be focusing on providing factual reporting.\"\n",
      "\n",
      "The incident prompted calls for greater scrutiny of media coverage during election campaigns. Journalists have been accused of being biased towards certain candidates or political groups, and there is growing concern that this can lead to misinformation and manipulation of public opinion.\n",
      "\n",
      "\"We need to ensure that all politicians are held to the same standards when it comes to their actions and statements,\" said Ms Brown, a leading member of Labour. \"If we allow them to get away with mistakes like this, then it undermines trust in our institutions.\"\n",
      "\n",
      "Mr Campbell apologized for his error, saying that he had meant no harm or offence. \"I deeply regret any confusion my statement may have caused, and I assure everyone that I do not support or endorse the activities of private companies or political organizations,\" he said.\n",
      "\n",
      "Despite the apology, the debate over the role of the media in politics continues to rage. Many argue that journalists have too much power and influence over public opinion, and that they must be more accountable for their actions.\n",
      "\n",
      "\"We need to remember that journalists are responsible for providing accurate information to the public, regardless of who they are covering,\" said Mr Green, a senior journalist at BBC News. \"If we allow ourselves to become too close to one candidate or another, then we risk losing credibility and undermining the very purpose of our work.\"\n",
      "\n",
      "As the general election approaches, concerns over media bias continue to rise. Some worry that the increasing use of social media platforms like Facebook and Twitter could make it even easier for journalists to spread false information or propaganda.\n",
      "\n",
      "\"Social media has opened up new avenues for communication and engagement, but it also presents unique challenges for journalists and democracy,\" said Professor Lee, a media studies expert at Oxford University. \"We need to find ways to harness its potential while minimizing its risks.\"\n",
      "\n",
      "In response to these concerns, many broadcasters have introduced stricter guidelines and regulations on how they cover election campaigns. These include requirements for impartiality and accuracy in reporting, as well as restrictions on advertising and promotional content.\n",
      "\n",
      "However, despite these efforts, critics say that there is still much work to be done to address the problem of media bias. \"There are always going to be those who seek to exploit the media for their own ends,\" said Mr Johnson, a prominent political commentator. \"But if we stay vigilant and hold the press accountable, then we can ensure that they serve the interests of all citizens, rather than just those in power.\"\n",
      "\n",
      "Ultimately, it will take a concerted effort from journalists, policymakers, and the public themselves to combat the issue of media bias and ensure that news remains free, fair, and independent.</s>\n",
      "---\n"
     ]
    },
    {
     "name": "stderr",
     "output_type": "stream",
     "text": [
      "Setting `pad_token_id` to `eos_token_id`:2 for open-end generation.\n",
      "Setting `pad_token_id` to `eos_token_id`:2 for open-end generation.\n"
     ]
    },
    {
     "name": "stdout",
     "output_type": "stream",
     "text": [
      "[010] prompt: Generate some news articles about politics using keywords scottish and westminster and say and decision and whether and allow and glasgow and scotland and executive and new in around 174 words.\n",
      "\n",
      "Scotland is set to gain greater autonomy from Westminster under new plans, according to Scottish First Minister Nicola Sturgeon. The move would see Glasgow and other cities given more power over their own affairs, while Scotland's executive would be allowed to take a leading role in shaping policy decisions that affect the country as a whole. This development marks a significant shift in the balance of power between Scotland and England and could pave the way for further devolution. However, critics argue that such changes could lead to greater divisions within Scotland itself and with other parts of the UK.</s>\n",
      "---\n",
      "[011] prompt: Generate some news articles about politics using keywords howard and mr and said and mrs and fox and campaign and election and role and michael and visits in around 315 words.\n"
     ]
    },
    {
     "name": "stderr",
     "output_type": "stream",
     "text": [
      "Setting `pad_token_id` to `eos_token_id`:2 for open-end generation.\n"
     ]
    },
    {
     "name": "stdout",
     "output_type": "stream",
     "text": [
      "[012] prompt: Generate some news articles about politics using keywords said and apology and blair and families and mr and people and conlon and maguire and would and two in around 533 words.\n"
     ]
    },
    {
     "name": "stderr",
     "output_type": "stream",
     "text": [
      "Setting `pad_token_id` to `eos_token_id`:2 for open-end generation.\n"
     ]
    },
    {
     "name": "stdout",
     "output_type": "stream",
     "text": [
      "[013] prompt: Generate some news articles about politics using keywords mr and howard and tory and leader and says and would and people and could and asylum and michael in around 652 words.\n"
     ]
    },
    {
     "name": "stderr",
     "output_type": "stream",
     "text": [
      "Setting `pad_token_id` to `eos_token_id`:2 for open-end generation.\n"
     ]
    },
    {
     "name": "stdout",
     "output_type": "stream",
     "text": [
      "[014] prompt: Generate some news articles about politics using keywords bill and would and said and blair and sunset and clause and mr and house and arrest and tories in around 568 words.\n"
     ]
    },
    {
     "name": "stderr",
     "output_type": "stream",
     "text": [
      "Setting `pad_token_id` to `eos_token_id`:2 for open-end generation.\n",
      "Setting `pad_token_id` to `eos_token_id`:2 for open-end generation.\n"
     ]
    },
    {
     "name": "stdout",
     "output_type": "stream",
     "text": [
      "[015] prompt: Generate some news articles about politics using keywords gibraltar and future and rock and gibraltarians and spain and talks and straw and referendum and british and represent in around 158 words.\n",
      "[016] prompt: Generate some news articles about politics using keywords social and shortages and committee and science and said and council and skills and key and research and needs in around 317 words.\n"
     ]
    },
    {
     "name": "stderr",
     "output_type": "stream",
     "text": [
      "Setting `pad_token_id` to `eos_token_id`:2 for open-end generation.\n"
     ]
    },
    {
     "name": "stdout",
     "output_type": "stream",
     "text": [
      "[017] prompt: Generate some news articles about politics using keywords deal and brown and said and nations and debt and mr and proposed and ministers and also and country in around 171 words.\n"
     ]
    },
    {
     "name": "stderr",
     "output_type": "stream",
     "text": [
      "Setting `pad_token_id` to `eos_token_id`:2 for open-end generation.\n"
     ]
    },
    {
     "name": "stdout",
     "output_type": "stream",
     "text": [
      "[018] prompt: Generate some news articles about politics using keywords prince and auschwitz and straw and foreign and secretary and holocaust and said and commemoration and queen and service in around 260 words.\n"
     ]
    },
    {
     "name": "stderr",
     "output_type": "stream",
     "text": [
      "Setting `pad_token_id` to `eos_token_id`:2 for open-end generation.\n"
     ]
    },
    {
     "name": "stdout",
     "output_type": "stream",
     "text": [
      "[019] prompt: Generate some news articles about politics using keywords said and mr and drinking and people and drunk and mcconnell and young and remark and get and scotland in around 701 words.\n"
     ]
    },
    {
     "name": "stderr",
     "output_type": "stream",
     "text": [
      "Setting `pad_token_id` to `eos_token_id`:2 for open-end generation.\n"
     ]
    },
    {
     "name": "stdout",
     "output_type": "stream",
     "text": [
      "[020] prompt: Generate some news articles about politics using keywords government and said and tomlinson and diploma and plan and response and education and secondary and schools and put in around 620 words.\n"
     ]
    },
    {
     "name": "stderr",
     "output_type": "stream",
     "text": [
      "Setting `pad_token_id` to `eos_token_id`:2 for open-end generation.\n"
     ]
    },
    {
     "name": "stdout",
     "output_type": "stream",
     "text": [
      "[021] prompt: Generate some news articles about politics using keywords mr and said and chancellor and brown and blair and next and report and economy and stability and would in around 611 words.\n"
     ]
    },
    {
     "name": "stderr",
     "output_type": "stream",
     "text": [
      "Setting `pad_token_id` to `eos_token_id`:2 for open-end generation.\n"
     ]
    },
    {
     "name": "stdout",
     "output_type": "stream",
     "text": [
      "[022] prompt: Generate some news articles about politics using keywords tax and mr and said and would and labour and blair and plans and howard and asylum and processing in around 479 words.\n"
     ]
    },
    {
     "name": "stderr",
     "output_type": "stream",
     "text": [
      "Setting `pad_token_id` to `eos_token_id`:2 for open-end generation.\n",
      "Setting `pad_token_id` to `eos_token_id`:2 for open-end generation.\n"
     ]
    },
    {
     "name": "stdout",
     "output_type": "stream",
     "text": [
      "[023] prompt: Generate some news articles about politics using keywords government and students and private and uk and committee and said and failed and scheme and university and courses in around 332 words.\n",
      "[024] prompt: Generate some news articles about politics using keywords brown and africa and education and mr and trip and chancellor and wants and wednesday and said and primary in around 263 words.\n"
     ]
    },
    {
     "name": "stderr",
     "output_type": "stream",
     "text": [
      "Setting `pad_token_id` to `eos_token_id`:2 for open-end generation.\n"
     ]
    },
    {
     "name": "stdout",
     "output_type": "stream",
     "text": [
      "[025] prompt: Generate some news articles about politics using keywords independent and immigration and body and said and would and migration and figures and government and like and watch in around 272 words.\n"
     ]
    },
    {
     "name": "stderr",
     "output_type": "stream",
     "text": [
      "Setting `pad_token_id` to `eos_token_id`:2 for open-end generation.\n",
      "Setting `pad_token_id` to `eos_token_id`:2 for open-end generation.\n"
     ]
    },
    {
     "name": "stdout",
     "output_type": "stream",
     "text": [
      "[026] prompt: Generate some news articles about politics using keywords africa and commission and blair and report and would and relief and bob and geldof and well and debt in around 281 words.\n",
      "[027] prompt: Generate some news articles about politics using keywords butler and lord and said and government and blair and cabinet and mr and much and country and thought in around 823 words.\n"
     ]
    },
    {
     "name": "stderr",
     "output_type": "stream",
     "text": [
      "Setting `pad_token_id` to `eos_token_id`:2 for open-end generation.\n"
     ]
    },
    {
     "name": "stdout",
     "output_type": "stream",
     "text": [
      "[028] prompt: Generate some news articles about politics using keywords lib and mr and inquiry and say and oaten and said and blunkett and visa and nanny and dem in around 319 words.\n"
     ]
    },
    {
     "name": "stderr",
     "output_type": "stream",
     "text": [
      "Setting `pad_token_id` to `eos_token_id`:2 for open-end generation.\n"
     ]
    },
    {
     "name": "stdout",
     "output_type": "stream",
     "text": [
      "[029] prompt: Generate some news articles about politics using keywords foreign and savings and staff and said and new and uk and embassies and money and straw and affected in around 437 words.\n"
     ]
    },
    {
     "name": "stderr",
     "output_type": "stream",
     "text": [
      "Setting `pad_token_id` to `eos_token_id`:2 for open-end generation.\n"
     ]
    },
    {
     "name": "stdout",
     "output_type": "stream",
     "text": [
      "[030] prompt: Generate some news articles about politics using keywords school and education and pupils and truants and local and previous and penalty and problem and parents and attendance in around 377 words.\n"
     ]
    },
    {
     "name": "stderr",
     "output_type": "stream",
     "text": [
      "Setting `pad_token_id` to `eos_token_id`:2 for open-end generation.\n"
     ]
    },
    {
     "name": "stdout",
     "output_type": "stream",
     "text": [
      "[031] prompt: Generate some news articles about politics using keywords murder and home and review and said and office and law and commission and mandatory and life and sentence in around 566 words.\n"
     ]
    },
    {
     "name": "stderr",
     "output_type": "stream",
     "text": [
      "Setting `pad_token_id` to `eos_token_id`:2 for open-end generation.\n",
      "Setting `pad_token_id` to `eos_token_id`:2 for open-end generation.\n"
     ]
    },
    {
     "name": "stdout",
     "output_type": "stream",
     "text": [
      "[032] prompt: Generate some news articles about politics using keywords ban and said and supporters and alliance and hunting and demonstration and court and labour and protest and conference in around 370 words.\n",
      "[033] prompt: Generate some news articles about politics using keywords baa and airport and plans and runway and heathrow and expansion and government and also and airports and stansted in around 525 words.\n"
     ]
    },
    {
     "name": "stderr",
     "output_type": "stream",
     "text": [
      "Setting `pad_token_id` to `eos_token_id`:2 for open-end generation.\n",
      "Setting `pad_token_id` to `eos_token_id`:2 for open-end generation.\n"
     ]
    },
    {
     "name": "stdout",
     "output_type": "stream",
     "text": [
      "[034] prompt: Generate some news articles about politics using keywords law and mr and said and howard and change and burglars and householders and burglar and tory and force in around 511 words.\n",
      "[035] prompt: Generate some news articles about politics using keywords eu and turkey and blair and talks and mr and also and france and turkish and prime and minister in around 273 words.\n"
     ]
    },
    {
     "name": "stderr",
     "output_type": "stream",
     "text": [
      "Setting `pad_token_id` to `eos_token_id`:2 for open-end generation.\n"
     ]
    },
    {
     "name": "stdout",
     "output_type": "stream",
     "text": [
      "[036] prompt: Generate some news articles about politics using keywords said and politics and fear and liberal and one and hope and kennedy and new and labour and party in around 496 words.\n"
     ]
    },
    {
     "name": "stderr",
     "output_type": "stream",
     "text": [
      "Setting `pad_token_id` to `eos_token_id`:2 for open-end generation.\n",
      "Setting `pad_token_id` to `eos_token_id`:2 for open-end generation.\n"
     ]
    },
    {
     "name": "stdout",
     "output_type": "stream",
     "text": [
      "[037] prompt: Generate some news articles about politics using keywords miliband and david and key and policy and blair and government and minister and labour and prior and unit in around 209 words.\n",
      "[038] prompt: Generate some news articles about politics using keywords borders and line and rail and said and scottish and edinburgh and could and campaign and closure and tweedbank in around 316 words.\n"
     ]
    },
    {
     "name": "stderr",
     "output_type": "stream",
     "text": [
      "Setting `pad_token_id` to `eos_token_id`:2 for open-end generation.\n"
     ]
    },
    {
     "name": "stdout",
     "output_type": "stream",
     "text": [
      "[039] prompt: Generate some news articles about politics using keywords government and arts and wales and welsh and assembly and said and james and germany and would and ms in around 590 words.\n"
     ]
    },
    {
     "name": "stderr",
     "output_type": "stream",
     "text": [
      "Setting `pad_token_id` to `eos_token_id`:2 for open-end generation.\n"
     ]
    },
    {
     "name": "stdout",
     "output_type": "stream",
     "text": [
      "[040] prompt: Generate some news articles about politics using keywords lords and said and law and government and detainees and foreign and secretary and decision and without and trial in around 617 words.\n"
     ]
    },
    {
     "name": "stderr",
     "output_type": "stream",
     "text": [
      "Setting `pad_token_id` to `eos_token_id`:2 for open-end generation.\n"
     ]
    },
    {
     "name": "stdout",
     "output_type": "stream",
     "text": [
      "[041] prompt: Generate some news articles about politics using keywords blunkett and mr and home and labour and immigration and secretary and also and sheffield and first and party in around 760 words.\n"
     ]
    },
    {
     "name": "stderr",
     "output_type": "stream",
     "text": [
      "Setting `pad_token_id` to `eos_token_id`:2 for open-end generation.\n",
      "Setting `pad_token_id` to `eos_token_id`:2 for open-end generation.\n"
     ]
    },
    {
     "name": "stdout",
     "output_type": "stream",
     "text": [
      "[042] prompt: Generate some news articles about politics using keywords pension and said and public and government and pensions and workers and strike and plans and unions and service in around 614 words.\n",
      "[043] prompt: Generate some news articles about politics using keywords older and election and said and people and parties and vote and lishman and political and voters and says in around 288 words.\n"
     ]
    },
    {
     "name": "stderr",
     "output_type": "stream",
     "text": [
      "Setting `pad_token_id` to `eos_token_id`:2 for open-end generation.\n",
      "Setting `pad_token_id` to `eos_token_id`:2 for open-end generation.\n"
     ]
    },
    {
     "name": "stdout",
     "output_type": "stream",
     "text": [
      "[044] prompt: Generate some news articles about politics using keywords duchy and income and prince and private and cornwall and charles and money and mps and aides and officials in around 274 words.\n",
      "[045] prompt: Generate some news articles about politics using keywords mcletchie and said and mr and conflict and firm and tods and murray and leader and work and interest in around 296 words.\n"
     ]
    },
    {
     "name": "stderr",
     "output_type": "stream",
     "text": [
      "Setting `pad_token_id` to `eos_token_id`:2 for open-end generation.\n",
      "Setting `pad_token_id` to `eos_token_id`:2 for open-end generation.\n"
     ]
    },
    {
     "name": "stdout",
     "output_type": "stream",
     "text": [
      "[046] prompt: Generate some news articles about politics using keywords mr and blunkett and secretary and blair and home and quinn and mrs and prime and minister and sheffield in around 476 words.\n"
     ]
    },
    {
     "name": "stderr",
     "output_type": "stream",
     "text": [
      "Setting `pad_token_id` to `eos_token_id`:2 for open-end generation.\n"
     ]
    },
    {
     "name": "stdout",
     "output_type": "stream",
     "text": [
      "[047] prompt: Generate some news articles about politics using keywords students and scotland and fees and scottish and universities and england and wallace and said and applications and would in around 573 words.\n",
      "[048] prompt: Generate some news articles about politics using keywords animal and bill and committee and animals and said and government and draft and welfare and plans and mps in around 612 words.\n"
     ]
    },
    {
     "name": "stderr",
     "output_type": "stream",
     "text": [
      "Setting `pad_token_id` to `eos_token_id`:2 for open-end generation.\n",
      "Setting `pad_token_id` to `eos_token_id`:2 for open-end generation.\n"
     ]
    },
    {
     "name": "stdout",
     "output_type": "stream",
     "text": [
      "[049] prompt: Generate some news articles about politics using keywords cards and id and new and said and mr and would and clarke and home and plans and secretary in around 560 words.\n"
     ]
    },
    {
     "name": "stderr",
     "output_type": "stream",
     "text": [
      "Setting `pad_token_id` to `eos_token_id`:2 for open-end generation.\n"
     ]
    },
    {
     "name": "stdout",
     "output_type": "stream",
     "text": [
      "[050] prompt: Generate some news articles about politics using keywords ban and would and smoking and health and public and said and scotland and scottish and mcconnell and mr in around 787 words.\n"
     ]
    },
    {
     "name": "stderr",
     "output_type": "stream",
     "text": [
      "Setting `pad_token_id` to `eos_token_id`:2 for open-end generation.\n"
     ]
    },
    {
     "name": "stdout",
     "output_type": "stream",
     "text": [
      "[051] prompt: Generate some news articles about politics using keywords said and parents and children and system and mps and child and access and courts and delays and used in around 418 words.\n"
     ]
    }
   ],
   "source": [
    "import os\n",
    "import numpy as np\n",
    "import pandas as pd\n",
    "\n",
    "proj = {\n",
    "    'output_folder': r'data\\generated',\n",
    "    'output_suffix': 'x',  # one suffix for each variant associated with a specific type of prompt\n",
    "    'index_from': -1,  # start from index == 0\n",
    "}\n",
    "\n",
    "if not os.path.exists(proj['output_folder']):\n",
    "    os.makedirs(proj['output_folder'])\n",
    "        \n",
    "df = pd.read_csv(\"keywords.csv\")\n",
    "print(df.head())\n",
    "\n",
    "\n",
    "def gen_prompt(keywords=['election'], words=500):\n",
    "    keywords = ' and '.join(keywords)\n",
    "    prompt = f'''Generate some news articles about politics using keywords {keywords} in around {words} words.'''  # for suffix 'x'\n",
    "    return prompt\n",
    "\n",
    "\n",
    "for index, row in df.iterrows():\n",
    "    if index < proj['index_from']:\n",
    "        continue\n",
    "    keywords = row['keywords'].split(':')  # keywords = ['election', 'politics']  # , 'riots']\n",
    "    prompt = gen_prompt(keywords=keywords, words=row['count_tokens']+np.random.randint(low=-50, high=50))\n",
    "    model_inputs = tokenizer([prompt], return_tensors=\"pt\").to(device)\n",
    "    generated_ids = model.generate(**model_inputs, **generation_parameters)\n",
    "    generated_ids_without_prompt = generated_ids[0][len(model_inputs['input_ids'][0]):].unsqueeze(0)\n",
    "    output = tokenizer.batch_decode(generated_ids_without_prompt, skip_special_tokens=False)[0]\n",
    "    print(f\"[{index+1:03d}] prompt:\", prompt)\n",
    "    if index < 10:\n",
    "        print(output)\n",
    "        print(\"---\")\n",
    "    file_path = os.path.join(proj['output_folder'], f\"{row['name'][0:3]}{proj['output_suffix']}.txt\")\n",
    "    with open(file_path, 'w') as file:\n",
    "        file.write(output)\n",
    "    # break"
   ]
  },
  {
   "cell_type": "code",
   "execution_count": null,
   "id": "b513628d-46ee-4b21-9308-8e4a0d47d286",
   "metadata": {
    "tags": []
   },
   "outputs": [],
   "source": [
    "# generated_ids = model.generate(**model_inputs, **generation_parameters)\n",
    "# generated_ids_without_prompt = generated_ids[0][len(model_inputs['input_ids'][0]):].unsqueeze(0)\n",
    "# tokenizer.batch_decode(generated_ids_without_prompt, skip_special_tokens=False)[0]"
   ]
  },
  {
   "cell_type": "code",
   "execution_count": null,
   "id": "c2d471f7-7ce6-4a4c-8f4d-e146d181beb3",
   "metadata": {},
   "outputs": [],
   "source": []
  }
 ],
 "metadata": {
  "kernelspec": {
   "display_name": "Python 3 (ipykernel)",
   "language": "python",
   "name": "python3"
  },
  "language_info": {
   "codemirror_mode": {
    "name": "ipython",
    "version": 3
   },
   "file_extension": ".py",
   "mimetype": "text/x-python",
   "name": "python",
   "nbconvert_exporter": "python",
   "pygments_lexer": "ipython3",
   "version": "3.9.18"
  }
 },
 "nbformat": 4,
 "nbformat_minor": 5
}
