{
 "cells": [
  {
   "cell_type": "code",
   "execution_count": 1,
   "metadata": {},
   "outputs": [],
   "source": [
    "import glob\n",
    "import os\n",
    "\n",
    "from nltk.tokenize.punkt import PunktSentenceTokenizer\n",
    "from nltk import word_tokenize  # Simplfied notation; it's a wrapper for the TreebankWordTokenizer\n",
    "from nltk.corpus import stopwords\n",
    "\n",
    "from nltk.help import upenn_tagset\n",
    "from nltk import pos_tag\n",
    "\n",
    "from tqdm import tqdm\n",
    "\n",
    "import pandas as pd\n",
    "import seaborn as sns\n",
    "import matplotlib.pyplot as plt"
   ]
  },
  {
   "cell_type": "code",
   "execution_count": 2,
   "metadata": {},
   "outputs": [],
   "source": [
    "proj = {\n",
    "    'input_folder': r'data/datasets/bbc/politics',\n",
    "    'lib': 'nltk',  # 'nltk' or 'spacy', preferred library for tasks like tokenization and pos tagging\n",
    "}\n",
    "\n",
    "feat_list = {\n",
    "    'path',\n",
    "    'name',\n",
    "    'text',\n",
    "    'length',\n",
    "    'sentences'\n",
    "    'tokens',\n",
    "    'pos_tags',\n",
    "    'count_sentences',\n",
    "    'count_tokens',\n",
    "}\n",
    "\n",
    "feat = {}\n",
    "for f in feat_list:\n",
    "    feat[f] = f"
   ]
  },
  {
   "cell_type": "code",
   "execution_count": 3,
   "metadata": {},
   "outputs": [
    {
     "data": {
      "text/plain": [
       "'data/datasets/bbc/politics'"
      ]
     },
     "execution_count": 3,
     "metadata": {},
     "output_type": "execute_result"
    }
   ],
   "source": [
    "proj['input_folder']"
   ]
  },
  {
   "cell_type": "code",
   "execution_count": 4,
   "metadata": {},
   "outputs": [
    {
     "name": "stderr",
     "output_type": "stream",
     "text": [
      "100%|███████████████████████████████████████| 417/417 [00:00<00:00, 3774.96it/s]"
     ]
    },
    {
     "name": "stdout",
     "output_type": "stream",
     "text": [
      "document 0: 2137 characters\n",
      "Number of files from the dataset: 417\n",
      "096.txt\n"
     ]
    },
    {
     "name": "stderr",
     "output_type": "stream",
     "text": [
      "\n"
     ]
    }
   ],
   "source": [
    "docs = []\n",
    "paths = glob.glob(os.path.join(proj['input_folder'], '*'))\n",
    "for path in tqdm(paths):\n",
    "    if os.path.isfile(path):\n",
    "        with open(path, 'r') as file:\n",
    "            text = file.read()\n",
    "            docs.append({\n",
    "                'path': path,\n",
    "                'name': os.path.basename(path),\n",
    "                'text': text,\n",
    "                'length': len(text),\n",
    "            })\n",
    "\n",
    "print(\"document 0: {0} characters\".format(docs[0]['length']))\n",
    "\n",
    "print(\"Number of files from the dataset:\", len(docs))\n",
    "print(docs[0]['name'])"
   ]
  },
  {
   "cell_type": "code",
   "execution_count": 5,
   "metadata": {},
   "outputs": [],
   "source": [
    "sentence_tokenizer = PunktSentenceTokenizer()\n",
    "\n",
    "for doc in docs:\n",
    "    doc['sentences'] = sentence_tokenizer.tokenize(doc['text'])\n",
    "    doc['count_sentences'] = len(doc['sentences'])\n",
    "    \n",
    "for doc in docs:\n",
    "    doc['tokens'] = []\n",
    "    for s in doc['sentences']:\n",
    "        doc['tokens'] += word_tokenize(s)\n",
    "    doc['count_tokens'] = len(doc['tokens'])"
   ]
  },
  {
   "cell_type": "code",
   "execution_count": 12,
   "metadata": {},
   "outputs": [
    {
     "data": {
      "text/plain": [
       "dict_keys(['path', 'name', 'text', 'length', 'sentences', 'count_sentences', 'tokens', 'count_tokens'])"
      ]
     },
     "execution_count": 12,
     "metadata": {},
     "output_type": "execute_result"
    }
   ],
   "source": [
    "docs[0].keys()"
   ]
  },
  {
   "cell_type": "markdown",
   "metadata": {},
   "source": [
    "## Go thru all the documents, and then take the first 75 tokens and save it"
   ]
  },
  {
   "cell_type": "code",
   "execution_count": 13,
   "metadata": {},
   "outputs": [],
   "source": [
    "# all_first_tokens = []\n",
    "# for doc in docs:\n",
    "#     first_n_tokens = doc['tokens'][:75]\n",
    "#     all_first_tokens.append(first_n_tokens)\n",
    "\n",
    "all_first_sentences = []\n",
    "for doc in docs:\n",
    "    first_n_sentences = doc['sentences'][:2]\n",
    "    all_first_sentences.append(first_n_sentences)"
   ]
  },
  {
   "cell_type": "code",
   "execution_count": 14,
   "metadata": {},
   "outputs": [],
   "source": [
    "import pickle\n",
    "with open(\"first_sentences.pickle\", \"wb\") as f:\n",
    "    pickle.dump(all_first_sentences, f)"
   ]
  },
  {
   "cell_type": "markdown",
   "metadata": {},
   "source": [
    "## Feed tokens to LLM and generate new documents"
   ]
  },
  {
   "cell_type": "code",
   "execution_count": 15,
   "metadata": {},
   "outputs": [],
   "source": [
    "import pickle\n",
    "# all_first_tokens = pickle.load(open(\"first_tokens.pickle\", \"rb\"))\n",
    "all_first_tokens = pickle.load(open(\"first_sentences.pickle\", \"rb\"))"
   ]
  },
  {
   "cell_type": "code",
   "execution_count": 16,
   "metadata": {},
   "outputs": [],
   "source": [
    "model_name = \"microsoft/phi-2\"\n"
   ]
  },
  {
   "cell_type": "code",
   "execution_count": 17,
   "metadata": {},
   "outputs": [
    {
     "name": "stderr",
     "output_type": "stream",
     "text": [
      "/home/genliang/python-env/text-mining/lib/python3.10/site-packages/tqdm/auto.py:21: TqdmWarning: IProgress not found. Please update jupyter and ipywidgets. See https://ipywidgets.readthedocs.io/en/stable/user_install.html\n",
      "  from .autonotebook import tqdm as notebook_tqdm\n",
      "Loading checkpoint shards: 100%|██████████████████| 2/2 [00:01<00:00,  1.31it/s]\n",
      "Special tokens have been added in the vocabulary, make sure the associated word embeddings are fine-tuned or trained.\n"
     ]
    }
   ],
   "source": [
    "import torch\n",
    "from transformers import AutoModelForCausalLM, AutoTokenizer\n",
    "device = \"cuda\"\n",
    "\n",
    "model = AutoModelForCausalLM.from_pretrained(model_name, torch_dtype=torch.bfloat16)\n",
    "model.to(device)\n",
    "\n",
    "tokenizer = AutoTokenizer.from_pretrained(model_name)"
   ]
  },
  {
   "cell_type": "code",
   "execution_count": 18,
   "metadata": {},
   "outputs": [],
   "source": [
    "# Model generation parameters, tweak around max_length and temperature for more creative outputs\n",
    "# https://huggingface.co/docs/transformers/en/main_classes/text_generation#transformers.GenerationConfig\n",
    "generation_parameters = {\n",
    "    \"max_length\": 1000,\n",
    "    \"temperature\": 0.9,\n",
    "    \"top_k\": 10,\n",
    "    \"top_p\": 0.95,\n",
    "    \"repetition_penalty\": 1.2,\n",
    "    \"num_return_sequences\": 1,\n",
    "    \"do_sample\": True,\n",
    "    # \"eos_token_id\": tokenizer.eos_token_id\n",
    "}"
   ]
  },
  {
   "cell_type": "code",
   "execution_count": 19,
   "metadata": {},
   "outputs": [],
   "source": [
    "from tqdm import tqdm"
   ]
  },
  {
   "cell_type": "code",
   "execution_count": 6,
   "metadata": {},
   "outputs": [
    {
     "data": {
      "text/plain": [
       "\"February poll claim 'speculation' Reports that Tony Blair is planning a snap general election for February 2005 have been described as `` idle speculation '' by Downing Street . A spokesman said he had `` no idea '' where the reports in the Sunday Times and Sunday Telegraph had come from . The papers suggest ministers believe the government could benefit from a `` Baghdad bounce '' following successful Iraq elections in January . A\""
      ]
     },
     "execution_count": 6,
     "metadata": {},
     "output_type": "execute_result"
    }
   ],
   "source": [
    "\" \".join(all_first_tokens[1])"
   ]
  },
  {
   "cell_type": "code",
   "execution_count": 21,
   "metadata": {},
   "outputs": [],
   "source": [
    "from pathlib import Path\n",
    "save_path = Path(\"data/generated_articles_4\")\n",
    "if not save_path.is_dir():\n",
    "    save_path.mkdir(parents=True, exist_ok=True)"
   ]
  },
  {
   "cell_type": "code",
   "execution_count": 20,
   "metadata": {},
   "outputs": [
    {
     "data": {
      "text/plain": [
       "417"
      ]
     },
     "execution_count": 20,
     "metadata": {},
     "output_type": "execute_result"
    }
   ],
   "source": [
    "len(all_first_tokens)"
   ]
  },
  {
   "cell_type": "code",
   "execution_count": 26,
   "metadata": {
    "scrolled": true
   },
   "outputs": [
    {
     "name": "stderr",
     "output_type": "stream",
     "text": [
      "  0%|                                                   | 0/417 [00:00<?, ?it/s]Setting `pad_token_id` to `eos_token_id`:50256 for open-end generation.\n",
      "  0%|                                           | 1/417 [00:00<03:01,  2.29it/s]Setting `pad_token_id` to `eos_token_id`:50256 for open-end generation.\n",
      "  0%|▏                                          | 2/417 [00:01<06:26,  1.07it/s]Setting `pad_token_id` to `eos_token_id`:50256 for open-end generation.\n",
      "  1%|▎                                          | 3/417 [00:01<04:10,  1.65it/s]Setting `pad_token_id` to `eos_token_id`:50256 for open-end generation.\n",
      "  1%|▍                                          | 4/417 [00:04<08:16,  1.20s/it]Setting `pad_token_id` to `eos_token_id`:50256 for open-end generation.\n",
      "  1%|▌                                          | 5/417 [00:05<09:31,  1.39s/it]Setting `pad_token_id` to `eos_token_id`:50256 for open-end generation.\n",
      "  1%|▌                                          | 6/417 [00:10<17:14,  2.52s/it]Setting `pad_token_id` to `eos_token_id`:50256 for open-end generation.\n",
      "  2%|▋                                          | 7/417 [00:15<23:54,  3.50s/it]Setting `pad_token_id` to `eos_token_id`:50256 for open-end generation.\n",
      "  2%|▊                                          | 8/417 [00:26<39:23,  5.78s/it]Setting `pad_token_id` to `eos_token_id`:50256 for open-end generation.\n",
      "  2%|▉                                          | 9/417 [00:28<30:06,  4.43s/it]Setting `pad_token_id` to `eos_token_id`:50256 for open-end generation.\n",
      "  2%|█                                         | 10/417 [00:36<39:18,  5.80s/it]Setting `pad_token_id` to `eos_token_id`:50256 for open-end generation.\n",
      "  3%|█                                         | 11/417 [00:44<43:06,  6.37s/it]Setting `pad_token_id` to `eos_token_id`:50256 for open-end generation.\n",
      "  3%|█▏                                        | 12/417 [00:48<37:04,  5.49s/it]Setting `pad_token_id` to `eos_token_id`:50256 for open-end generation.\n",
      "  3%|█▎                                        | 13/417 [00:51<32:13,  4.79s/it]Setting `pad_token_id` to `eos_token_id`:50256 for open-end generation.\n",
      "  3%|█▍                                        | 14/417 [00:53<26:15,  3.91s/it]Setting `pad_token_id` to `eos_token_id`:50256 for open-end generation.\n",
      "  4%|█▌                                        | 15/417 [00:55<22:33,  3.37s/it]Setting `pad_token_id` to `eos_token_id`:50256 for open-end generation.\n",
      "  4%|█▌                                        | 16/417 [01:01<28:45,  4.30s/it]Setting `pad_token_id` to `eos_token_id`:50256 for open-end generation.\n",
      "  4%|█▋                                        | 17/417 [01:02<21:14,  3.19s/it]Setting `pad_token_id` to `eos_token_id`:50256 for open-end generation.\n",
      "  4%|█▊                                        | 18/417 [01:06<23:13,  3.49s/it]Setting `pad_token_id` to `eos_token_id`:50256 for open-end generation.\n",
      "  5%|█▉                                        | 19/417 [01:07<17:18,  2.61s/it]Setting `pad_token_id` to `eos_token_id`:50256 for open-end generation.\n",
      "  5%|██                                        | 20/417 [01:12<22:18,  3.37s/it]Setting `pad_token_id` to `eos_token_id`:50256 for open-end generation.\n",
      "  5%|██                                        | 21/417 [01:16<23:31,  3.56s/it]Setting `pad_token_id` to `eos_token_id`:50256 for open-end generation.\n",
      "  5%|██▏                                       | 22/417 [01:18<20:38,  3.14s/it]Setting `pad_token_id` to `eos_token_id`:50256 for open-end generation.\n",
      "  6%|██▎                                       | 23/417 [01:20<18:16,  2.78s/it]Setting `pad_token_id` to `eos_token_id`:50256 for open-end generation.\n",
      "  6%|██▍                                       | 24/417 [01:26<25:30,  3.89s/it]Setting `pad_token_id` to `eos_token_id`:50256 for open-end generation.\n",
      "  6%|██▌                                       | 25/417 [01:32<29:08,  4.46s/it]Setting `pad_token_id` to `eos_token_id`:50256 for open-end generation.\n",
      "  6%|██▌                                       | 26/417 [01:34<23:24,  3.59s/it]Setting `pad_token_id` to `eos_token_id`:50256 for open-end generation.\n",
      "  6%|██▋                                       | 27/417 [01:35<18:21,  2.83s/it]Setting `pad_token_id` to `eos_token_id`:50256 for open-end generation.\n",
      "  7%|██▊                                       | 28/417 [01:36<14:59,  2.31s/it]Setting `pad_token_id` to `eos_token_id`:50256 for open-end generation.\n",
      "  7%|██▉                                       | 29/417 [01:37<12:00,  1.86s/it]Setting `pad_token_id` to `eos_token_id`:50256 for open-end generation.\n",
      "  7%|███                                       | 30/417 [01:43<20:26,  3.17s/it]Setting `pad_token_id` to `eos_token_id`:50256 for open-end generation.\n",
      "  7%|███                                       | 31/417 [01:45<19:12,  2.99s/it]Setting `pad_token_id` to `eos_token_id`:50256 for open-end generation.\n",
      "  8%|███▏                                      | 32/417 [01:46<13:37,  2.12s/it]Setting `pad_token_id` to `eos_token_id`:50256 for open-end generation.\n",
      "  8%|███▎                                      | 33/417 [01:49<16:58,  2.65s/it]Setting `pad_token_id` to `eos_token_id`:50256 for open-end generation.\n",
      "  8%|███▍                                      | 34/417 [01:50<13:01,  2.04s/it]Setting `pad_token_id` to `eos_token_id`:50256 for open-end generation.\n",
      "  8%|███▌                                      | 35/417 [01:51<11:12,  1.76s/it]Setting `pad_token_id` to `eos_token_id`:50256 for open-end generation.\n",
      "  9%|███▋                                      | 36/417 [01:53<10:28,  1.65s/it]Setting `pad_token_id` to `eos_token_id`:50256 for open-end generation.\n",
      "  9%|███▋                                      | 37/417 [01:54<09:47,  1.55s/it]Setting `pad_token_id` to `eos_token_id`:50256 for open-end generation.\n",
      "  9%|███▊                                      | 38/417 [01:55<09:02,  1.43s/it]Setting `pad_token_id` to `eos_token_id`:50256 for open-end generation.\n",
      "  9%|███▉                                      | 39/417 [01:57<09:26,  1.50s/it]Setting `pad_token_id` to `eos_token_id`:50256 for open-end generation.\n",
      " 10%|████                                      | 40/417 [01:58<09:00,  1.43s/it]Setting `pad_token_id` to `eos_token_id`:50256 for open-end generation.\n",
      " 10%|████▏                                     | 41/417 [02:00<10:10,  1.62s/it]Setting `pad_token_id` to `eos_token_id`:50256 for open-end generation.\n",
      " 10%|████▏                                     | 42/417 [02:09<24:42,  3.95s/it]Setting `pad_token_id` to `eos_token_id`:50256 for open-end generation.\n",
      " 10%|████▎                                     | 43/417 [02:10<18:34,  2.98s/it]Setting `pad_token_id` to `eos_token_id`:50256 for open-end generation.\n",
      " 11%|████▍                                     | 44/417 [02:14<20:18,  3.27s/it]Setting `pad_token_id` to `eos_token_id`:50256 for open-end generation.\n",
      " 11%|████▌                                     | 45/417 [02:15<16:07,  2.60s/it]Setting `pad_token_id` to `eos_token_id`:50256 for open-end generation.\n",
      " 11%|████▋                                     | 46/417 [02:16<12:16,  1.98s/it]Setting `pad_token_id` to `eos_token_id`:50256 for open-end generation.\n",
      " 11%|████▋                                     | 47/417 [02:20<16:09,  2.62s/it]Setting `pad_token_id` to `eos_token_id`:50256 for open-end generation.\n",
      " 12%|████▊                                     | 48/417 [02:23<17:57,  2.92s/it]Setting `pad_token_id` to `eos_token_id`:50256 for open-end generation.\n",
      " 12%|████▉                                     | 49/417 [02:25<15:23,  2.51s/it]Setting `pad_token_id` to `eos_token_id`:50256 for open-end generation.\n",
      " 12%|█████                                     | 50/417 [02:29<18:05,  2.96s/it]Setting `pad_token_id` to `eos_token_id`:50256 for open-end generation.\n",
      " 12%|█████▏                                    | 51/417 [02:33<19:45,  3.24s/it]Setting `pad_token_id` to `eos_token_id`:50256 for open-end generation.\n",
      " 12%|█████▏                                    | 52/417 [02:35<17:17,  2.84s/it]Setting `pad_token_id` to `eos_token_id`:50256 for open-end generation.\n",
      " 13%|█████▎                                    | 53/417 [02:39<19:04,  3.14s/it]Setting `pad_token_id` to `eos_token_id`:50256 for open-end generation.\n",
      " 13%|█████▍                                    | 54/417 [02:44<22:42,  3.75s/it]Setting `pad_token_id` to `eos_token_id`:50256 for open-end generation.\n",
      " 13%|█████▌                                    | 55/417 [02:46<20:18,  3.37s/it]Setting `pad_token_id` to `eos_token_id`:50256 for open-end generation.\n",
      " 13%|█████▋                                    | 56/417 [02:50<20:49,  3.46s/it]Setting `pad_token_id` to `eos_token_id`:50256 for open-end generation.\n",
      " 14%|█████▋                                    | 57/417 [02:51<16:00,  2.67s/it]Setting `pad_token_id` to `eos_token_id`:50256 for open-end generation.\n",
      " 14%|█████▊                                    | 58/417 [02:51<12:24,  2.07s/it]Setting `pad_token_id` to `eos_token_id`:50256 for open-end generation.\n",
      " 14%|█████▉                                    | 59/417 [02:52<09:26,  1.58s/it]Setting `pad_token_id` to `eos_token_id`:50256 for open-end generation.\n",
      " 14%|██████                                    | 60/417 [02:53<08:11,  1.38s/it]Setting `pad_token_id` to `eos_token_id`:50256 for open-end generation.\n",
      " 15%|██████▏                                   | 61/417 [02:57<13:33,  2.29s/it]Setting `pad_token_id` to `eos_token_id`:50256 for open-end generation.\n",
      " 15%|██████▏                                   | 62/417 [02:58<11:02,  1.87s/it]Setting `pad_token_id` to `eos_token_id`:50256 for open-end generation.\n",
      " 15%|██████▎                                   | 63/417 [02:58<08:13,  1.39s/it]Setting `pad_token_id` to `eos_token_id`:50256 for open-end generation.\n",
      " 15%|██████▍                                   | 64/417 [03:00<07:56,  1.35s/it]Setting `pad_token_id` to `eos_token_id`:50256 for open-end generation.\n",
      " 16%|██████▌                                   | 65/417 [03:00<06:54,  1.18s/it]Setting `pad_token_id` to `eos_token_id`:50256 for open-end generation.\n",
      " 16%|██████▋                                   | 66/417 [03:01<05:57,  1.02s/it]Setting `pad_token_id` to `eos_token_id`:50256 for open-end generation.\n",
      " 16%|██████▋                                   | 67/417 [03:02<06:08,  1.05s/it]Setting `pad_token_id` to `eos_token_id`:50256 for open-end generation.\n",
      " 16%|██████▊                                   | 68/417 [03:02<04:45,  1.22it/s]Setting `pad_token_id` to `eos_token_id`:50256 for open-end generation.\n",
      " 17%|██████▉                                   | 69/417 [03:05<07:42,  1.33s/it]Setting `pad_token_id` to `eos_token_id`:50256 for open-end generation.\n",
      " 17%|███████                                   | 70/417 [03:06<06:30,  1.13s/it]Setting `pad_token_id` to `eos_token_id`:50256 for open-end generation.\n",
      " 17%|███████▏                                  | 71/417 [03:06<04:56,  1.17it/s]Setting `pad_token_id` to `eos_token_id`:50256 for open-end generation.\n",
      " 17%|███████▎                                  | 72/417 [03:06<04:10,  1.38it/s]Setting `pad_token_id` to `eos_token_id`:50256 for open-end generation.\n",
      " 18%|███████▎                                  | 73/417 [03:08<05:36,  1.02it/s]Setting `pad_token_id` to `eos_token_id`:50256 for open-end generation.\n",
      " 18%|███████▍                                  | 74/417 [03:09<05:40,  1.01it/s]Setting `pad_token_id` to `eos_token_id`:50256 for open-end generation.\n",
      " 18%|███████▌                                  | 75/417 [03:11<08:31,  1.49s/it]Setting `pad_token_id` to `eos_token_id`:50256 for open-end generation.\n",
      " 18%|███████▋                                  | 76/417 [03:12<06:25,  1.13s/it]Setting `pad_token_id` to `eos_token_id`:50256 for open-end generation.\n",
      " 18%|███████▊                                  | 77/417 [03:16<11:13,  1.98s/it]Setting `pad_token_id` to `eos_token_id`:50256 for open-end generation.\n",
      " 19%|███████▊                                  | 78/417 [03:20<14:51,  2.63s/it]Setting `pad_token_id` to `eos_token_id`:50256 for open-end generation.\n",
      " 19%|███████▉                                  | 79/417 [03:21<12:51,  2.28s/it]Setting `pad_token_id` to `eos_token_id`:50256 for open-end generation.\n",
      " 19%|████████                                  | 80/417 [03:25<15:00,  2.67s/it]Setting `pad_token_id` to `eos_token_id`:50256 for open-end generation.\n",
      " 19%|████████▏                                 | 81/417 [03:27<13:56,  2.49s/it]Setting `pad_token_id` to `eos_token_id`:50256 for open-end generation.\n",
      " 20%|████████▎                                 | 82/417 [03:29<12:34,  2.25s/it]Setting `pad_token_id` to `eos_token_id`:50256 for open-end generation.\n",
      " 20%|████████▎                                 | 83/417 [03:29<09:08,  1.64s/it]Setting `pad_token_id` to `eos_token_id`:50256 for open-end generation.\n",
      " 20%|████████▍                                 | 84/417 [03:33<13:37,  2.45s/it]Setting `pad_token_id` to `eos_token_id`:50256 for open-end generation.\n",
      " 20%|████████▌                                 | 85/417 [03:36<14:15,  2.58s/it]Setting `pad_token_id` to `eos_token_id`:50256 for open-end generation.\n",
      " 21%|████████▋                                 | 86/417 [03:41<17:30,  3.17s/it]Setting `pad_token_id` to `eos_token_id`:50256 for open-end generation.\n",
      " 21%|████████▊                                 | 87/417 [03:41<12:32,  2.28s/it]Setting `pad_token_id` to `eos_token_id`:50256 for open-end generation.\n",
      " 21%|████████▊                                 | 88/417 [03:44<14:22,  2.62s/it]Setting `pad_token_id` to `eos_token_id`:50256 for open-end generation.\n",
      " 21%|████████▉                                 | 89/417 [03:45<11:24,  2.09s/it]Setting `pad_token_id` to `eos_token_id`:50256 for open-end generation.\n",
      " 22%|█████████                                 | 90/417 [03:45<08:08,  1.49s/it]Setting `pad_token_id` to `eos_token_id`:50256 for open-end generation.\n",
      " 22%|█████████▏                                | 91/417 [03:47<07:48,  1.44s/it]Setting `pad_token_id` to `eos_token_id`:50256 for open-end generation.\n",
      " 22%|█████████▎                                | 92/417 [03:51<12:00,  2.22s/it]Setting `pad_token_id` to `eos_token_id`:50256 for open-end generation.\n",
      " 22%|█████████▎                                | 93/417 [03:54<14:42,  2.72s/it]Setting `pad_token_id` to `eos_token_id`:50256 for open-end generation.\n",
      " 23%|█████████▍                                | 94/417 [03:57<14:33,  2.71s/it]Setting `pad_token_id` to `eos_token_id`:50256 for open-end generation.\n",
      " 23%|█████████▌                                | 95/417 [04:03<19:40,  3.67s/it]Setting `pad_token_id` to `eos_token_id`:50256 for open-end generation.\n",
      " 23%|█████████▋                                | 96/417 [04:05<16:37,  3.11s/it]Setting `pad_token_id` to `eos_token_id`:50256 for open-end generation.\n",
      " 23%|█████████▊                                | 97/417 [04:06<13:46,  2.58s/it]Setting `pad_token_id` to `eos_token_id`:50256 for open-end generation.\n",
      " 24%|█████████▊                                | 98/417 [04:06<09:58,  1.87s/it]Setting `pad_token_id` to `eos_token_id`:50256 for open-end generation.\n",
      " 24%|█████████▉                                | 99/417 [04:07<07:11,  1.36s/it]Setting `pad_token_id` to `eos_token_id`:50256 for open-end generation.\n",
      " 24%|█████████▊                               | 100/417 [04:08<06:33,  1.24s/it]Setting `pad_token_id` to `eos_token_id`:50256 for open-end generation.\n",
      " 24%|█████████▉                               | 101/417 [04:13<12:42,  2.41s/it]Setting `pad_token_id` to `eos_token_id`:50256 for open-end generation.\n",
      " 24%|██████████                               | 102/417 [04:13<09:55,  1.89s/it]Setting `pad_token_id` to `eos_token_id`:50256 for open-end generation.\n",
      " 25%|██████████▏                              | 103/417 [04:17<12:22,  2.36s/it]Setting `pad_token_id` to `eos_token_id`:50256 for open-end generation.\n",
      " 25%|██████████▏                              | 104/417 [04:24<20:28,  3.92s/it]Setting `pad_token_id` to `eos_token_id`:50256 for open-end generation.\n",
      " 25%|██████████▎                              | 105/417 [04:25<15:01,  2.89s/it]Setting `pad_token_id` to `eos_token_id`:50256 for open-end generation.\n",
      " 25%|██████████▍                              | 106/417 [04:26<12:30,  2.41s/it]Setting `pad_token_id` to `eos_token_id`:50256 for open-end generation.\n",
      " 26%|██████████▌                              | 107/417 [04:29<12:49,  2.48s/it]Setting `pad_token_id` to `eos_token_id`:50256 for open-end generation.\n",
      " 26%|██████████▌                              | 108/417 [04:29<09:17,  1.81s/it]Setting `pad_token_id` to `eos_token_id`:50256 for open-end generation.\n",
      " 26%|██████████▋                              | 109/417 [04:29<07:05,  1.38s/it]Setting `pad_token_id` to `eos_token_id`:50256 for open-end generation.\n",
      " 26%|██████████▊                              | 110/417 [04:34<11:15,  2.20s/it]Setting `pad_token_id` to `eos_token_id`:50256 for open-end generation.\n",
      " 27%|██████████▉                              | 111/417 [04:36<10:49,  2.12s/it]Setting `pad_token_id` to `eos_token_id`:50256 for open-end generation.\n",
      " 27%|███████████                              | 112/417 [04:39<13:04,  2.57s/it]Setting `pad_token_id` to `eos_token_id`:50256 for open-end generation.\n",
      " 27%|███████████                              | 113/417 [04:40<10:08,  2.00s/it]Setting `pad_token_id` to `eos_token_id`:50256 for open-end generation.\n",
      " 27%|███████████▏                             | 114/417 [04:42<10:50,  2.15s/it]Setting `pad_token_id` to `eos_token_id`:50256 for open-end generation.\n",
      " 28%|███████████▎                             | 115/417 [04:43<08:41,  1.73s/it]Setting `pad_token_id` to `eos_token_id`:50256 for open-end generation.\n",
      " 28%|███████████▍                             | 116/417 [04:45<08:55,  1.78s/it]Setting `pad_token_id` to `eos_token_id`:50256 for open-end generation.\n",
      " 28%|███████████▌                             | 117/417 [04:45<06:51,  1.37s/it]Setting `pad_token_id` to `eos_token_id`:50256 for open-end generation.\n",
      " 28%|███████████▌                             | 118/417 [04:46<05:53,  1.18s/it]Setting `pad_token_id` to `eos_token_id`:50256 for open-end generation.\n",
      " 29%|███████████▋                             | 119/417 [04:49<08:16,  1.66s/it]Setting `pad_token_id` to `eos_token_id`:50256 for open-end generation.\n",
      " 29%|███████████▊                             | 120/417 [04:51<08:34,  1.73s/it]Setting `pad_token_id` to `eos_token_id`:50256 for open-end generation.\n",
      " 29%|███████████▉                             | 121/417 [04:51<06:59,  1.42s/it]Setting `pad_token_id` to `eos_token_id`:50256 for open-end generation.\n",
      " 29%|███████████▉                             | 122/417 [04:55<09:26,  1.92s/it]Setting `pad_token_id` to `eos_token_id`:50256 for open-end generation.\n",
      " 29%|████████████                             | 123/417 [04:58<11:46,  2.40s/it]Setting `pad_token_id` to `eos_token_id`:50256 for open-end generation.\n",
      " 30%|████████████▏                            | 124/417 [05:00<11:04,  2.27s/it]Setting `pad_token_id` to `eos_token_id`:50256 for open-end generation.\n",
      " 30%|████████████▎                            | 125/417 [05:03<11:24,  2.34s/it]Setting `pad_token_id` to `eos_token_id`:50256 for open-end generation.\n",
      " 30%|████████████▍                            | 126/417 [05:03<08:28,  1.75s/it]Setting `pad_token_id` to `eos_token_id`:50256 for open-end generation.\n",
      " 30%|████████████▍                            | 127/417 [05:07<11:30,  2.38s/it]Setting `pad_token_id` to `eos_token_id`:50256 for open-end generation.\n",
      " 31%|████████████▌                            | 128/417 [05:10<12:30,  2.60s/it]Setting `pad_token_id` to `eos_token_id`:50256 for open-end generation.\n",
      " 31%|████████████▋                            | 129/417 [05:14<15:14,  3.18s/it]Setting `pad_token_id` to `eos_token_id`:50256 for open-end generation.\n",
      " 31%|████████████▊                            | 130/417 [05:15<11:52,  2.48s/it]Setting `pad_token_id` to `eos_token_id`:50256 for open-end generation.\n",
      " 31%|████████████▉                            | 131/417 [05:16<09:45,  2.05s/it]Setting `pad_token_id` to `eos_token_id`:50256 for open-end generation.\n",
      " 32%|████████████▉                            | 132/417 [05:17<08:22,  1.76s/it]Setting `pad_token_id` to `eos_token_id`:50256 for open-end generation.\n",
      " 32%|█████████████                            | 133/417 [05:24<14:42,  3.11s/it]Setting `pad_token_id` to `eos_token_id`:50256 for open-end generation.\n",
      " 32%|█████████████▏                           | 134/417 [05:26<13:25,  2.85s/it]Setting `pad_token_id` to `eos_token_id`:50256 for open-end generation.\n",
      " 32%|█████████████▎                           | 135/417 [05:29<13:24,  2.85s/it]Setting `pad_token_id` to `eos_token_id`:50256 for open-end generation.\n",
      " 33%|█████████████▎                           | 136/417 [05:30<10:37,  2.27s/it]Setting `pad_token_id` to `eos_token_id`:50256 for open-end generation.\n",
      " 33%|█████████████▍                           | 137/417 [05:31<08:51,  1.90s/it]Setting `pad_token_id` to `eos_token_id`:50256 for open-end generation.\n",
      " 33%|█████████████▌                           | 138/417 [05:34<10:40,  2.30s/it]Setting `pad_token_id` to `eos_token_id`:50256 for open-end generation.\n",
      " 33%|█████████████▋                           | 139/417 [05:36<10:00,  2.16s/it]Setting `pad_token_id` to `eos_token_id`:50256 for open-end generation.\n",
      " 34%|█████████████▊                           | 140/417 [05:40<12:55,  2.80s/it]Setting `pad_token_id` to `eos_token_id`:50256 for open-end generation.\n",
      " 34%|█████████████▊                           | 141/417 [05:48<19:34,  4.26s/it]Setting `pad_token_id` to `eos_token_id`:50256 for open-end generation.\n",
      "Setting `pad_token_id` to `eos_token_id`:50256 for open-end generation.\n",
      " 34%|██████████████                           | 143/417 [05:49<12:16,  2.69s/it]Setting `pad_token_id` to `eos_token_id`:50256 for open-end generation.\n",
      " 35%|██████████████▏                          | 144/417 [05:50<09:48,  2.15s/it]Setting `pad_token_id` to `eos_token_id`:50256 for open-end generation.\n",
      " 35%|██████████████▎                          | 145/417 [05:50<07:29,  1.65s/it]Setting `pad_token_id` to `eos_token_id`:50256 for open-end generation.\n",
      " 35%|██████████████▎                          | 146/417 [05:51<06:40,  1.48s/it]Setting `pad_token_id` to `eos_token_id`:50256 for open-end generation.\n",
      " 35%|██████████████▍                          | 147/417 [05:53<06:42,  1.49s/it]Setting `pad_token_id` to `eos_token_id`:50256 for open-end generation.\n",
      " 35%|██████████████▌                          | 148/417 [05:53<05:28,  1.22s/it]Setting `pad_token_id` to `eos_token_id`:50256 for open-end generation.\n",
      " 36%|██████████████▋                          | 149/417 [05:53<04:02,  1.11it/s]Setting `pad_token_id` to `eos_token_id`:50256 for open-end generation.\n",
      " 36%|██████████████▋                          | 150/417 [05:54<04:08,  1.07it/s]Setting `pad_token_id` to `eos_token_id`:50256 for open-end generation.\n",
      " 36%|██████████████▊                          | 151/417 [05:55<03:44,  1.19it/s]Setting `pad_token_id` to `eos_token_id`:50256 for open-end generation.\n",
      " 36%|██████████████▉                          | 152/417 [05:56<03:28,  1.27it/s]Setting `pad_token_id` to `eos_token_id`:50256 for open-end generation.\n",
      " 37%|███████████████                          | 153/417 [06:00<07:35,  1.73s/it]Setting `pad_token_id` to `eos_token_id`:50256 for open-end generation.\n",
      " 37%|███████████████▏                         | 154/417 [06:00<06:21,  1.45s/it]Setting `pad_token_id` to `eos_token_id`:50256 for open-end generation.\n",
      " 37%|███████████████▏                         | 155/417 [06:02<06:39,  1.52s/it]Setting `pad_token_id` to `eos_token_id`:50256 for open-end generation.\n",
      " 37%|███████████████▎                         | 156/417 [06:04<06:53,  1.59s/it]Setting `pad_token_id` to `eos_token_id`:50256 for open-end generation.\n",
      " 38%|███████████████▍                         | 157/417 [06:04<05:03,  1.17s/it]Setting `pad_token_id` to `eos_token_id`:50256 for open-end generation.\n",
      " 38%|███████████████▌                         | 158/417 [06:11<12:28,  2.89s/it]Setting `pad_token_id` to `eos_token_id`:50256 for open-end generation.\n",
      " 38%|███████████████▋                         | 159/417 [06:14<13:07,  3.05s/it]Setting `pad_token_id` to `eos_token_id`:50256 for open-end generation.\n",
      " 38%|███████████████▋                         | 160/417 [06:19<15:27,  3.61s/it]Setting `pad_token_id` to `eos_token_id`:50256 for open-end generation.\n",
      " 39%|███████████████▊                         | 161/417 [06:20<11:07,  2.61s/it]Setting `pad_token_id` to `eos_token_id`:50256 for open-end generation.\n",
      " 39%|███████████████▉                         | 162/417 [06:20<08:04,  1.90s/it]Setting `pad_token_id` to `eos_token_id`:50256 for open-end generation.\n",
      " 39%|████████████████                         | 163/417 [06:21<07:14,  1.71s/it]Setting `pad_token_id` to `eos_token_id`:50256 for open-end generation.\n",
      " 39%|████████████████                         | 164/417 [06:27<12:35,  2.99s/it]Setting `pad_token_id` to `eos_token_id`:50256 for open-end generation.\n",
      " 40%|████████████████▏                        | 165/417 [06:30<12:40,  3.02s/it]Setting `pad_token_id` to `eos_token_id`:50256 for open-end generation.\n",
      " 40%|████████████████▎                        | 166/417 [06:31<10:25,  2.49s/it]Setting `pad_token_id` to `eos_token_id`:50256 for open-end generation.\n",
      " 40%|████████████████▍                        | 167/417 [06:36<12:35,  3.02s/it]Setting `pad_token_id` to `eos_token_id`:50256 for open-end generation.\n",
      " 40%|████████████████▌                        | 168/417 [06:36<09:37,  2.32s/it]Setting `pad_token_id` to `eos_token_id`:50256 for open-end generation.\n",
      " 41%|████████████████▌                        | 169/417 [06:38<08:26,  2.04s/it]Setting `pad_token_id` to `eos_token_id`:50256 for open-end generation.\n",
      "Setting `pad_token_id` to `eos_token_id`:50256 for open-end generation.\n",
      " 41%|████████████████▊                        | 171/417 [06:42<08:11,  2.00s/it]Setting `pad_token_id` to `eos_token_id`:50256 for open-end generation.\n",
      " 41%|████████████████▉                        | 172/417 [06:44<08:51,  2.17s/it]Setting `pad_token_id` to `eos_token_id`:50256 for open-end generation.\n",
      " 41%|█████████████████                        | 173/417 [06:45<07:11,  1.77s/it]Setting `pad_token_id` to `eos_token_id`:50256 for open-end generation.\n",
      " 42%|█████████████████                        | 174/417 [06:45<05:27,  1.35s/it]Setting `pad_token_id` to `eos_token_id`:50256 for open-end generation.\n",
      " 42%|█████████████████▏                       | 175/417 [06:47<06:15,  1.55s/it]Setting `pad_token_id` to `eos_token_id`:50256 for open-end generation.\n",
      " 42%|█████████████████▎                       | 176/417 [06:47<04:39,  1.16s/it]Setting `pad_token_id` to `eos_token_id`:50256 for open-end generation.\n",
      " 42%|█████████████████▍                       | 177/417 [06:52<08:40,  2.17s/it]Setting `pad_token_id` to `eos_token_id`:50256 for open-end generation.\n",
      " 43%|█████████████████▌                       | 178/417 [06:54<08:47,  2.21s/it]Setting `pad_token_id` to `eos_token_id`:50256 for open-end generation.\n",
      " 43%|█████████████████▌                       | 179/417 [06:56<07:33,  1.91s/it]Setting `pad_token_id` to `eos_token_id`:50256 for open-end generation.\n",
      " 43%|█████████████████▋                       | 180/417 [06:57<07:06,  1.80s/it]Setting `pad_token_id` to `eos_token_id`:50256 for open-end generation.\n",
      " 43%|█████████████████▊                       | 181/417 [07:00<07:57,  2.03s/it]Setting `pad_token_id` to `eos_token_id`:50256 for open-end generation.\n",
      " 44%|█████████████████▉                       | 182/417 [07:00<06:07,  1.56s/it]Setting `pad_token_id` to `eos_token_id`:50256 for open-end generation.\n",
      " 44%|█████████████████▉                       | 183/417 [07:00<04:26,  1.14s/it]Setting `pad_token_id` to `eos_token_id`:50256 for open-end generation.\n",
      " 44%|██████████████████                       | 184/417 [07:05<08:24,  2.17s/it]Setting `pad_token_id` to `eos_token_id`:50256 for open-end generation.\n",
      " 44%|██████████████████▏                      | 185/417 [07:05<06:27,  1.67s/it]Setting `pad_token_id` to `eos_token_id`:50256 for open-end generation.\n",
      " 45%|██████████████████▎                      | 186/417 [07:07<06:38,  1.73s/it]Setting `pad_token_id` to `eos_token_id`:50256 for open-end generation.\n",
      " 45%|██████████████████▍                      | 187/417 [07:08<05:58,  1.56s/it]Setting `pad_token_id` to `eos_token_id`:50256 for open-end generation.\n",
      " 45%|██████████████████▍                      | 188/417 [07:10<05:33,  1.46s/it]Setting `pad_token_id` to `eos_token_id`:50256 for open-end generation.\n",
      " 45%|██████████████████▌                      | 189/417 [07:11<05:04,  1.33s/it]Setting `pad_token_id` to `eos_token_id`:50256 for open-end generation.\n",
      " 46%|██████████████████▋                      | 190/417 [07:13<06:43,  1.78s/it]Setting `pad_token_id` to `eos_token_id`:50256 for open-end generation.\n",
      " 46%|██████████████████▊                      | 191/417 [07:15<05:56,  1.58s/it]Setting `pad_token_id` to `eos_token_id`:50256 for open-end generation.\n",
      " 46%|██████████████████▉                      | 192/417 [07:17<07:20,  1.96s/it]Setting `pad_token_id` to `eos_token_id`:50256 for open-end generation.\n",
      " 46%|██████████████████▉                      | 193/417 [07:19<07:07,  1.91s/it]Setting `pad_token_id` to `eos_token_id`:50256 for open-end generation.\n",
      " 47%|███████████████████                      | 194/417 [07:22<08:04,  2.17s/it]Setting `pad_token_id` to `eos_token_id`:50256 for open-end generation.\n",
      " 47%|███████████████████▏                     | 195/417 [07:24<07:54,  2.14s/it]Setting `pad_token_id` to `eos_token_id`:50256 for open-end generation.\n",
      " 47%|███████████████████▎                     | 196/417 [07:27<08:30,  2.31s/it]Setting `pad_token_id` to `eos_token_id`:50256 for open-end generation.\n",
      " 47%|███████████████████▎                     | 197/417 [07:27<06:09,  1.68s/it]Setting `pad_token_id` to `eos_token_id`:50256 for open-end generation.\n",
      " 47%|███████████████████▍                     | 198/417 [07:34<11:34,  3.17s/it]Setting `pad_token_id` to `eos_token_id`:50256 for open-end generation.\n",
      " 48%|███████████████████▌                     | 199/417 [07:34<08:21,  2.30s/it]Setting `pad_token_id` to `eos_token_id`:50256 for open-end generation.\n",
      " 48%|███████████████████▋                     | 200/417 [07:38<10:29,  2.90s/it]Setting `pad_token_id` to `eos_token_id`:50256 for open-end generation.\n",
      " 48%|███████████████████▊                     | 201/417 [07:43<12:19,  3.42s/it]Setting `pad_token_id` to `eos_token_id`:50256 for open-end generation.\n",
      " 48%|███████████████████▊                     | 202/417 [07:46<11:46,  3.29s/it]Setting `pad_token_id` to `eos_token_id`:50256 for open-end generation.\n",
      " 49%|███████████████████▉                     | 203/417 [07:49<11:36,  3.26s/it]Setting `pad_token_id` to `eos_token_id`:50256 for open-end generation.\n",
      " 49%|████████████████████                     | 204/417 [07:50<09:39,  2.72s/it]Setting `pad_token_id` to `eos_token_id`:50256 for open-end generation.\n",
      " 49%|████████████████████▏                    | 205/417 [07:53<09:31,  2.70s/it]Setting `pad_token_id` to `eos_token_id`:50256 for open-end generation.\n",
      " 49%|████████████████████▎                    | 206/417 [07:57<11:10,  3.18s/it]Setting `pad_token_id` to `eos_token_id`:50256 for open-end generation.\n",
      " 50%|████████████████████▎                    | 207/417 [08:03<13:34,  3.88s/it]Setting `pad_token_id` to `eos_token_id`:50256 for open-end generation.\n",
      " 50%|████████████████████▍                    | 208/417 [08:04<11:06,  3.19s/it]Setting `pad_token_id` to `eos_token_id`:50256 for open-end generation.\n",
      " 50%|████████████████████▌                    | 209/417 [08:07<10:20,  2.98s/it]Setting `pad_token_id` to `eos_token_id`:50256 for open-end generation.\n",
      " 50%|████████████████████▋                    | 210/417 [08:10<10:00,  2.90s/it]Setting `pad_token_id` to `eos_token_id`:50256 for open-end generation.\n",
      " 51%|████████████████████▋                    | 211/417 [08:15<12:31,  3.65s/it]Setting `pad_token_id` to `eos_token_id`:50256 for open-end generation.\n",
      " 51%|████████████████████▊                    | 212/417 [08:17<10:53,  3.19s/it]Setting `pad_token_id` to `eos_token_id`:50256 for open-end generation.\n",
      " 51%|████████████████████▉                    | 213/417 [08:18<08:39,  2.55s/it]Setting `pad_token_id` to `eos_token_id`:50256 for open-end generation.\n",
      " 51%|█████████████████████                    | 214/417 [08:21<08:34,  2.54s/it]Setting `pad_token_id` to `eos_token_id`:50256 for open-end generation.\n",
      " 52%|█████████████████████▏                   | 215/417 [08:25<09:55,  2.95s/it]Setting `pad_token_id` to `eos_token_id`:50256 for open-end generation.\n",
      " 52%|█████████████████████▏                   | 216/417 [08:26<08:32,  2.55s/it]Setting `pad_token_id` to `eos_token_id`:50256 for open-end generation.\n",
      " 52%|█████████████████████▎                   | 217/417 [08:29<08:48,  2.64s/it]Setting `pad_token_id` to `eos_token_id`:50256 for open-end generation.\n",
      " 52%|█████████████████████▍                   | 218/417 [08:33<10:16,  3.10s/it]Setting `pad_token_id` to `eos_token_id`:50256 for open-end generation.\n",
      " 53%|█████████████████████▌                   | 219/417 [08:35<08:59,  2.72s/it]Setting `pad_token_id` to `eos_token_id`:50256 for open-end generation.\n",
      " 53%|█████████████████████▋                   | 220/417 [08:39<09:53,  3.01s/it]Setting `pad_token_id` to `eos_token_id`:50256 for open-end generation.\n",
      " 53%|█████████████████████▋                   | 221/417 [08:41<08:33,  2.62s/it]Setting `pad_token_id` to `eos_token_id`:50256 for open-end generation.\n",
      " 53%|█████████████████████▊                   | 222/417 [08:44<08:58,  2.76s/it]Setting `pad_token_id` to `eos_token_id`:50256 for open-end generation.\n",
      " 53%|█████████████████████▉                   | 223/417 [08:46<08:25,  2.61s/it]Setting `pad_token_id` to `eos_token_id`:50256 for open-end generation.\n",
      " 54%|██████████████████████                   | 224/417 [08:50<09:38,  3.00s/it]Setting `pad_token_id` to `eos_token_id`:50256 for open-end generation.\n",
      " 54%|██████████████████████                   | 225/417 [08:50<07:06,  2.22s/it]Setting `pad_token_id` to `eos_token_id`:50256 for open-end generation.\n",
      " 54%|██████████████████████▏                  | 226/417 [08:51<05:22,  1.69s/it]Setting `pad_token_id` to `eos_token_id`:50256 for open-end generation.\n",
      " 54%|██████████████████████▎                  | 227/417 [08:52<05:10,  1.63s/it]Setting `pad_token_id` to `eos_token_id`:50256 for open-end generation.\n",
      "Setting `pad_token_id` to `eos_token_id`:50256 for open-end generation.\n",
      " 55%|██████████████████████▌                  | 229/417 [08:53<03:05,  1.02it/s]Setting `pad_token_id` to `eos_token_id`:50256 for open-end generation.\n",
      " 55%|██████████████████████▌                  | 230/417 [08:56<04:46,  1.53s/it]Setting `pad_token_id` to `eos_token_id`:50256 for open-end generation.\n",
      " 55%|██████████████████████▋                  | 231/417 [09:00<06:57,  2.24s/it]Setting `pad_token_id` to `eos_token_id`:50256 for open-end generation.\n",
      " 56%|██████████████████████▊                  | 232/417 [09:00<05:12,  1.69s/it]Setting `pad_token_id` to `eos_token_id`:50256 for open-end generation.\n",
      " 56%|██████████████████████▉                  | 233/417 [09:05<07:30,  2.45s/it]Setting `pad_token_id` to `eos_token_id`:50256 for open-end generation.\n",
      " 56%|███████████████████████                  | 234/417 [09:05<05:39,  1.86s/it]Setting `pad_token_id` to `eos_token_id`:50256 for open-end generation.\n",
      " 56%|███████████████████████                  | 235/417 [09:07<05:47,  1.91s/it]Setting `pad_token_id` to `eos_token_id`:50256 for open-end generation.\n",
      " 57%|███████████████████████▏                 | 236/417 [09:11<07:13,  2.39s/it]Setting `pad_token_id` to `eos_token_id`:50256 for open-end generation.\n",
      " 57%|███████████████████████▎                 | 237/417 [09:11<05:36,  1.87s/it]Setting `pad_token_id` to `eos_token_id`:50256 for open-end generation.\n",
      " 57%|███████████████████████▍                 | 238/417 [09:12<04:46,  1.60s/it]Setting `pad_token_id` to `eos_token_id`:50256 for open-end generation.\n",
      " 57%|███████████████████████▍                 | 239/417 [09:16<06:17,  2.12s/it]Setting `pad_token_id` to `eos_token_id`:50256 for open-end generation.\n",
      " 58%|███████████████████████▌                 | 240/417 [09:21<09:11,  3.12s/it]Setting `pad_token_id` to `eos_token_id`:50256 for open-end generation.\n",
      " 58%|███████████████████████▋                 | 241/417 [09:22<07:07,  2.43s/it]Setting `pad_token_id` to `eos_token_id`:50256 for open-end generation.\n",
      " 58%|███████████████████████▊                 | 242/417 [09:25<08:01,  2.75s/it]Setting `pad_token_id` to `eos_token_id`:50256 for open-end generation.\n",
      " 58%|███████████████████████▉                 | 243/417 [09:27<06:51,  2.36s/it]Setting `pad_token_id` to `eos_token_id`:50256 for open-end generation.\n",
      " 59%|███████████████████████▉                 | 244/417 [09:32<09:02,  3.14s/it]Setting `pad_token_id` to `eos_token_id`:50256 for open-end generation.\n",
      " 59%|████████████████████████                 | 245/417 [09:33<06:59,  2.44s/it]Setting `pad_token_id` to `eos_token_id`:50256 for open-end generation.\n",
      " 59%|████████████████████████▏                | 246/417 [09:35<07:12,  2.53s/it]Setting `pad_token_id` to `eos_token_id`:50256 for open-end generation.\n",
      " 59%|████████████████████████▎                | 247/417 [09:41<09:52,  3.48s/it]Setting `pad_token_id` to `eos_token_id`:50256 for open-end generation.\n",
      " 59%|████████████████████████▍                | 248/417 [09:42<07:16,  2.58s/it]Setting `pad_token_id` to `eos_token_id`:50256 for open-end generation.\n",
      " 60%|████████████████████████▍                | 249/417 [09:44<07:31,  2.69s/it]Setting `pad_token_id` to `eos_token_id`:50256 for open-end generation.\n",
      " 60%|████████████████████████▌                | 250/417 [09:48<07:57,  2.86s/it]Setting `pad_token_id` to `eos_token_id`:50256 for open-end generation.\n",
      " 60%|████████████████████████▋                | 251/417 [09:55<11:22,  4.11s/it]Setting `pad_token_id` to `eos_token_id`:50256 for open-end generation.\n",
      " 60%|████████████████████████▊                | 252/417 [09:56<08:40,  3.16s/it]Setting `pad_token_id` to `eos_token_id`:50256 for open-end generation.\n",
      " 61%|████████████████████████▉                | 253/417 [09:57<07:06,  2.60s/it]Setting `pad_token_id` to `eos_token_id`:50256 for open-end generation.\n",
      " 61%|████████████████████████▉                | 254/417 [10:00<07:20,  2.71s/it]Setting `pad_token_id` to `eos_token_id`:50256 for open-end generation.\n",
      " 61%|█████████████████████████                | 255/417 [10:02<06:39,  2.47s/it]Setting `pad_token_id` to `eos_token_id`:50256 for open-end generation.\n",
      " 61%|█████████████████████████▏               | 256/417 [10:07<08:42,  3.24s/it]Setting `pad_token_id` to `eos_token_id`:50256 for open-end generation.\n",
      " 62%|█████████████████████████▎               | 257/417 [10:08<07:07,  2.67s/it]Setting `pad_token_id` to `eos_token_id`:50256 for open-end generation.\n",
      " 62%|█████████████████████████▎               | 258/417 [10:09<05:31,  2.08s/it]Setting `pad_token_id` to `eos_token_id`:50256 for open-end generation.\n",
      " 62%|█████████████████████████▍               | 259/417 [10:11<05:27,  2.07s/it]Setting `pad_token_id` to `eos_token_id`:50256 for open-end generation.\n",
      " 62%|█████████████████████████▌               | 260/417 [10:14<06:20,  2.43s/it]Setting `pad_token_id` to `eos_token_id`:50256 for open-end generation.\n",
      " 63%|█████████████████████████▋               | 261/417 [10:18<07:18,  2.81s/it]Setting `pad_token_id` to `eos_token_id`:50256 for open-end generation.\n",
      " 63%|█████████████████████████▊               | 262/417 [10:20<07:04,  2.74s/it]Setting `pad_token_id` to `eos_token_id`:50256 for open-end generation.\n",
      " 63%|█████████████████████████▊               | 263/417 [10:23<06:37,  2.58s/it]Setting `pad_token_id` to `eos_token_id`:50256 for open-end generation.\n",
      " 63%|█████████████████████████▉               | 264/417 [10:26<06:59,  2.74s/it]Setting `pad_token_id` to `eos_token_id`:50256 for open-end generation.\n",
      " 64%|██████████████████████████               | 265/417 [10:27<05:47,  2.28s/it]Setting `pad_token_id` to `eos_token_id`:50256 for open-end generation.\n",
      " 64%|██████████████████████████▏              | 266/417 [10:30<06:07,  2.43s/it]Setting `pad_token_id` to `eos_token_id`:50256 for open-end generation.\n",
      " 64%|██████████████████████████▎              | 267/417 [10:30<04:23,  1.76s/it]Setting `pad_token_id` to `eos_token_id`:50256 for open-end generation.\n",
      " 64%|██████████████████████████▎              | 268/417 [10:31<04:06,  1.66s/it]Setting `pad_token_id` to `eos_token_id`:50256 for open-end generation.\n",
      " 65%|██████████████████████████▍              | 269/417 [10:38<07:48,  3.16s/it]Setting `pad_token_id` to `eos_token_id`:50256 for open-end generation.\n",
      " 65%|██████████████████████████▌              | 270/417 [10:39<05:47,  2.36s/it]Setting `pad_token_id` to `eos_token_id`:50256 for open-end generation.\n",
      " 65%|██████████████████████████▋              | 271/417 [10:43<07:24,  3.05s/it]Setting `pad_token_id` to `eos_token_id`:50256 for open-end generation.\n",
      " 65%|██████████████████████████▋              | 272/417 [10:43<05:19,  2.21s/it]Setting `pad_token_id` to `eos_token_id`:50256 for open-end generation.\n",
      " 65%|██████████████████████████▊              | 273/417 [10:44<04:19,  1.80s/it]Setting `pad_token_id` to `eos_token_id`:50256 for open-end generation.\n",
      " 66%|██████████████████████████▉              | 274/417 [10:46<03:54,  1.64s/it]Setting `pad_token_id` to `eos_token_id`:50256 for open-end generation.\n",
      " 66%|███████████████████████████              | 275/417 [10:47<03:35,  1.52s/it]Setting `pad_token_id` to `eos_token_id`:50256 for open-end generation.\n",
      " 66%|███████████████████████████▏             | 276/417 [10:52<05:54,  2.51s/it]Setting `pad_token_id` to `eos_token_id`:50256 for open-end generation.\n",
      " 66%|███████████████████████████▏             | 277/417 [10:52<04:14,  1.82s/it]Setting `pad_token_id` to `eos_token_id`:50256 for open-end generation.\n",
      " 67%|███████████████████████████▎             | 278/417 [10:55<05:02,  2.18s/it]Setting `pad_token_id` to `eos_token_id`:50256 for open-end generation.\n",
      " 67%|███████████████████████████▍             | 279/417 [11:01<07:29,  3.25s/it]Setting `pad_token_id` to `eos_token_id`:50256 for open-end generation.\n",
      " 67%|███████████████████████████▌             | 280/417 [11:02<06:27,  2.83s/it]Setting `pad_token_id` to `eos_token_id`:50256 for open-end generation.\n",
      " 67%|███████████████████████████▋             | 281/417 [11:03<05:07,  2.26s/it]Setting `pad_token_id` to `eos_token_id`:50256 for open-end generation.\n",
      " 68%|███████████████████████████▋             | 282/417 [11:05<04:28,  1.99s/it]Setting `pad_token_id` to `eos_token_id`:50256 for open-end generation.\n",
      " 68%|███████████████████████████▊             | 283/417 [11:05<03:15,  1.46s/it]Setting `pad_token_id` to `eos_token_id`:50256 for open-end generation.\n",
      " 68%|███████████████████████████▉             | 284/417 [11:05<02:25,  1.09s/it]Setting `pad_token_id` to `eos_token_id`:50256 for open-end generation.\n",
      " 68%|████████████████████████████             | 285/417 [11:07<02:52,  1.31s/it]Setting `pad_token_id` to `eos_token_id`:50256 for open-end generation.\n",
      " 69%|████████████████████████████             | 286/417 [11:13<06:04,  2.78s/it]Setting `pad_token_id` to `eos_token_id`:50256 for open-end generation.\n",
      " 69%|████████████████████████████▏            | 287/417 [11:16<06:10,  2.85s/it]Setting `pad_token_id` to `eos_token_id`:50256 for open-end generation.\n",
      " 69%|████████████████████████████▎            | 288/417 [11:21<07:14,  3.37s/it]Setting `pad_token_id` to `eos_token_id`:50256 for open-end generation.\n",
      " 69%|████████████████████████████▍            | 289/417 [11:22<05:52,  2.75s/it]Setting `pad_token_id` to `eos_token_id`:50256 for open-end generation.\n",
      " 70%|████████████████████████████▌            | 290/417 [11:23<04:18,  2.03s/it]Setting `pad_token_id` to `eos_token_id`:50256 for open-end generation.\n",
      " 70%|████████████████████████████▌            | 291/417 [11:26<05:11,  2.47s/it]Setting `pad_token_id` to `eos_token_id`:50256 for open-end generation.\n",
      " 70%|████████████████████████████▋            | 292/417 [11:28<04:44,  2.28s/it]Setting `pad_token_id` to `eos_token_id`:50256 for open-end generation.\n",
      " 70%|████████████████████████████▊            | 293/417 [11:29<04:08,  2.01s/it]Setting `pad_token_id` to `eos_token_id`:50256 for open-end generation.\n",
      " 71%|████████████████████████████▉            | 294/417 [11:32<04:25,  2.16s/it]Setting `pad_token_id` to `eos_token_id`:50256 for open-end generation.\n",
      " 71%|█████████████████████████████            | 295/417 [11:36<05:44,  2.83s/it]Setting `pad_token_id` to `eos_token_id`:50256 for open-end generation.\n",
      " 71%|█████████████████████████████            | 296/417 [11:38<04:58,  2.47s/it]Setting `pad_token_id` to `eos_token_id`:50256 for open-end generation.\n",
      " 71%|█████████████████████████████▏           | 297/417 [11:39<04:04,  2.03s/it]Setting `pad_token_id` to `eos_token_id`:50256 for open-end generation.\n",
      " 71%|█████████████████████████████▎           | 298/417 [11:40<03:26,  1.73s/it]Setting `pad_token_id` to `eos_token_id`:50256 for open-end generation.\n",
      " 72%|█████████████████████████████▍           | 299/417 [11:44<04:38,  2.36s/it]Setting `pad_token_id` to `eos_token_id`:50256 for open-end generation.\n",
      " 72%|█████████████████████████████▍           | 300/417 [11:44<03:28,  1.79s/it]Setting `pad_token_id` to `eos_token_id`:50256 for open-end generation.\n",
      " 72%|█████████████████████████████▌           | 301/417 [11:44<02:36,  1.35s/it]Setting `pad_token_id` to `eos_token_id`:50256 for open-end generation.\n",
      " 72%|█████████████████████████████▋           | 302/417 [11:47<03:28,  1.81s/it]Setting `pad_token_id` to `eos_token_id`:50256 for open-end generation.\n",
      " 73%|█████████████████████████████▊           | 303/417 [11:48<02:33,  1.34s/it]Setting `pad_token_id` to `eos_token_id`:50256 for open-end generation.\n",
      " 73%|█████████████████████████████▉           | 304/417 [11:52<04:15,  2.26s/it]Setting `pad_token_id` to `eos_token_id`:50256 for open-end generation.\n",
      " 73%|█████████████████████████████▉           | 305/417 [11:53<03:22,  1.80s/it]Setting `pad_token_id` to `eos_token_id`:50256 for open-end generation.\n",
      " 73%|██████████████████████████████           | 306/417 [11:54<03:04,  1.66s/it]Setting `pad_token_id` to `eos_token_id`:50256 for open-end generation.\n",
      " 74%|██████████████████████████████▏          | 307/417 [11:55<02:28,  1.35s/it]Setting `pad_token_id` to `eos_token_id`:50256 for open-end generation.\n",
      " 74%|██████████████████████████████▎          | 308/417 [11:56<02:13,  1.22s/it]Setting `pad_token_id` to `eos_token_id`:50256 for open-end generation.\n",
      " 74%|██████████████████████████████▍          | 309/417 [11:59<03:08,  1.74s/it]Setting `pad_token_id` to `eos_token_id`:50256 for open-end generation.\n",
      " 74%|██████████████████████████████▍          | 310/417 [12:01<03:32,  1.99s/it]Setting `pad_token_id` to `eos_token_id`:50256 for open-end generation.\n",
      " 75%|██████████████████████████████▌          | 311/417 [12:04<03:53,  2.20s/it]Setting `pad_token_id` to `eos_token_id`:50256 for open-end generation.\n",
      " 75%|██████████████████████████████▋          | 312/417 [12:05<03:19,  1.90s/it]Setting `pad_token_id` to `eos_token_id`:50256 for open-end generation.\n",
      " 75%|██████████████████████████████▊          | 313/417 [12:06<02:54,  1.68s/it]Setting `pad_token_id` to `eos_token_id`:50256 for open-end generation.\n",
      " 75%|██████████████████████████████▊          | 314/417 [12:09<03:43,  2.17s/it]Setting `pad_token_id` to `eos_token_id`:50256 for open-end generation.\n",
      " 76%|██████████████████████████████▉          | 315/417 [12:10<02:55,  1.72s/it]Setting `pad_token_id` to `eos_token_id`:50256 for open-end generation.\n",
      " 76%|███████████████████████████████          | 316/417 [12:13<03:19,  1.97s/it]Setting `pad_token_id` to `eos_token_id`:50256 for open-end generation.\n",
      " 76%|███████████████████████████████▏         | 317/417 [12:13<02:27,  1.48s/it]Setting `pad_token_id` to `eos_token_id`:50256 for open-end generation.\n",
      " 76%|███████████████████████████████▎         | 318/417 [12:16<03:02,  1.84s/it]Setting `pad_token_id` to `eos_token_id`:50256 for open-end generation.\n",
      " 76%|███████████████████████████████▎         | 319/417 [12:25<06:46,  4.15s/it]Setting `pad_token_id` to `eos_token_id`:50256 for open-end generation.\n",
      " 77%|███████████████████████████████▍         | 320/417 [12:26<05:00,  3.10s/it]Setting `pad_token_id` to `eos_token_id`:50256 for open-end generation.\n",
      " 77%|███████████████████████████████▌         | 321/417 [12:32<06:18,  3.94s/it]Setting `pad_token_id` to `eos_token_id`:50256 for open-end generation.\n",
      " 77%|███████████████████████████████▋         | 322/417 [12:33<04:50,  3.06s/it]Setting `pad_token_id` to `eos_token_id`:50256 for open-end generation.\n",
      " 77%|███████████████████████████████▊         | 323/417 [12:37<05:23,  3.45s/it]Setting `pad_token_id` to `eos_token_id`:50256 for open-end generation.\n",
      " 78%|███████████████████████████████▊         | 324/417 [12:37<03:51,  2.49s/it]Setting `pad_token_id` to `eos_token_id`:50256 for open-end generation.\n",
      " 78%|███████████████████████████████▉         | 325/417 [12:38<02:56,  1.92s/it]Setting `pad_token_id` to `eos_token_id`:50256 for open-end generation.\n",
      " 78%|████████████████████████████████         | 326/417 [12:38<02:10,  1.43s/it]Setting `pad_token_id` to `eos_token_id`:50256 for open-end generation.\n",
      " 78%|████████████████████████████████▏        | 327/417 [12:39<01:40,  1.12s/it]Setting `pad_token_id` to `eos_token_id`:50256 for open-end generation.\n",
      " 79%|████████████████████████████████▏        | 328/417 [12:40<01:34,  1.07s/it]Setting `pad_token_id` to `eos_token_id`:50256 for open-end generation.\n",
      " 79%|████████████████████████████████▎        | 329/417 [12:43<02:46,  1.89s/it]Setting `pad_token_id` to `eos_token_id`:50256 for open-end generation.\n",
      " 79%|████████████████████████████████▍        | 330/417 [12:48<03:41,  2.55s/it]Setting `pad_token_id` to `eos_token_id`:50256 for open-end generation.\n",
      " 79%|████████████████████████████████▌        | 331/417 [12:50<03:26,  2.40s/it]Setting `pad_token_id` to `eos_token_id`:50256 for open-end generation.\n",
      " 80%|████████████████████████████████▋        | 332/417 [12:56<04:55,  3.48s/it]Setting `pad_token_id` to `eos_token_id`:50256 for open-end generation.\n",
      " 80%|████████████████████████████████▋        | 333/417 [12:57<03:58,  2.84s/it]Setting `pad_token_id` to `eos_token_id`:50256 for open-end generation.\n",
      " 80%|████████████████████████████████▊        | 334/417 [12:59<03:33,  2.57s/it]Setting `pad_token_id` to `eos_token_id`:50256 for open-end generation.\n",
      " 80%|████████████████████████████████▉        | 335/417 [12:59<02:43,  1.99s/it]Setting `pad_token_id` to `eos_token_id`:50256 for open-end generation.\n",
      " 81%|█████████████████████████████████        | 336/417 [13:02<02:44,  2.03s/it]Setting `pad_token_id` to `eos_token_id`:50256 for open-end generation.\n",
      " 81%|█████████████████████████████████▏       | 337/417 [13:02<02:03,  1.54s/it]Setting `pad_token_id` to `eos_token_id`:50256 for open-end generation.\n",
      " 81%|█████████████████████████████████▏       | 338/417 [13:04<02:20,  1.78s/it]Setting `pad_token_id` to `eos_token_id`:50256 for open-end generation.\n",
      " 81%|█████████████████████████████████▎       | 339/417 [13:10<03:55,  3.01s/it]Setting `pad_token_id` to `eos_token_id`:50256 for open-end generation.\n",
      " 82%|█████████████████████████████████▍       | 340/417 [13:12<03:14,  2.53s/it]Setting `pad_token_id` to `eos_token_id`:50256 for open-end generation.\n",
      " 82%|█████████████████████████████████▌       | 341/417 [13:17<04:09,  3.29s/it]Setting `pad_token_id` to `eos_token_id`:50256 for open-end generation.\n",
      " 82%|█████████████████████████████████▋       | 342/417 [13:18<03:18,  2.64s/it]Setting `pad_token_id` to `eos_token_id`:50256 for open-end generation.\n",
      " 82%|█████████████████████████████████▋       | 343/417 [13:21<03:37,  2.94s/it]Setting `pad_token_id` to `eos_token_id`:50256 for open-end generation.\n",
      " 82%|█████████████████████████████████▊       | 344/417 [13:22<02:45,  2.26s/it]Setting `pad_token_id` to `eos_token_id`:50256 for open-end generation.\n",
      " 83%|█████████████████████████████████▉       | 345/417 [13:23<02:08,  1.78s/it]Setting `pad_token_id` to `eos_token_id`:50256 for open-end generation.\n",
      " 83%|██████████████████████████████████       | 346/417 [13:24<01:50,  1.56s/it]Setting `pad_token_id` to `eos_token_id`:50256 for open-end generation.\n",
      " 83%|██████████████████████████████████       | 347/417 [13:28<02:42,  2.32s/it]Setting `pad_token_id` to `eos_token_id`:50256 for open-end generation.\n",
      " 83%|██████████████████████████████████▏      | 348/417 [13:29<02:05,  1.81s/it]Setting `pad_token_id` to `eos_token_id`:50256 for open-end generation.\n",
      " 84%|██████████████████████████████████▎      | 349/417 [13:30<02:04,  1.84s/it]Setting `pad_token_id` to `eos_token_id`:50256 for open-end generation.\n",
      " 84%|██████████████████████████████████▍      | 350/417 [13:31<01:46,  1.59s/it]Setting `pad_token_id` to `eos_token_id`:50256 for open-end generation.\n",
      " 84%|██████████████████████████████████▌      | 351/417 [13:32<01:17,  1.18s/it]Setting `pad_token_id` to `eos_token_id`:50256 for open-end generation.\n",
      " 84%|██████████████████████████████████▌      | 352/417 [13:35<01:54,  1.77s/it]Setting `pad_token_id` to `eos_token_id`:50256 for open-end generation.\n",
      " 85%|██████████████████████████████████▋      | 353/417 [13:35<01:28,  1.39s/it]Setting `pad_token_id` to `eos_token_id`:50256 for open-end generation.\n",
      " 85%|██████████████████████████████████▊      | 354/417 [13:38<01:54,  1.82s/it]Setting `pad_token_id` to `eos_token_id`:50256 for open-end generation.\n",
      " 85%|██████████████████████████████████▉      | 355/417 [13:40<02:00,  1.95s/it]Setting `pad_token_id` to `eos_token_id`:50256 for open-end generation.\n",
      " 85%|███████████████████████████████████      | 356/417 [13:41<01:39,  1.63s/it]Setting `pad_token_id` to `eos_token_id`:50256 for open-end generation.\n",
      " 86%|███████████████████████████████████      | 357/417 [13:43<01:46,  1.77s/it]Setting `pad_token_id` to `eos_token_id`:50256 for open-end generation.\n",
      " 86%|███████████████████████████████████▏     | 358/417 [13:46<01:51,  1.88s/it]Setting `pad_token_id` to `eos_token_id`:50256 for open-end generation.\n",
      " 86%|███████████████████████████████████▎     | 359/417 [13:46<01:20,  1.39s/it]Setting `pad_token_id` to `eos_token_id`:50256 for open-end generation.\n",
      " 86%|███████████████████████████████████▍     | 360/417 [13:46<01:03,  1.12s/it]Setting `pad_token_id` to `eos_token_id`:50256 for open-end generation.\n",
      " 87%|███████████████████████████████████▍     | 361/417 [13:47<00:53,  1.06it/s]Setting `pad_token_id` to `eos_token_id`:50256 for open-end generation.\n",
      " 87%|███████████████████████████████████▌     | 362/417 [13:52<02:10,  2.37s/it]Setting `pad_token_id` to `eos_token_id`:50256 for open-end generation.\n",
      " 87%|███████████████████████████████████▋     | 363/417 [13:56<02:34,  2.85s/it]Setting `pad_token_id` to `eos_token_id`:50256 for open-end generation.\n",
      " 87%|███████████████████████████████████▊     | 364/417 [13:58<02:02,  2.31s/it]Setting `pad_token_id` to `eos_token_id`:50256 for open-end generation.\n",
      " 88%|███████████████████████████████████▉     | 365/417 [13:58<01:37,  1.87s/it]Setting `pad_token_id` to `eos_token_id`:50256 for open-end generation.\n",
      " 88%|███████████████████████████████████▉     | 366/417 [14:01<01:48,  2.12s/it]Setting `pad_token_id` to `eos_token_id`:50256 for open-end generation.\n",
      " 88%|████████████████████████████████████     | 367/417 [14:03<01:44,  2.08s/it]Setting `pad_token_id` to `eos_token_id`:50256 for open-end generation.\n",
      " 88%|████████████████████████████████████▏    | 368/417 [14:04<01:31,  1.86s/it]Setting `pad_token_id` to `eos_token_id`:50256 for open-end generation.\n",
      " 88%|████████████████████████████████████▎    | 369/417 [14:05<01:08,  1.43s/it]Setting `pad_token_id` to `eos_token_id`:50256 for open-end generation.\n",
      " 89%|████████████████████████████████████▍    | 370/417 [14:11<02:12,  2.81s/it]Setting `pad_token_id` to `eos_token_id`:50256 for open-end generation.\n",
      " 89%|████████████████████████████████████▍    | 371/417 [14:13<02:04,  2.70s/it]Setting `pad_token_id` to `eos_token_id`:50256 for open-end generation.\n",
      " 89%|████████████████████████████████████▌    | 372/417 [14:18<02:22,  3.16s/it]Setting `pad_token_id` to `eos_token_id`:50256 for open-end generation.\n",
      " 89%|████████████████████████████████████▋    | 373/417 [14:24<02:58,  4.06s/it]Setting `pad_token_id` to `eos_token_id`:50256 for open-end generation.\n",
      " 90%|████████████████████████████████████▊    | 374/417 [14:25<02:21,  3.28s/it]Setting `pad_token_id` to `eos_token_id`:50256 for open-end generation.\n",
      " 90%|████████████████████████████████████▊    | 375/417 [14:26<01:47,  2.56s/it]Setting `pad_token_id` to `eos_token_id`:50256 for open-end generation.\n",
      " 90%|████████████████████████████████████▉    | 376/417 [14:26<01:18,  1.90s/it]Setting `pad_token_id` to `eos_token_id`:50256 for open-end generation.\n",
      " 90%|█████████████████████████████████████    | 377/417 [14:28<01:16,  1.92s/it]Setting `pad_token_id` to `eos_token_id`:50256 for open-end generation.\n",
      " 91%|█████████████████████████████████████▏   | 378/417 [14:31<01:25,  2.18s/it]Setting `pad_token_id` to `eos_token_id`:50256 for open-end generation.\n",
      " 91%|█████████████████████████████████████▎   | 379/417 [14:34<01:29,  2.36s/it]Setting `pad_token_id` to `eos_token_id`:50256 for open-end generation.\n",
      " 91%|█████████████████████████████████████▎   | 380/417 [14:37<01:32,  2.51s/it]Setting `pad_token_id` to `eos_token_id`:50256 for open-end generation.\n",
      " 91%|█████████████████████████████████████▍   | 381/417 [14:38<01:20,  2.23s/it]Setting `pad_token_id` to `eos_token_id`:50256 for open-end generation.\n",
      " 92%|█████████████████████████████████████▌   | 382/417 [14:41<01:25,  2.43s/it]Setting `pad_token_id` to `eos_token_id`:50256 for open-end generation.\n",
      " 92%|█████████████████████████████████████▋   | 383/417 [14:46<01:43,  3.05s/it]Setting `pad_token_id` to `eos_token_id`:50256 for open-end generation.\n",
      " 92%|█████████████████████████████████████▊   | 384/417 [14:51<02:02,  3.72s/it]Setting `pad_token_id` to `eos_token_id`:50256 for open-end generation.\n",
      " 92%|█████████████████████████████████████▊   | 385/417 [14:54<01:47,  3.37s/it]Setting `pad_token_id` to `eos_token_id`:50256 for open-end generation.\n",
      " 93%|█████████████████████████████████████▉   | 386/417 [14:54<01:17,  2.48s/it]Setting `pad_token_id` to `eos_token_id`:50256 for open-end generation.\n",
      " 93%|██████████████████████████████████████   | 387/417 [14:56<01:07,  2.24s/it]Setting `pad_token_id` to `eos_token_id`:50256 for open-end generation.\n",
      " 93%|██████████████████████████████████████▏  | 388/417 [14:59<01:11,  2.46s/it]Setting `pad_token_id` to `eos_token_id`:50256 for open-end generation.\n",
      " 93%|██████████████████████████████████████▏  | 389/417 [14:59<00:50,  1.80s/it]Setting `pad_token_id` to `eos_token_id`:50256 for open-end generation.\n",
      " 94%|██████████████████████████████████████▎  | 390/417 [15:01<00:50,  1.87s/it]Setting `pad_token_id` to `eos_token_id`:50256 for open-end generation.\n",
      " 94%|██████████████████████████████████████▍  | 391/417 [15:02<00:42,  1.64s/it]Setting `pad_token_id` to `eos_token_id`:50256 for open-end generation.\n",
      " 94%|██████████████████████████████████████▌  | 392/417 [15:12<01:43,  4.13s/it]Setting `pad_token_id` to `eos_token_id`:50256 for open-end generation.\n",
      " 94%|██████████████████████████████████████▋  | 393/417 [15:12<01:11,  2.98s/it]Setting `pad_token_id` to `eos_token_id`:50256 for open-end generation.\n",
      " 94%|██████████████████████████████████████▋  | 394/417 [15:12<00:49,  2.14s/it]Setting `pad_token_id` to `eos_token_id`:50256 for open-end generation.\n",
      " 95%|██████████████████████████████████████▊  | 395/417 [15:17<01:00,  2.76s/it]Setting `pad_token_id` to `eos_token_id`:50256 for open-end generation.\n",
      " 95%|██████████████████████████████████████▉  | 396/417 [15:24<01:28,  4.21s/it]Setting `pad_token_id` to `eos_token_id`:50256 for open-end generation.\n",
      " 95%|███████████████████████████████████████  | 397/417 [15:26<01:08,  3.41s/it]Setting `pad_token_id` to `eos_token_id`:50256 for open-end generation.\n",
      " 95%|███████████████████████████████████████▏ | 398/417 [15:29<01:04,  3.40s/it]Setting `pad_token_id` to `eos_token_id`:50256 for open-end generation.\n",
      " 96%|███████████████████████████████████████▏ | 399/417 [15:32<00:59,  3.31s/it]Setting `pad_token_id` to `eos_token_id`:50256 for open-end generation.\n",
      " 96%|███████████████████████████████████████▎ | 400/417 [15:35<00:51,  3.04s/it]Setting `pad_token_id` to `eos_token_id`:50256 for open-end generation.\n",
      " 96%|███████████████████████████████████████▍ | 401/417 [15:36<00:38,  2.41s/it]Setting `pad_token_id` to `eos_token_id`:50256 for open-end generation.\n",
      " 96%|███████████████████████████████████████▌ | 402/417 [15:36<00:26,  1.78s/it]Setting `pad_token_id` to `eos_token_id`:50256 for open-end generation.\n",
      " 97%|███████████████████████████████████████▌ | 403/417 [15:47<01:05,  4.70s/it]Setting `pad_token_id` to `eos_token_id`:50256 for open-end generation.\n",
      " 97%|███████████████████████████████████████▋ | 404/417 [15:50<00:52,  4.03s/it]Setting `pad_token_id` to `eos_token_id`:50256 for open-end generation.\n",
      "Setting `pad_token_id` to `eos_token_id`:50256 for open-end generation.\n",
      " 97%|███████████████████████████████████████▉ | 406/417 [15:50<00:24,  2.25s/it]Setting `pad_token_id` to `eos_token_id`:50256 for open-end generation.\n",
      " 98%|████████████████████████████████████████ | 407/417 [15:52<00:22,  2.20s/it]Setting `pad_token_id` to `eos_token_id`:50256 for open-end generation.\n",
      " 98%|████████████████████████████████████████ | 408/417 [15:54<00:18,  2.01s/it]Setting `pad_token_id` to `eos_token_id`:50256 for open-end generation.\n",
      " 98%|████████████████████████████████████████▏| 409/417 [15:58<00:19,  2.47s/it]Setting `pad_token_id` to `eos_token_id`:50256 for open-end generation.\n",
      " 98%|████████████████████████████████████████▎| 410/417 [15:58<00:13,  1.86s/it]Setting `pad_token_id` to `eos_token_id`:50256 for open-end generation.\n",
      " 99%|████████████████████████████████████████▍| 411/417 [15:58<00:08,  1.47s/it]Setting `pad_token_id` to `eos_token_id`:50256 for open-end generation.\n",
      " 99%|████████████████████████████████████████▌| 412/417 [15:59<00:06,  1.39s/it]Setting `pad_token_id` to `eos_token_id`:50256 for open-end generation.\n",
      " 99%|████████████████████████████████████████▌| 413/417 [16:03<00:08,  2.13s/it]Setting `pad_token_id` to `eos_token_id`:50256 for open-end generation.\n",
      " 99%|████████████████████████████████████████▋| 414/417 [16:08<00:09,  3.00s/it]Setting `pad_token_id` to `eos_token_id`:50256 for open-end generation.\n",
      "100%|████████████████████████████████████████▊| 415/417 [16:13<00:06,  3.37s/it]Setting `pad_token_id` to `eos_token_id`:50256 for open-end generation.\n",
      "100%|████████████████████████████████████████▉| 416/417 [16:15<00:03,  3.03s/it]Setting `pad_token_id` to `eos_token_id`:50256 for open-end generation.\n",
      "100%|█████████████████████████████████████████| 417/417 [16:20<00:00,  2.35s/it]\n"
     ]
    }
   ],
   "source": [
    "# no_words = 512 # no of words to generate\n",
    "\n",
    "for i in tqdm(range(len(all_first_tokens))):\n",
    "# for i in range(10):\n",
    "    first_words = ' '.join(all_first_tokens[i])\n",
    "    # print(first_words)\n",
    "    prompt = f'''\n",
    "    Instruct: Not coding. Come up with a 1000 word news article about politics. Starting with \"{first_words}\". Output:\n",
    "    '''\n",
    "    model_inputs = tokenizer([prompt], return_tensors=\"pt\").to(device)\n",
    "    generated_ids = model.generate(**model_inputs, **generation_parameters)\n",
    "    generated_ids_without_prompt = generated_ids[0][len(model_inputs['input_ids'][0]):].unsqueeze(0)\n",
    "    output_results = tokenizer.batch_decode(generated_ids_without_prompt, skip_special_tokens=False)[0]\n",
    "    # print(output_results)\n",
    "    fn = f\"result_{i}.txt\"\n",
    "    fp = save_path / fn\n",
    "    with fp.open(\"w\", encoding=\"utf-8\") as f:\n",
    "        f.write(output_results)"
   ]
  },
  {
   "cell_type": "code",
   "execution_count": 9,
   "metadata": {
    "jupyter": {
     "source_hidden": true
    }
   },
   "outputs": [
    {
     "data": {
      "text/plain": [
       "'\"\"\"\\n\\n    text = text_generator.sample(n=512)\\n    print (f\\'generated: {len(text)}\\') <|endoftext|>'"
      ]
     },
     "execution_count": 9,
     "metadata": {},
     "output_type": "execute_result"
    }
   ],
   "source": [
    "output_results"
   ]
  },
  {
   "cell_type": "code",
   "execution_count": null,
   "metadata": {},
   "outputs": [],
   "source": [
    "first_words"
   ]
  },
  {
   "cell_type": "code",
   "execution_count": null,
   "metadata": {},
   "outputs": [],
   "source": []
  },
  {
   "cell_type": "code",
   "execution_count": null,
   "metadata": {},
   "outputs": [],
   "source": []
  }
 ],
 "metadata": {
  "kernelspec": {
   "display_name": "Python 3 (ipykernel)",
   "language": "python",
   "name": "python3"
  },
  "language_info": {
   "codemirror_mode": {
    "name": "ipython",
    "version": 3
   },
   "file_extension": ".py",
   "mimetype": "text/x-python",
   "name": "python",
   "nbconvert_exporter": "python",
   "pygments_lexer": "ipython3",
   "version": "3.10.12"
  }
 },
 "nbformat": 4,
 "nbformat_minor": 4
}
