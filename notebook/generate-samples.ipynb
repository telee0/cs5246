{
 "cells": [
  {
   "cell_type": "markdown",
   "id": "157bca2e-96e0-485a-b970-1e0ed0d81eee",
   "metadata": {},
   "source": [
    "### Install related packages\n",
    "- Visit https://pytorch.org/ to install Pytorch libraries and CUDA 12.1 depending on your OS.\n",
    "- Install the transformers library\n",
    "- Ensure to have at least 16GB of GPU RAM"
   ]
  },
  {
   "cell_type": "code",
   "execution_count": 1,
   "id": "a5c75406-a2d2-4d80-a8f3-422b280c5d79",
   "metadata": {
    "tags": []
   },
   "outputs": [],
   "source": [
    "# !pip install transformers"
   ]
  },
  {
   "cell_type": "markdown",
   "id": "9dbd4f36-0d40-46f9-b967-03a4a0beaaad",
   "metadata": {},
   "source": [
    "### Select the model to generate samples"
   ]
  },
  {
   "cell_type": "code",
   "execution_count": 2,
   "id": "db076612-382f-4013-ae14-12cdde1f89b5",
   "metadata": {
    "tags": []
   },
   "outputs": [],
   "source": [
    "# model_name = \"HuggingFaceH4/zephyr-7b-beta\"\n",
    "# model_name = \"mistralai/Mistral-7B-v0.1\"\n",
    "# model_name = \"microsoft/phi-2\"\n",
    "model_name = \"mistralai/Mistral-7B-Instruct-v0.1\""
   ]
  },
  {
   "cell_type": "code",
   "execution_count": 3,
   "id": "798d2918-a09a-4d0e-b9c9-65aecf8113f7",
   "metadata": {
    "tags": []
   },
   "outputs": [
    {
     "data": {
      "application/vnd.jupyter.widget-view+json": {
       "model_id": "a04e554e94b74a9d964da32f668ab25a",
       "version_major": 2,
       "version_minor": 0
      },
      "text/plain": [
       "Loading checkpoint shards:   0%|          | 0/2 [00:00<?, ?it/s]"
      ]
     },
     "metadata": {},
     "output_type": "display_data"
    }
   ],
   "source": [
    "import torch\n",
    "from transformers import AutoModelForCausalLM, AutoTokenizer\n",
    "device = \"cuda\"\n",
    "\n",
    "model = AutoModelForCausalLM.from_pretrained(model_name, torch_dtype=torch.bfloat16)\n",
    "model.to(device)\n",
    "\n",
    "tokenizer = AutoTokenizer.from_pretrained(model_name)"
   ]
  },
  {
   "cell_type": "code",
   "execution_count": 4,
   "id": "c06ade3d-81a2-46a6-a0ff-1f3eafd6e4ee",
   "metadata": {
    "tags": []
   },
   "outputs": [],
   "source": [
    "no_words = 512 # no of words to generate\n",
    "topics = ['politics', 'riots']\n",
    "topics = ' or '.join(topics)\n",
    "prompt = f'''\n",
    "Generate some article about {topics} in around {no_words} words.\n",
    "'''\n",
    "model_inputs = tokenizer([prompt], return_tensors=\"pt\").to(device)"
   ]
  },
  {
   "cell_type": "code",
   "execution_count": 5,
   "id": "947a3979-ee82-47dc-9ca3-d96ba8d2544b",
   "metadata": {
    "tags": []
   },
   "outputs": [],
   "source": [
    "# Model generation parameters, tweak around max_length and temperature for more creative outputs\n",
    "# https://huggingface.co/docs/transformers/en/main_classes/text_generation#transformers.GenerationConfig\n",
    "generation_parameters = {\n",
    "    \"max_length\": 1024,\n",
    "    \"temperature\": 0.9,\n",
    "    \"top_k\": 10,\n",
    "    \"top_p\": 0.95,\n",
    "    \"repetition_penalty\": 1.2,\n",
    "    \"num_return_sequences\": 1,\n",
    "    \"do_sample\": True,\n",
    "    # \"eos_token_id\": tokenizer.eos_token_id\n",
    "}"
   ]
  },
  {
   "cell_type": "markdown",
   "id": "119df568-fbab-4ff4-bfdd-8138ff72d350",
   "metadata": {},
   "source": [
    "### Generate a sample using the above prompt\n",
    "\n",
    "prompt = \"Generate some article about {topics} in around {no_words} words.\""
   ]
  },
  {
   "cell_type": "code",
   "execution_count": 6,
   "id": "b513628d-46ee-4b21-9308-8e4a0d47d286",
   "metadata": {
    "tags": []
   },
   "outputs": [
    {
     "name": "stderr",
     "output_type": "stream",
     "text": [
      "Setting `pad_token_id` to `eos_token_id`:2 for open-end generation.\n"
     ]
    },
    {
     "data": {
      "text/plain": [
       "\"\\nIn recent years, political instability and violence have become increasingly common around the world. From protests and demonstrations to full-blown riots and civil unrest, these events can be both dangerous and difficult to predict. While politicians and law enforcement officials work hard to maintain order and prevent such incidents from occurring, there are several factors that can contribute to political unrest.\\n\\nOne of the main causes of political instability is economic inequality. When a significant portion of the population struggles to make ends meet while a small group continues to accumulate wealth and power, resentment and anger can quickly build up. This tension can manifest itself in various ways, from peaceful protests to violent attacks on government buildings and other symbols of authority. Economic instability can also lead to social unrest as people struggle to provide for their families and secure their future.\\n\\nAnother factor that can contribute to political instability is corruption. When politicians and government officials are accused of abuse of power or misusing public funds, it can erode trust in the government and create an atmosphere of mistrust and cynicism. In some cases, this can lead to widespread protests and calls for change. Corruption can also undermine the rule of law, making it more difficult for authorities to maintain order and prevent criminal activity.\\n\\nPolitical polarization is another major cause of political instability. When different groups hold strongly opposing views on key issues such as immigration, healthcare, and education, it can be difficult to find common ground and reach consensus. This can lead to heated debates and confrontations, as well as a lack of cooperation and collaboration between different branches of government. Political polarization can also contribute to the spread of fake news and propaganda, which can further inflame tensions and fuel violence.\\n\\nFinally, external factors such as foreign interference and terrorism can also play a role in political instability. When foreign actors meddle in domestic affairs or sponsor extremist groups, it can create an environment of fear and suspicion, leading to increased violence and unrest. Terrorism can also exacerbate existing tensions and divisions within a society, making it harder to address underlying problems and promote stability.\\n\\nWhile political instability and violence can be difficult to predict and prevent, there are steps that governments and policymakers can take to mitigate their impact. One important approach is to address the root causes of these issues by promoting greater economic equality, reducing corruption, and fostering greater dialogue and understanding across different groups. It's also crucial to strengthen institutions such as the judiciary and the media to ensure that they remain independent and effective at holding those in power accountable. Finally, investing in prevention efforts such as conflict resolution and early warning systems can help to identify potential sources of conflict before they escalate into violence.\\n\\nUltimately, preventing political instability and violence requires a concerted effort from all stakeholders – including governments, civil society organizations, and individuals themselves. By working together to address the underlying causes of these challenges, we can help to build more stable and inclusive societies where everyone has the opportunity to thrive.</s>\""
      ]
     },
     "execution_count": 6,
     "metadata": {},
     "output_type": "execute_result"
    }
   ],
   "source": [
    "generated_ids = model.generate(**model_inputs, **generation_parameters)\n",
    "generated_ids_without_prompt = generated_ids[0][len(model_inputs['input_ids'][0]):].unsqueeze(0)\n",
    "tokenizer.batch_decode(generated_ids_without_prompt, skip_special_tokens=False)[0]"
   ]
  }
 ],
 "metadata": {
  "kernelspec": {
   "display_name": "rapids-23.02",
   "language": "python",
   "name": "rapids-23.02"
  },
  "language_info": {
   "codemirror_mode": {
    "name": "ipython",
    "version": 3
   },
   "file_extension": ".py",
   "mimetype": "text/x-python",
   "name": "python",
   "nbconvert_exporter": "python",
   "pygments_lexer": "ipython3",
   "version": "3.8.16"
  }
 },
 "nbformat": 4,
 "nbformat_minor": 5
}
